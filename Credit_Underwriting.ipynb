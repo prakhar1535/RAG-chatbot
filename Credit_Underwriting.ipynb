{
  "nbformat": 4,
  "nbformat_minor": 0,
  "metadata": {
    "colab": {
      "provenance": [],
      "collapsed_sections": [
        "7BgTxrowwc5i",
        "dqTP3dyQwTAz"
      ],
      "include_colab_link": true
    },
    "kernelspec": {
      "name": "python3",
      "display_name": "Python 3"
    },
    "language_info": {
      "name": "python"
    }
  },
  "cells": [
    {
      "cell_type": "markdown",
      "metadata": {
        "id": "view-in-github",
        "colab_type": "text"
      },
      "source": [
        "<a href=\"https://colab.research.google.com/github/prakhar1535/RAG-chatbot/blob/main/Credit_Underwriting.ipynb\" target=\"_parent\"><img src=\"https://colab.research.google.com/assets/colab-badge.svg\" alt=\"Open In Colab\"/></a>"
      ]
    },
    {
      "cell_type": "markdown",
      "source": [
        "# **1.IMPORTING THE LIBRARIES**\n"
      ],
      "metadata": {
        "id": "7BgTxrowwc5i"
      }
    },
    {
      "cell_type": "code",
      "execution_count": null,
      "metadata": {
        "id": "-HgqMWFtv2tx"
      },
      "outputs": [],
      "source": [
        "import pandas as pd\n",
        "import numpy as np\n",
        "import matplotlib.pyplot as plt\n",
        "import seaborn as sns\n",
        "from sklearn.model_selection import train_test_split\n"
      ]
    },
    {
      "cell_type": "markdown",
      "source": [
        "# **2. DATA PREPROCCESING**\n"
      ],
      "metadata": {
        "id": "dqTP3dyQwTAz"
      }
    },
    {
      "cell_type": "code",
      "source": [
        "dataset=pd.read_csv('credit_risk_dataset.csv')\n",
        "print(dataset.head())"
      ],
      "metadata": {
        "id": "xp4iI0HOwjdt",
        "colab": {
          "base_uri": "https://localhost:8080/"
        },
        "outputId": "ade702b0-160e-4dce-ad1a-eb5c1d4b901b"
      },
      "execution_count": null,
      "outputs": [
        {
          "output_type": "stream",
          "name": "stdout",
          "text": [
            "     person_age  person_income person_home_ownership  person_emp_length  \\\n",
            "0            22          59000                  RENT              123.0   \n",
            "1            21           9600                   OWN                5.0   \n",
            "2            25           9600              MORTGAGE                1.0   \n",
            "3            23          65500                  RENT                4.0   \n",
            "4            24          54400                  RENT                8.0   \n",
            "\n",
            "  loan_intent loan_grade  loan_amnt  loan_int_rate  loan_status  \\\n",
            "0    PERSONAL          D      35000          16.02            1   \n",
            "1   EDUCATION          B       1000          11.14            0   \n",
            "2     MEDICAL          C       5500          12.87            1   \n",
            "3     MEDICAL          C      35000          15.23            1   \n",
            "4     MEDICAL          C      35000          14.27            1   \n",
            "\n",
            "   loan_percent_income cb_person_default_on_file  cb_person_cred_hist_length  \n",
            "0                 0.59                         Y                           3  \n",
            "1                 0.10                         N                           2  \n",
            "2                 0.57                         N                           3  \n",
            "3                 0.53                         N                           2  \n",
            "4                 0.55                         Y                           4  \n"
          ]
        }
      ]
    },
    {
      "cell_type": "code",
      "source": [
        "from google.colab import drive\n",
        "drive.mount('/content/drive')"
      ],
      "metadata": {
        "colab": {
          "base_uri": "https://localhost:8080/"
        },
        "id": "x477_bATBNSi",
        "outputId": "be018731-b586-4541-a362-83539eda02b1"
      },
      "execution_count": null,
      "outputs": [
        {
          "output_type": "stream",
          "name": "stdout",
          "text": [
            "Drive already mounted at /content/drive; to attempt to forcibly remount, call drive.mount(\"/content/drive\", force_remount=True).\n"
          ]
        }
      ]
    },
    {
      "cell_type": "code",
      "source": [
        "dataset.shape\n"
      ],
      "metadata": {
        "colab": {
          "base_uri": "https://localhost:8080/"
        },
        "id": "9QfzPvN-bE8U",
        "outputId": "934b31a0-8c6f-4ac0-dc71-fb989c603298"
      },
      "execution_count": null,
      "outputs": [
        {
          "output_type": "execute_result",
          "data": {
            "text/plain": [
              "(32581, 12)"
            ]
          },
          "metadata": {},
          "execution_count": 4
        }
      ]
    },
    {
      "cell_type": "markdown",
      "source": [
        "HANDLING THE DUPLICATE DATA"
      ],
      "metadata": {
        "id": "ASfIfXCMBS75"
      }
    },
    {
      "cell_type": "code",
      "source": [
        "dataset.duplicated().sum()"
      ],
      "metadata": {
        "colab": {
          "base_uri": "https://localhost:8080/"
        },
        "id": "LKNlACyTB5V5",
        "outputId": "23a0eff3-b160-4d55-fd86-7d4c7e03814f"
      },
      "execution_count": null,
      "outputs": [
        {
          "output_type": "execute_result",
          "data": {
            "text/plain": [
              "165"
            ]
          },
          "metadata": {},
          "execution_count": 5
        }
      ]
    },
    {
      "cell_type": "code",
      "source": [
        "dataset.drop_duplicates(inplace=True)\n",
        "dataset.shape"
      ],
      "metadata": {
        "colab": {
          "base_uri": "https://localhost:8080/"
        },
        "id": "mOqV8poNCKZg",
        "outputId": "ad5aceb5-0141-47b7-c9db-c7facbe219d8"
      },
      "execution_count": null,
      "outputs": [
        {
          "output_type": "execute_result",
          "data": {
            "text/plain": [
              "(32416, 12)"
            ]
          },
          "metadata": {},
          "execution_count": 6
        }
      ]
    },
    {
      "cell_type": "markdown",
      "source": [
        "HANDLING THE MISSING VALUES"
      ],
      "metadata": {
        "id": "3JR27p2BAKRA"
      }
    },
    {
      "cell_type": "code",
      "source": [
        "dataset.isnull().sum()"
      ],
      "metadata": {
        "colab": {
          "base_uri": "https://localhost:8080/",
          "height": 460
        },
        "id": "tIaR0CPubKll",
        "outputId": "5f72de25-838d-4e3d-c72f-84caf9821e84"
      },
      "execution_count": null,
      "outputs": [
        {
          "output_type": "execute_result",
          "data": {
            "text/plain": [
              "  person_age                     0\n",
              "person_income                    0\n",
              "person_home_ownership            0\n",
              "person_emp_length              887\n",
              "loan_intent                      0\n",
              "loan_grade                       0\n",
              "loan_amnt                        0\n",
              "loan_int_rate                 3095\n",
              "loan_status                      0\n",
              "loan_percent_income              0\n",
              "cb_person_default_on_file        0\n",
              "cb_person_cred_hist_length       0\n",
              "dtype: int64"
            ],
            "text/html": [
              "<div>\n",
              "<style scoped>\n",
              "    .dataframe tbody tr th:only-of-type {\n",
              "        vertical-align: middle;\n",
              "    }\n",
              "\n",
              "    .dataframe tbody tr th {\n",
              "        vertical-align: top;\n",
              "    }\n",
              "\n",
              "    .dataframe thead th {\n",
              "        text-align: right;\n",
              "    }\n",
              "</style>\n",
              "<table border=\"1\" class=\"dataframe\">\n",
              "  <thead>\n",
              "    <tr style=\"text-align: right;\">\n",
              "      <th></th>\n",
              "      <th>0</th>\n",
              "    </tr>\n",
              "  </thead>\n",
              "  <tbody>\n",
              "    <tr>\n",
              "      <th>person_age</th>\n",
              "      <td>0</td>\n",
              "    </tr>\n",
              "    <tr>\n",
              "      <th>person_income</th>\n",
              "      <td>0</td>\n",
              "    </tr>\n",
              "    <tr>\n",
              "      <th>person_home_ownership</th>\n",
              "      <td>0</td>\n",
              "    </tr>\n",
              "    <tr>\n",
              "      <th>person_emp_length</th>\n",
              "      <td>887</td>\n",
              "    </tr>\n",
              "    <tr>\n",
              "      <th>loan_intent</th>\n",
              "      <td>0</td>\n",
              "    </tr>\n",
              "    <tr>\n",
              "      <th>loan_grade</th>\n",
              "      <td>0</td>\n",
              "    </tr>\n",
              "    <tr>\n",
              "      <th>loan_amnt</th>\n",
              "      <td>0</td>\n",
              "    </tr>\n",
              "    <tr>\n",
              "      <th>loan_int_rate</th>\n",
              "      <td>3095</td>\n",
              "    </tr>\n",
              "    <tr>\n",
              "      <th>loan_status</th>\n",
              "      <td>0</td>\n",
              "    </tr>\n",
              "    <tr>\n",
              "      <th>loan_percent_income</th>\n",
              "      <td>0</td>\n",
              "    </tr>\n",
              "    <tr>\n",
              "      <th>cb_person_default_on_file</th>\n",
              "      <td>0</td>\n",
              "    </tr>\n",
              "    <tr>\n",
              "      <th>cb_person_cred_hist_length</th>\n",
              "      <td>0</td>\n",
              "    </tr>\n",
              "  </tbody>\n",
              "</table>\n",
              "</div><br><label><b>dtype:</b> int64</label>"
            ]
          },
          "metadata": {},
          "execution_count": 7
        }
      ]
    },
    {
      "cell_type": "markdown",
      "source": [
        "PLOTTING THE MISSING VALUES FIGURES TO FIGURE OUT WHICH CENTRAL TENDENCY TO USE"
      ],
      "metadata": {
        "id": "DhMFYc5xPZc9"
      }
    },
    {
      "cell_type": "code",
      "source": [
        "fig,ax=plt.subplots(figsize=(4,4))\n",
        "sns.histplot(dataset.loan_int_rate,kde=True)"
      ],
      "metadata": {
        "id": "_GXr9OeSbSi8",
        "colab": {
          "base_uri": "https://localhost:8080/",
          "height": 410
        },
        "outputId": "06bcfe92-e4b1-404a-f27f-333e323dbdff"
      },
      "execution_count": null,
      "outputs": [
        {
          "output_type": "execute_result",
          "data": {
            "text/plain": [
              "<Axes: xlabel='loan_int_rate', ylabel='Count'>"
            ]
          },
          "metadata": {},
          "execution_count": 8
        },
        {
          "output_type": "display_data",
          "data": {
            "text/plain": [
              "<Figure size 400x400 with 1 Axes>"
            ],
            "image/png": "[encoded data removed]"
          },
          "metadata": {}
        }
      ]
    },
    {
      "cell_type": "code",
      "source": [
        "fig,ax=plt.subplots(figsize=(4,4))\n",
        "sns.histplot(dataset.person_emp_length)"
      ],
      "metadata": {
        "colab": {
          "base_uri": "https://localhost:8080/",
          "height": 405
        },
        "id": "0kK7-X16vBzg",
        "outputId": "328f0f4e-c89b-458c-f673-f61b0f53a617"
      },
      "execution_count": null,
      "outputs": [
        {
          "output_type": "execute_result",
          "data": {
            "text/plain": [
              "<Axes: xlabel='person_emp_length', ylabel='Count'>"
            ]
          },
          "metadata": {},
          "execution_count": 9
        },
        {
          "output_type": "display_data",
          "data": {
            "text/plain": [
              "<Figure size 400x400 with 1 Axes>"
            ],
            "image/png": "[encoded data removed]"
          },
          "metadata": {}
        }
      ]
    },
    {
      "cell_type": "code",
      "source": [
        "#will use median as data is right skewed\n",
        "dataset['loan_int_rate']=dataset['loan_int_rate'].fillna(dataset['loan_int_rate'].median())\n",
        "dataset['person_emp_length']=dataset['person_emp_length'].fillna(dataset['person_emp_length'].median())"
      ],
      "metadata": {
        "id": "DSX6NrOgvgxZ"
      },
      "execution_count": null,
      "outputs": []
    },
    {
      "cell_type": "code",
      "source": [
        "dataset.isnull().sum()"
      ],
      "metadata": {
        "colab": {
          "base_uri": "https://localhost:8080/",
          "height": 460
        },
        "id": "kSgWiVhRxr7T",
        "outputId": "feed8ec1-c516-4860-e65c-ff1a5003f2e7"
      },
      "execution_count": null,
      "outputs": [
        {
          "output_type": "execute_result",
          "data": {
            "text/plain": [
              "  person_age                  0\n",
              "person_income                 0\n",
              "person_home_ownership         0\n",
              "person_emp_length             0\n",
              "loan_intent                   0\n",
              "loan_grade                    0\n",
              "loan_amnt                     0\n",
              "loan_int_rate                 0\n",
              "loan_status                   0\n",
              "loan_percent_income           0\n",
              "cb_person_default_on_file     0\n",
              "cb_person_cred_hist_length    0\n",
              "dtype: int64"
            ],
            "text/html": [
              "<div>\n",
              "<style scoped>\n",
              "    .dataframe tbody tr th:only-of-type {\n",
              "        vertical-align: middle;\n",
              "    }\n",
              "\n",
              "    .dataframe tbody tr th {\n",
              "        vertical-align: top;\n",
              "    }\n",
              "\n",
              "    .dataframe thead th {\n",
              "        text-align: right;\n",
              "    }\n",
              "</style>\n",
              "<table border=\"1\" class=\"dataframe\">\n",
              "  <thead>\n",
              "    <tr style=\"text-align: right;\">\n",
              "      <th></th>\n",
              "      <th>0</th>\n",
              "    </tr>\n",
              "  </thead>\n",
              "  <tbody>\n",
              "    <tr>\n",
              "      <th>person_age</th>\n",
              "      <td>0</td>\n",
              "    </tr>\n",
              "    <tr>\n",
              "      <th>person_income</th>\n",
              "      <td>0</td>\n",
              "    </tr>\n",
              "    <tr>\n",
              "      <th>person_home_ownership</th>\n",
              "      <td>0</td>\n",
              "    </tr>\n",
              "    <tr>\n",
              "      <th>person_emp_length</th>\n",
              "      <td>0</td>\n",
              "    </tr>\n",
              "    <tr>\n",
              "      <th>loan_intent</th>\n",
              "      <td>0</td>\n",
              "    </tr>\n",
              "    <tr>\n",
              "      <th>loan_grade</th>\n",
              "      <td>0</td>\n",
              "    </tr>\n",
              "    <tr>\n",
              "      <th>loan_amnt</th>\n",
              "      <td>0</td>\n",
              "    </tr>\n",
              "    <tr>\n",
              "      <th>loan_int_rate</th>\n",
              "      <td>0</td>\n",
              "    </tr>\n",
              "    <tr>\n",
              "      <th>loan_status</th>\n",
              "      <td>0</td>\n",
              "    </tr>\n",
              "    <tr>\n",
              "      <th>loan_percent_income</th>\n",
              "      <td>0</td>\n",
              "    </tr>\n",
              "    <tr>\n",
              "      <th>cb_person_default_on_file</th>\n",
              "      <td>0</td>\n",
              "    </tr>\n",
              "    <tr>\n",
              "      <th>cb_person_cred_hist_length</th>\n",
              "      <td>0</td>\n",
              "    </tr>\n",
              "  </tbody>\n",
              "</table>\n",
              "</div><br><label><b>dtype:</b> int64</label>"
            ]
          },
          "metadata": {},
          "execution_count": 11
        }
      ]
    },
    {
      "cell_type": "code",
      "source": [
        "dataset['loan_status'].value_counts(normalize=True)*100"
      ],
      "metadata": {
        "colab": {
          "base_uri": "https://localhost:8080/",
          "height": 178
        },
        "id": "iy9C7mDzLuXd",
        "outputId": "13aebc93-6751-410c-ad92-2c974786ded9"
      },
      "execution_count": null,
      "outputs": [
        {
          "output_type": "execute_result",
          "data": {
            "text/plain": [
              "loan_status\n",
              "0    78.13117\n",
              "1    21.86883\n",
              "Name: proportion, dtype: float64"
            ],
            "text/html": [
              "<div>\n",
              "<style scoped>\n",
              "    .dataframe tbody tr th:only-of-type {\n",
              "        vertical-align: middle;\n",
              "    }\n",
              "\n",
              "    .dataframe tbody tr th {\n",
              "        vertical-align: top;\n",
              "    }\n",
              "\n",
              "    .dataframe thead th {\n",
              "        text-align: right;\n",
              "    }\n",
              "</style>\n",
              "<table border=\"1\" class=\"dataframe\">\n",
              "  <thead>\n",
              "    <tr style=\"text-align: right;\">\n",
              "      <th></th>\n",
              "      <th>proportion</th>\n",
              "    </tr>\n",
              "    <tr>\n",
              "      <th>loan_status</th>\n",
              "      <th></th>\n",
              "    </tr>\n",
              "  </thead>\n",
              "  <tbody>\n",
              "    <tr>\n",
              "      <th>0</th>\n",
              "      <td>78.13117</td>\n",
              "    </tr>\n",
              "    <tr>\n",
              "      <th>1</th>\n",
              "      <td>21.86883</td>\n",
              "    </tr>\n",
              "  </tbody>\n",
              "</table>\n",
              "</div><br><label><b>dtype:</b> float64</label>"
            ]
          },
          "metadata": {},
          "execution_count": 12
        }
      ]
    },
    {
      "cell_type": "markdown",
      "source": [
        "We have to split the number of 0's and 1's in equal proportion in our training and test data.\n",
        "For this we use stratify=True."
      ],
      "metadata": {
        "id": "-gDTnCJkMbw8"
      }
    },
    {
      "cell_type": "markdown",
      "source": [
        "SPLITTING INTO TRAINING AND TEST DATA"
      ],
      "metadata": {
        "id": "ISyCWUNiPzIw"
      }
    },
    {
      "cell_type": "code",
      "source": [
        "X_TRAIN,X_TEST,Y_TRAIN,Y_TEST=train_test_split(dataset.drop('loan_status',axis=1),dataset['loan_status'],\n",
        "                                               test_size=0.2,random_state=0,stratify=dataset['loan_status'],\n",
        "                                               shuffle=True)"
      ],
      "metadata": {
        "id": "6OpBOMXOP30-"
      },
      "execution_count": null,
      "outputs": []
    },
    {
      "cell_type": "code",
      "source": [
        "print(X_TRAIN.shape,X_TEST.shape,Y_TRAIN.shape,Y_TEST.shape)"
      ],
      "metadata": {
        "colab": {
          "base_uri": "https://localhost:8080/"
        },
        "id": "Tt2btXMSQfLB",
        "outputId": "ab313452-d209-443d-b578-3390f102e491"
      },
      "execution_count": null,
      "outputs": [
        {
          "output_type": "stream",
          "name": "stdout",
          "text": [
            "(25932, 11) (6484, 11) (25932,) (6484,)\n"
          ]
        }
      ]
    },
    {
      "cell_type": "code",
      "source": [
        "X_TRAIN_PIPE=X_TRAIN.copy()\n",
        "Y_TRAIN_PIPE=Y_TRAIN.copy()\n",
        "X_TEST_PIPE=X_TEST.copy()\n",
        "Y_TEST_PIPE=Y_TEST.copy()"
      ],
      "metadata": {
        "id": "sEI29zLmR97N"
      },
      "execution_count": null,
      "outputs": []
    },
    {
      "cell_type": "code",
      "source": [
        "Y_TRAIN.value_counts(normalize=True)*100\n"
      ],
      "metadata": {
        "colab": {
          "base_uri": "https://localhost:8080/",
          "height": 178
        },
        "id": "0n3fEPYsM3kF",
        "outputId": "d59b16d6-e641-4b44-f205-0aefbeb7489f"
      },
      "execution_count": null,
      "outputs": [
        {
          "output_type": "execute_result",
          "data": {
            "text/plain": [
              "loan_status\n",
              "0    78.131266\n",
              "1    21.868734\n",
              "Name: proportion, dtype: float64"
            ],
            "text/html": [
              "<div>\n",
              "<style scoped>\n",
              "    .dataframe tbody tr th:only-of-type {\n",
              "        vertical-align: middle;\n",
              "    }\n",
              "\n",
              "    .dataframe tbody tr th {\n",
              "        vertical-align: top;\n",
              "    }\n",
              "\n",
              "    .dataframe thead th {\n",
              "        text-align: right;\n",
              "    }\n",
              "</style>\n",
              "<table border=\"1\" class=\"dataframe\">\n",
              "  <thead>\n",
              "    <tr style=\"text-align: right;\">\n",
              "      <th></th>\n",
              "      <th>proportion</th>\n",
              "    </tr>\n",
              "    <tr>\n",
              "      <th>loan_status</th>\n",
              "      <th></th>\n",
              "    </tr>\n",
              "  </thead>\n",
              "  <tbody>\n",
              "    <tr>\n",
              "      <th>0</th>\n",
              "      <td>78.131266</td>\n",
              "    </tr>\n",
              "    <tr>\n",
              "      <th>1</th>\n",
              "      <td>21.868734</td>\n",
              "    </tr>\n",
              "  </tbody>\n",
              "</table>\n",
              "</div><br><label><b>dtype:</b> float64</label>"
            ]
          },
          "metadata": {},
          "execution_count": 16
        }
      ]
    },
    {
      "cell_type": "code",
      "source": [
        "Y_TEST.value_counts(normalize=True)*100\n"
      ],
      "metadata": {
        "colab": {
          "base_uri": "https://localhost:8080/",
          "height": 178
        },
        "id": "SecEnCrfNCPM",
        "outputId": "d175e22a-0730-40b6-f24f-bc1eb1f388a7"
      },
      "execution_count": null,
      "outputs": [
        {
          "output_type": "execute_result",
          "data": {
            "text/plain": [
              "loan_status\n",
              "0    78.130783\n",
              "1    21.869217\n",
              "Name: proportion, dtype: float64"
            ],
            "text/html": [
              "<div>\n",
              "<style scoped>\n",
              "    .dataframe tbody tr th:only-of-type {\n",
              "        vertical-align: middle;\n",
              "    }\n",
              "\n",
              "    .dataframe tbody tr th {\n",
              "        vertical-align: top;\n",
              "    }\n",
              "\n",
              "    .dataframe thead th {\n",
              "        text-align: right;\n",
              "    }\n",
              "</style>\n",
              "<table border=\"1\" class=\"dataframe\">\n",
              "  <thead>\n",
              "    <tr style=\"text-align: right;\">\n",
              "      <th></th>\n",
              "      <th>proportion</th>\n",
              "    </tr>\n",
              "    <tr>\n",
              "      <th>loan_status</th>\n",
              "      <th></th>\n",
              "    </tr>\n",
              "  </thead>\n",
              "  <tbody>\n",
              "    <tr>\n",
              "      <th>0</th>\n",
              "      <td>78.130783</td>\n",
              "    </tr>\n",
              "    <tr>\n",
              "      <th>1</th>\n",
              "      <td>21.869217</td>\n",
              "    </tr>\n",
              "  </tbody>\n",
              "</table>\n",
              "</div><br><label><b>dtype:</b> float64</label>"
            ]
          },
          "metadata": {},
          "execution_count": 17
        }
      ]
    },
    {
      "cell_type": "markdown",
      "source": [
        "**FEATURE EXTRACTION**\n",
        "\n",
        "loan_percent_income=loan_amount/person_income\n",
        "\n",
        "so we can simply drop it."
      ],
      "metadata": {
        "id": "uFhdlWtGu6zA"
      }
    },
    {
      "cell_type": "code",
      "source": [
        "X_TRAIN.drop('loan_percent_income',axis=1,inplace=True)\n",
        "X_TEST.drop('loan_percent_income',axis=1,inplace=True)\n"
      ],
      "metadata": {
        "id": "Cwpt3s8gv9rJ"
      },
      "execution_count": null,
      "outputs": []
    },
    {
      "cell_type": "markdown",
      "source": [
        "Checking for unique values in the column"
      ],
      "metadata": {
        "id": "w61TFM7g6mY1"
      }
    },
    {
      "cell_type": "code",
      "source": [
        "for col in dataset.columns:\n",
        "  print(col,dataset[col].nunique())\n",
        "  print()\n",
        "  if (dataset[col].nunique()<10):\n",
        "    print(dataset[col].value_counts('normalise=True')*100)\n",
        "    print()"
      ],
      "metadata": {
        "colab": {
          "base_uri": "https://localhost:8080/"
        },
        "id": "hi_InILN4XWf",
        "outputId": "c85ece98-9a7a-4638-d84a-bf52d45c9cc3"
      },
      "execution_count": null,
      "outputs": [
        {
          "output_type": "stream",
          "name": "stdout",
          "text": [
            "  person_age 58\n",
            "\n",
            "person_income 4295\n",
            "\n",
            "person_home_ownership 4\n",
            "\n",
            "person_home_ownership\n",
            "RENT        50.524432\n",
            "MORTGAGE    41.241979\n",
            "OWN          7.906589\n",
            "OTHER        0.326999\n",
            "Name: proportion, dtype: float64\n",
            "\n",
            "person_emp_length 36\n",
            "\n",
            "loan_intent 6\n",
            "\n",
            "loan_intent\n",
            "EDUCATION            19.777270\n",
            "MEDICAL              18.638944\n",
            "VENTURE              17.528381\n",
            "PERSONAL             16.960760\n",
            "DEBTCONSOLIDATION    16.007527\n",
            "HOMEIMPROVEMENT      11.087117\n",
            "Name: proportion, dtype: float64\n",
            "\n",
            "loan_grade 7\n",
            "\n",
            "loan_grade\n",
            "A    33.017646\n",
            "B    32.042818\n",
            "C    19.860563\n",
            "D    11.167325\n",
            "E     2.970755\n",
            "F     0.743460\n",
            "G     0.197433\n",
            "Name: proportion, dtype: float64\n",
            "\n",
            "loan_amnt 753\n",
            "\n",
            "loan_int_rate 348\n",
            "\n",
            "loan_status 2\n",
            "\n",
            "loan_status\n",
            "0    78.13117\n",
            "1    21.86883\n",
            "Name: proportion, dtype: float64\n",
            "\n",
            "loan_percent_income 77\n",
            "\n",
            "cb_person_default_on_file 2\n",
            "\n",
            "cb_person_default_on_file\n",
            "N    82.323544\n",
            "Y    17.676456\n",
            "Name: proportion, dtype: float64\n",
            "\n",
            "cb_person_cred_hist_length 29\n",
            "\n"
          ]
        }
      ]
    },
    {
      "cell_type": "markdown",
      "source": [
        "Diffrentiating Categorical Data and numerical Data"
      ],
      "metadata": {
        "id": "Pm48sylqG6FY"
      }
    },
    {
      "cell_type": "code",
      "source": [
        "cat_col=[col for col in X_TRAIN.columns if X_TRAIN[col].dtype=='object']\n",
        "num_col=[col for col in X_TRAIN.columns if X_TRAIN[col].dtype!='object']\n",
        "print(cat_col)\n",
        "print(num_col)"
      ],
      "metadata": {
        "colab": {
          "base_uri": "https://localhost:8080/"
        },
        "id": "YSz4WZkZG7M-",
        "outputId": "85945807-bcbb-494b-cb87-341cf7a06302"
      },
      "execution_count": null,
      "outputs": [
        {
          "output_type": "stream",
          "name": "stdout",
          "text": [
            "['person_home_ownership', 'loan_intent', 'loan_grade', 'cb_person_default_on_file']\n",
            "['  person_age', 'person_income', 'person_emp_length', 'loan_amnt', 'loan_int_rate', 'cb_person_cred_hist_length']\n"
          ]
        }
      ]
    },
    {
      "cell_type": "markdown",
      "source": [
        "SCALING THE DATA"
      ],
      "metadata": {
        "id": "bjJ164wWEYuX"
      }
    },
    {
      "cell_type": "code",
      "source": [
        "from sklearn.preprocessing import StandardScaler\n",
        "scalar=StandardScaler()\n",
        "scalar.fit(X_TRAIN[num_col])\n"
      ],
      "metadata": {
        "colab": {
          "base_uri": "https://localhost:8080/",
          "height": 74
        },
        "id": "XB5fIZNQEgsl",
        "outputId": "b7e13247-5aa6-4db5-dd6a-bd6279b1cbd0"
      },
      "execution_count": null,
      "outputs": [
        {
          "output_type": "execute_result",
          "data": {
            "text/plain": [
              "StandardScaler()"
            ],
            "text/html": [
              "<style>#sk-container-id-1 {color: black;background-color: white;}#sk-container-id-1 pre{padding: 0;}#sk-container-id-1 div.sk-toggleable {background-color: white;}#sk-container-id-1 label.sk-toggleable__label {cursor: pointer;display: block;width: 100%;margin-bottom: 0;padding: 0.3em;box-sizing: border-box;text-align: center;}#sk-container-id-1 label.sk-toggleable__label-arrow:before {content: \"▸\";float: left;margin-right: 0.25em;color: #696969;}#sk-container-id-1 label.sk-toggleable__label-arrow:hover:before {color: black;}#sk-container-id-1 div.sk-estimator:hover label.sk-toggleable__label-arrow:before {color: black;}#sk-container-id-1 div.sk-toggleable__content {max-height: 0;max-width: 0;overflow: hidden;text-align: left;background-color: #f0f8ff;}#sk-container-id-1 div.sk-toggleable__content pre {margin: 0.2em;color: black;border-radius: 0.25em;background-color: #f0f8ff;}#sk-container-id-1 input.sk-toggleable__control:checked~div.sk-toggleable__content {max-height: 200px;max-width: 100%;overflow: auto;}#sk-container-id-1 input.sk-toggleable__control:checked~label.sk-toggleable__label-arrow:before {content: \"▾\";}#sk-container-id-1 div.sk-estimator input.sk-toggleable__control:checked~label.sk-toggleable__label {background-color: #d4ebff;}#sk-container-id-1 div.sk-label input.sk-toggleable__control:checked~label.sk-toggleable__label {background-color: #d4ebff;}#sk-container-id-1 input.sk-hidden--visually {border: 0;clip: rect(1px 1px 1px 1px);clip: rect(1px, 1px, 1px, 1px);height: 1px;margin: -1px;overflow: hidden;padding: 0;position: absolute;width: 1px;}#sk-container-id-1 div.sk-estimator {font-family: monospace;background-color: #f0f8ff;border: 1px dotted black;border-radius: 0.25em;box-sizing: border-box;margin-bottom: 0.5em;}#sk-container-id-1 div.sk-estimator:hover {background-color: #d4ebff;}#sk-container-id-1 div.sk-parallel-item::after {content: \"\";width: 100%;border-bottom: 1px solid gray;flex-grow: 1;}#sk-container-id-1 div.sk-label:hover label.sk-toggleable__label {background-color: #d4ebff;}#sk-container-id-1 div.sk-serial::before {content: \"\";position: absolute;border-left: 1px solid gray;box-sizing: border-box;top: 0;bottom: 0;left: 50%;z-index: 0;}#sk-container-id-1 div.sk-serial {display: flex;flex-direction: column;align-items: center;background-color: white;padding-right: 0.2em;padding-left: 0.2em;position: relative;}#sk-container-id-1 div.sk-item {position: relative;z-index: 1;}#sk-container-id-1 div.sk-parallel {display: flex;align-items: stretch;justify-content: center;background-color: white;position: relative;}#sk-container-id-1 div.sk-item::before, #sk-container-id-1 div.sk-parallel-item::before {content: \"\";position: absolute;border-left: 1px solid gray;box-sizing: border-box;top: 0;bottom: 0;left: 50%;z-index: -1;}#sk-container-id-1 div.sk-parallel-item {display: flex;flex-direction: column;z-index: 1;position: relative;background-color: white;}#sk-container-id-1 div.sk-parallel-item:first-child::after {align-self: flex-end;width: 50%;}#sk-container-id-1 div.sk-parallel-item:last-child::after {align-self: flex-start;width: 50%;}#sk-container-id-1 div.sk-parallel-item:only-child::after {width: 0;}#sk-container-id-1 div.sk-dashed-wrapped {border: 1px dashed gray;margin: 0 0.4em 0.5em 0.4em;box-sizing: border-box;padding-bottom: 0.4em;background-color: white;}#sk-container-id-1 div.sk-label label {font-family: monospace;font-weight: bold;display: inline-block;line-height: 1.2em;}#sk-container-id-1 div.sk-label-container {text-align: center;}#sk-container-id-1 div.sk-container {/* jupyter's `normalize.less` sets `[hidden] { display: none; }` but bootstrap.min.css set `[hidden] { display: none !important; }` so we also need the `!important` here to be able to override the default hidden behavior on the sphinx rendered scikit-learn.org. See: https://github.com/scikit-learn/scikit-learn/issues/21755 */display: inline-block !important;position: relative;}#sk-container-id-1 div.sk-text-repr-fallback {display: none;}</style><div id=\"sk-container-id-1\" class=\"sk-top-container\"><div class=\"sk-text-repr-fallback\"><pre>StandardScaler()</pre><b>In a Jupyter environment, please rerun this cell to show the HTML representation or trust the notebook. <br />On GitHub, the HTML representation is unable to render, please try loading this page with nbviewer.org.</b></div><div class=\"sk-container\" hidden><div class=\"sk-item\"><div class=\"sk-estimator sk-toggleable\"><input class=\"sk-toggleable__control sk-hidden--visually\" id=\"sk-estimator-id-1\" type=\"checkbox\" checked><label for=\"sk-estimator-id-1\" class=\"sk-toggleable__label sk-toggleable__label-arrow\">StandardScaler</label><div class=\"sk-toggleable__content\"><pre>StandardScaler()</pre></div></div></div></div></div>"
            ]
          },
          "metadata": {},
          "execution_count": 21
        }
      ]
    },
    {
      "cell_type": "code",
      "source": [
        "X_TRAIN[num_col]=scalar.transform(X_TRAIN[num_col])\n",
        "X_TEST[num_col]=scalar.transform(X_TEST[num_col])"
      ],
      "metadata": {
        "id": "DuwRc1pyQxfk"
      },
      "execution_count": null,
      "outputs": []
    },
    {
      "cell_type": "code",
      "source": [
        "X_TRAIN[num_col].head()"
      ],
      "metadata": {
        "colab": {
          "base_uri": "https://localhost:8080/",
          "height": 206
        },
        "id": "QOTrsrTRIEmN",
        "outputId": "b5d3c366-9b5e-456e-c4f4-fbd188cf800d"
      },
      "execution_count": null,
      "outputs": [
        {
          "output_type": "execute_result",
          "data": {
            "text/plain": [
              "         person_age  person_income  person_emp_length  loan_amnt  \\\n",
              "21415      0.827121      -0.282597           1.509053   0.061304   \n",
              "12916     -0.426367       0.301579           0.051359  -0.333084   \n",
              "2938      -0.269681       0.933121           1.266104  -1.042982   \n",
              "19114      0.200377      -0.061557          -0.191590  -1.153411   \n",
              "6057      -0.583053      -0.282597          -0.191590  -0.853676   \n",
              "\n",
              "       loan_int_rate  cb_person_cred_hist_length  \n",
              "21415      -0.331616                    0.544526  \n",
              "12916       0.006007                   -0.689366  \n",
              "2938        0.389078                   -0.442587  \n",
              "19114       0.785135                    0.050970  \n",
              "6057        0.317658                   -0.442587  "
            ],
            "text/html": [
              "\n",
              "  <div id=\"df-950eb357-9bec-4022-9a2c-5d7f50b39325\" class=\"colab-df-container\">\n",
              "    <div>\n",
              "<style scoped>\n",
              "    .dataframe tbody tr th:only-of-type {\n",
              "        vertical-align: middle;\n",
              "    }\n",
              "\n",
              "    .dataframe tbody tr th {\n",
              "        vertical-align: top;\n",
              "    }\n",
              "\n",
              "    .dataframe thead th {\n",
              "        text-align: right;\n",
              "    }\n",
              "</style>\n",
              "<table border=\"1\" class=\"dataframe\">\n",
              "  <thead>\n",
              "    <tr style=\"text-align: right;\">\n",
              "      <th></th>\n",
              "      <th>person_age</th>\n",
              "      <th>person_income</th>\n",
              "      <th>person_emp_length</th>\n",
              "      <th>loan_amnt</th>\n",
              "      <th>loan_int_rate</th>\n",
              "      <th>cb_person_cred_hist_length</th>\n",
              "    </tr>\n",
              "  </thead>\n",
              "  <tbody>\n",
              "    <tr>\n",
              "      <th>21415</th>\n",
              "      <td>0.827121</td>\n",
              "      <td>-0.282597</td>\n",
              "      <td>1.509053</td>\n",
              "      <td>0.061304</td>\n",
              "      <td>-0.331616</td>\n",
              "      <td>0.544526</td>\n",
              "    </tr>\n",
              "    <tr>\n",
              "      <th>12916</th>\n",
              "      <td>-0.426367</td>\n",
              "      <td>0.301579</td>\n",
              "      <td>0.051359</td>\n",
              "      <td>-0.333084</td>\n",
              "      <td>0.006007</td>\n",
              "      <td>-0.689366</td>\n",
              "    </tr>\n",
              "    <tr>\n",
              "      <th>2938</th>\n",
              "      <td>-0.269681</td>\n",
              "      <td>0.933121</td>\n",
              "      <td>1.266104</td>\n",
              "      <td>-1.042982</td>\n",
              "      <td>0.389078</td>\n",
              "      <td>-0.442587</td>\n",
              "    </tr>\n",
              "    <tr>\n",
              "      <th>19114</th>\n",
              "      <td>0.200377</td>\n",
              "      <td>-0.061557</td>\n",
              "      <td>-0.191590</td>\n",
              "      <td>-1.153411</td>\n",
              "      <td>0.785135</td>\n",
              "      <td>0.050970</td>\n",
              "    </tr>\n",
              "    <tr>\n",
              "      <th>6057</th>\n",
              "      <td>-0.583053</td>\n",
              "      <td>-0.282597</td>\n",
              "      <td>-0.191590</td>\n",
              "      <td>-0.853676</td>\n",
              "      <td>0.317658</td>\n",
              "      <td>-0.442587</td>\n",
              "    </tr>\n",
              "  </tbody>\n",
              "</table>\n",
              "</div>\n",
              "    <div class=\"colab-df-buttons\">\n",
              "\n",
              "  <div class=\"colab-df-container\">\n",
              "    <button class=\"colab-df-convert\" onclick=\"convertToInteractive('df-950eb357-9bec-4022-9a2c-5d7f50b39325')\"\n",
              "            title=\"Convert this dataframe to an interactive table.\"\n",
              "            style=\"display:none;\">\n",
              "\n",
              "  <svg xmlns=\"http://www.w3.org/2000/svg\" height=\"24px\" viewBox=\"0 -960 960 960\">\n",
              "    <path d=\"M120-120v-720h720v720H120Zm60-500h600v-160H180v160Zm220 220h160v-160H400v160Zm0 220h160v-160H400v160ZM180-400h160v-160H180v160Zm440 0h160v-160H620v160ZM180-180h160v-160H180v160Zm440 0h160v-160H620v160Z\"/>\n",
              "  </svg>\n",
              "    </button>\n",
              "\n",
              "  <style>\n",
              "    .colab-df-container {\n",
              "      display:flex;\n",
              "      gap: 12px;\n",
              "    }\n",
              "\n",
              "    .colab-df-convert {\n",
              "      background-color: #E8F0FE;\n",
              "      border: none;\n",
              "      border-radius: 50%;\n",
              "      cursor: pointer;\n",
              "      display: none;\n",
              "      fill: #1967D2;\n",
              "      height: 32px;\n",
              "      padding: 0 0 0 0;\n",
              "      width: 32px;\n",
              "    }\n",
              "\n",
              "    .colab-df-convert:hover {\n",
              "      background-color: #E2EBFA;\n",
              "      box-shadow: 0px 1px 2px rgba(60, 64, 67, 0.3), 0px 1px 3px 1px rgba(60, 64, 67, 0.15);\n",
              "      fill: #174EA6;\n",
              "    }\n",
              "\n",
              "    .colab-df-buttons div {\n",
              "      margin-bottom: 4px;\n",
              "    }\n",
              "\n",
              "    [theme=dark] .colab-df-convert {\n",
              "      background-color: #3B4455;\n",
              "      fill: #D2E3FC;\n",
              "    }\n",
              "\n",
              "    [theme=dark] .colab-df-convert:hover {\n",
              "      background-color: #434B5C;\n",
              "      box-shadow: 0px 1px 3px 1px rgba(0, 0, 0, 0.15);\n",
              "      filter: drop-shadow(0px 1px 2px rgba(0, 0, 0, 0.3));\n",
              "      fill: #FFFFFF;\n",
              "    }\n",
              "  </style>\n",
              "\n",
              "    <script>\n",
              "      const buttonEl =\n",
              "        document.querySelector('#df-950eb357-9bec-4022-9a2c-5d7f50b39325 button.colab-df-convert');\n",
              "      buttonEl.style.display =\n",
              "        google.colab.kernel.accessAllowed ? 'block' : 'none';\n",
              "\n",
              "      async function convertToInteractive(key) {\n",
              "        const element = document.querySelector('#df-950eb357-9bec-4022-9a2c-5d7f50b39325');\n",
              "        const dataTable =\n",
              "          await google.colab.kernel.invokeFunction('convertToInteractive',\n",
              "                                                    [key], {});\n",
              "        if (!dataTable) return;\n",
              "\n",
              "        const docLinkHtml = 'Like what you see? Visit the ' +\n",
              "          '<a target=\"_blank\" href=https://colab.research.google.com/notebooks/data_table.ipynb>data table notebook</a>'\n",
              "          + ' to learn more about interactive tables.';\n",
              "        element.innerHTML = '';\n",
              "        dataTable['output_type'] = 'display_data';\n",
              "        await google.colab.output.renderOutput(dataTable, element);\n",
              "        const docLink = document.createElement('div');\n",
              "        docLink.innerHTML = docLinkHtml;\n",
              "        element.appendChild(docLink);\n",
              "      }\n",
              "    </script>\n",
              "  </div>\n",
              "\n",
              "\n",
              "<div id=\"df-c5a33643-b50b-444d-94e3-f77f4d3ea0fb\">\n",
              "  <button class=\"colab-df-quickchart\" onclick=\"quickchart('df-c5a33643-b50b-444d-94e3-f77f4d3ea0fb')\"\n",
              "            title=\"Suggest charts\"\n",
              "            style=\"display:none;\">\n",
              "\n",
              "<svg xmlns=\"http://www.w3.org/2000/svg\" height=\"24px\"viewBox=\"0 0 24 24\"\n",
              "     width=\"24px\">\n",
              "    <g>\n",
              "        <path d=\"M19 3H5c-1.1 0-2 .9-2 2v14c0 1.1.9 2 2 2h14c1.1 0 2-.9 2-2V5c0-1.1-.9-2-2-2zM9 17H7v-7h2v7zm4 0h-2V7h2v10zm4 0h-2v-4h2v4z\"/>\n",
              "    </g>\n",
              "</svg>\n",
              "  </button>\n",
              "\n",
              "<style>\n",
              "  .colab-df-quickchart {\n",
              "      --bg-color: #E8F0FE;\n",
              "      --fill-color: #1967D2;\n",
              "      --hover-bg-color: #E2EBFA;\n",
              "      --hover-fill-color: #174EA6;\n",
              "      --disabled-fill-color: #AAA;\n",
              "      --disabled-bg-color: #DDD;\n",
              "  }\n",
              "\n",
              "  [theme=dark] .colab-df-quickchart {\n",
              "      --bg-color: #3B4455;\n",
              "      --fill-color: #D2E3FC;\n",
              "      --hover-bg-color: #434B5C;\n",
              "      --hover-fill-color: #FFFFFF;\n",
              "      --disabled-bg-color: #3B4455;\n",
              "      --disabled-fill-color: #666;\n",
              "  }\n",
              "\n",
              "  .colab-df-quickchart {\n",
              "    background-color: var(--bg-color);\n",
              "    border: none;\n",
              "    border-radius: 50%;\n",
              "    cursor: pointer;\n",
              "    display: none;\n",
              "    fill: var(--fill-color);\n",
              "    height: 32px;\n",
              "    padding: 0;\n",
              "    width: 32px;\n",
              "  }\n",
              "\n",
              "  .colab-df-quickchart:hover {\n",
              "    background-color: var(--hover-bg-color);\n",
              "    box-shadow: 0 1px 2px rgba(60, 64, 67, 0.3), 0 1px 3px 1px rgba(60, 64, 67, 0.15);\n",
              "    fill: var(--button-hover-fill-color);\n",
              "  }\n",
              "\n",
              "  .colab-df-quickchart-complete:disabled,\n",
              "  .colab-df-quickchart-complete:disabled:hover {\n",
              "    background-color: var(--disabled-bg-color);\n",
              "    fill: var(--disabled-fill-color);\n",
              "    box-shadow: none;\n",
              "  }\n",
              "\n",
              "  .colab-df-spinner {\n",
              "    border: 2px solid var(--fill-color);\n",
              "    border-color: transparent;\n",
              "    border-bottom-color: var(--fill-color);\n",
              "    animation:\n",
              "      spin 1s steps(1) infinite;\n",
              "  }\n",
              "\n",
              "  @keyframes spin {\n",
              "    0% {\n",
              "      border-color: transparent;\n",
              "      border-bottom-color: var(--fill-color);\n",
              "      border-left-color: var(--fill-color);\n",
              "    }\n",
              "    20% {\n",
              "      border-color: transparent;\n",
              "      border-left-color: var(--fill-color);\n",
              "      border-top-color: var(--fill-color);\n",
              "    }\n",
              "    30% {\n",
              "      border-color: transparent;\n",
              "      border-left-color: var(--fill-color);\n",
              "      border-top-color: var(--fill-color);\n",
              "      border-right-color: var(--fill-color);\n",
              "    }\n",
              "    40% {\n",
              "      border-color: transparent;\n",
              "      border-right-color: var(--fill-color);\n",
              "      border-top-color: var(--fill-color);\n",
              "    }\n",
              "    60% {\n",
              "      border-color: transparent;\n",
              "      border-right-color: var(--fill-color);\n",
              "    }\n",
              "    80% {\n",
              "      border-color: transparent;\n",
              "      border-right-color: var(--fill-color);\n",
              "      border-bottom-color: var(--fill-color);\n",
              "    }\n",
              "    90% {\n",
              "      border-color: transparent;\n",
              "      border-bottom-color: var(--fill-color);\n",
              "    }\n",
              "  }\n",
              "</style>\n",
              "\n",
              "  <script>\n",
              "    async function quickchart(key) {\n",
              "      const quickchartButtonEl =\n",
              "        document.querySelector('#' + key + ' button');\n",
              "      quickchartButtonEl.disabled = true;  // To prevent multiple clicks.\n",
              "      quickchartButtonEl.classList.add('colab-df-spinner');\n",
              "      try {\n",
              "        const charts = await google.colab.kernel.invokeFunction(\n",
              "            'suggestCharts', [key], {});\n",
              "      } catch (error) {\n",
              "        console.error('Error during call to suggestCharts:', error);\n",
              "      }\n",
              "      quickchartButtonEl.classList.remove('colab-df-spinner');\n",
              "      quickchartButtonEl.classList.add('colab-df-quickchart-complete');\n",
              "    }\n",
              "    (() => {\n",
              "      let quickchartButtonEl =\n",
              "        document.querySelector('#df-c5a33643-b50b-444d-94e3-f77f4d3ea0fb button');\n",
              "      quickchartButtonEl.style.display =\n",
              "        google.colab.kernel.accessAllowed ? 'block' : 'none';\n",
              "    })();\n",
              "  </script>\n",
              "</div>\n",
              "\n",
              "    </div>\n",
              "  </div>\n"
            ],
            "application/vnd.google.colaboratory.intrinsic+json": {
              "type": "dataframe",
              "summary": "{\n  \"name\": \"X_TRAIN[num_col]\",\n  \"rows\": 5,\n  \"fields\": [\n    {\n      \"column\": \"  person_age\",\n      \"properties\": {\n        \"dtype\": \"number\",\n        \"std\": 0.5714210248319211,\n        \"min\": -0.5830532145391366,\n        \"max\": 0.8271214399564438,\n        \"num_unique_values\": 5,\n        \"samples\": [\n          -0.4263671418174054,\n          -0.5830532145391366,\n          -0.2696810690956743\n        ],\n        \"semantic_type\": \"\",\n        \"description\": \"\"\n      }\n    },\n    {\n      \"column\": \"person_income\",\n      \"properties\": {\n        \"dtype\": \"number\",\n        \"std\": 0.5126535757979349,\n        \"min\": -0.28259651495450455,\n        \"max\": 0.9331208298254922,\n        \"num_unique_values\": 4,\n        \"samples\": [\n          0.30157935201770164,\n          -0.061556997721777904,\n          -0.28259651495450455\n        ],\n        \"semantic_type\": \"\",\n        \"description\": \"\"\n      }\n    },\n    {\n      \"column\": \"person_emp_length\",\n      \"properties\": {\n        \"dtype\": \"number\",\n        \"std\": 0.8310134226534246,\n        \"min\": -0.1915898101922957,\n        \"max\": 1.5090531582842956,\n        \"num_unique_values\": 4,\n        \"samples\": [\n          0.051359185304360185,\n          -0.1915898101922957,\n          1.5090531582842956\n        ],\n        \"semantic_type\": \"\",\n        \"description\": \"\"\n      }\n    },\n    {\n      \"column\": \"loan_amnt\",\n      \"properties\": {\n        \"dtype\": \"number\",\n        \"std\": 0.5134928063577179,\n        \"min\": -1.153411140571431,\n        \"max\": 0.061304458127071734,\n        \"num_unique_values\": 5,\n        \"samples\": [\n          -0.333083723268546,\n          -0.8536761227107615,\n          -1.0429824497806581\n        ],\n        \"semantic_type\": \"\",\n        \"description\": \"\"\n      }\n    },\n    {\n      \"column\": \"loan_int_rate\",\n      \"properties\": {\n        \"dtype\": \"number\",\n        \"std\": 0.42032626520572464,\n        \"min\": -0.33161560481699137,\n        \"max\": 0.7851348689581723,\n        \"num_unique_values\": 5,\n        \"samples\": [\n          0.006006631440616014,\n          0.31765792644763874,\n          0.38907801488674826\n        ],\n        \"semantic_type\": \"\",\n        \"description\": \"\"\n      }\n    },\n    {\n      \"column\": \"cb_person_cred_hist_length\",\n      \"properties\": {\n        \"dtype\": \"number\",\n        \"std\": 0.49355679003233444,\n        \"min\": -0.6893655304246163,\n        \"max\": 0.5445264446562198,\n        \"num_unique_values\": 4,\n        \"samples\": [\n          -0.6893655304246163,\n          0.05096965462388533,\n          0.5445264446562198\n        ],\n        \"semantic_type\": \"\",\n        \"description\": \"\"\n      }\n    }\n  ]\n}"
            }
          },
          "metadata": {},
          "execution_count": 23
        }
      ]
    },
    {
      "cell_type": "code",
      "source": [
        "X_TEST[num_col].head()"
      ],
      "metadata": {
        "colab": {
          "base_uri": "https://localhost:8080/",
          "height": 206
        },
        "id": "n4tI0HtCIJxi",
        "outputId": "16b62284-e232-48ed-8ca0-2c3eba0330ae"
      },
      "execution_count": null,
      "outputs": [
        {
          "output_type": "execute_result",
          "data": {
            "text/plain": [
              "         person_age  person_income  person_emp_length  loan_amnt  \\\n",
              "31162      2.550668       0.222637           2.237900   0.061304   \n",
              "17831     -0.583053      -0.440482          -1.163386   0.376815   \n",
              "21226      0.827121       0.756289           0.780206  -0.727472   \n",
              "8789      -0.896425      -0.093134          -0.677488  -0.964105   \n",
              "5717      -0.739739      -0.440482          -0.920437  -0.695921   \n",
              "\n",
              "       loan_int_rate  cb_person_cred_hist_length  \n",
              "31162      -1.617177                    2.271975  \n",
              "17831       0.285194                   -0.689366  \n",
              "21226       0.265716                    0.791305  \n",
              "8789       -0.331616                   -0.936144  \n",
              "5717       -1.016599                   -0.689366  "
            ],
            "text/html": [
              "\n",
              "  <div id=\"df-ebd9eb51-ab62-4586-85ee-7cad73d9a5f9\" class=\"colab-df-container\">\n",
              "    <div>\n",
              "<style scoped>\n",
              "    .dataframe tbody tr th:only-of-type {\n",
              "        vertical-align: middle;\n",
              "    }\n",
              "\n",
              "    .dataframe tbody tr th {\n",
              "        vertical-align: top;\n",
              "    }\n",
              "\n",
              "    .dataframe thead th {\n",
              "        text-align: right;\n",
              "    }\n",
              "</style>\n",
              "<table border=\"1\" class=\"dataframe\">\n",
              "  <thead>\n",
              "    <tr style=\"text-align: right;\">\n",
              "      <th></th>\n",
              "      <th>person_age</th>\n",
              "      <th>person_income</th>\n",
              "      <th>person_emp_length</th>\n",
              "      <th>loan_amnt</th>\n",
              "      <th>loan_int_rate</th>\n",
              "      <th>cb_person_cred_hist_length</th>\n",
              "    </tr>\n",
              "  </thead>\n",
              "  <tbody>\n",
              "    <tr>\n",
              "      <th>31162</th>\n",
              "      <td>2.550668</td>\n",
              "      <td>0.222637</td>\n",
              "      <td>2.237900</td>\n",
              "      <td>0.061304</td>\n",
              "      <td>-1.617177</td>\n",
              "      <td>2.271975</td>\n",
              "    </tr>\n",
              "    <tr>\n",
              "      <th>17831</th>\n",
              "      <td>-0.583053</td>\n",
              "      <td>-0.440482</td>\n",
              "      <td>-1.163386</td>\n",
              "      <td>0.376815</td>\n",
              "      <td>0.285194</td>\n",
              "      <td>-0.689366</td>\n",
              "    </tr>\n",
              "    <tr>\n",
              "      <th>21226</th>\n",
              "      <td>0.827121</td>\n",
              "      <td>0.756289</td>\n",
              "      <td>0.780206</td>\n",
              "      <td>-0.727472</td>\n",
              "      <td>0.265716</td>\n",
              "      <td>0.791305</td>\n",
              "    </tr>\n",
              "    <tr>\n",
              "      <th>8789</th>\n",
              "      <td>-0.896425</td>\n",
              "      <td>-0.093134</td>\n",
              "      <td>-0.677488</td>\n",
              "      <td>-0.964105</td>\n",
              "      <td>-0.331616</td>\n",
              "      <td>-0.936144</td>\n",
              "    </tr>\n",
              "    <tr>\n",
              "      <th>5717</th>\n",
              "      <td>-0.739739</td>\n",
              "      <td>-0.440482</td>\n",
              "      <td>-0.920437</td>\n",
              "      <td>-0.695921</td>\n",
              "      <td>-1.016599</td>\n",
              "      <td>-0.689366</td>\n",
              "    </tr>\n",
              "  </tbody>\n",
              "</table>\n",
              "</div>\n",
              "    <div class=\"colab-df-buttons\">\n",
              "\n",
              "  <div class=\"colab-df-container\">\n",
              "    <button class=\"colab-df-convert\" onclick=\"convertToInteractive('df-ebd9eb51-ab62-4586-85ee-7cad73d9a5f9')\"\n",
              "            title=\"Convert this dataframe to an interactive table.\"\n",
              "            style=\"display:none;\">\n",
              "\n",
              "  <svg xmlns=\"http://www.w3.org/2000/svg\" height=\"24px\" viewBox=\"0 -960 960 960\">\n",
              "    <path d=\"M120-120v-720h720v720H120Zm60-500h600v-160H180v160Zm220 220h160v-160H400v160Zm0 220h160v-160H400v160ZM180-400h160v-160H180v160Zm440 0h160v-160H620v160ZM180-180h160v-160H180v160Zm440 0h160v-160H620v160Z\"/>\n",
              "  </svg>\n",
              "    </button>\n",
              "\n",
              "  <style>\n",
              "    .colab-df-container {\n",
              "      display:flex;\n",
              "      gap: 12px;\n",
              "    }\n",
              "\n",
              "    .colab-df-convert {\n",
              "      background-color: #E8F0FE;\n",
              "      border: none;\n",
              "      border-radius: 50%;\n",
              "      cursor: pointer;\n",
              "      display: none;\n",
              "      fill: #1967D2;\n",
              "      height: 32px;\n",
              "      padding: 0 0 0 0;\n",
              "      width: 32px;\n",
              "    }\n",
              "\n",
              "    .colab-df-convert:hover {\n",
              "      background-color: #E2EBFA;\n",
              "      box-shadow: 0px 1px 2px rgba(60, 64, 67, 0.3), 0px 1px 3px 1px rgba(60, 64, 67, 0.15);\n",
              "      fill: #174EA6;\n",
              "    }\n",
              "\n",
              "    .colab-df-buttons div {\n",
              "      margin-bottom: 4px;\n",
              "    }\n",
              "\n",
              "    [theme=dark] .colab-df-convert {\n",
              "      background-color: #3B4455;\n",
              "      fill: #D2E3FC;\n",
              "    }\n",
              "\n",
              "    [theme=dark] .colab-df-convert:hover {\n",
              "      background-color: #434B5C;\n",
              "      box-shadow: 0px 1px 3px 1px rgba(0, 0, 0, 0.15);\n",
              "      filter: drop-shadow(0px 1px 2px rgba(0, 0, 0, 0.3));\n",
              "      fill: #FFFFFF;\n",
              "    }\n",
              "  </style>\n",
              "\n",
              "    <script>\n",
              "      const buttonEl =\n",
              "        document.querySelector('#df-ebd9eb51-ab62-4586-85ee-7cad73d9a5f9 button.colab-df-convert');\n",
              "      buttonEl.style.display =\n",
              "        google.colab.kernel.accessAllowed ? 'block' : 'none';\n",
              "\n",
              "      async function convertToInteractive(key) {\n",
              "        const element = document.querySelector('#df-ebd9eb51-ab62-4586-85ee-7cad73d9a5f9');\n",
              "        const dataTable =\n",
              "          await google.colab.kernel.invokeFunction('convertToInteractive',\n",
              "                                                    [key], {});\n",
              "        if (!dataTable) return;\n",
              "\n",
              "        const docLinkHtml = 'Like what you see? Visit the ' +\n",
              "          '<a target=\"_blank\" href=https://colab.research.google.com/notebooks/data_table.ipynb>data table notebook</a>'\n",
              "          + ' to learn more about interactive tables.';\n",
              "        element.innerHTML = '';\n",
              "        dataTable['output_type'] = 'display_data';\n",
              "        await google.colab.output.renderOutput(dataTable, element);\n",
              "        const docLink = document.createElement('div');\n",
              "        docLink.innerHTML = docLinkHtml;\n",
              "        element.appendChild(docLink);\n",
              "      }\n",
              "    </script>\n",
              "  </div>\n",
              "\n",
              "\n",
              "<div id=\"df-2ab11962-b15d-4b06-bee7-f4c237241891\">\n",
              "  <button class=\"colab-df-quickchart\" onclick=\"quickchart('df-2ab11962-b15d-4b06-bee7-f4c237241891')\"\n",
              "            title=\"Suggest charts\"\n",
              "            style=\"display:none;\">\n",
              "\n",
              "<svg xmlns=\"http://www.w3.org/2000/svg\" height=\"24px\"viewBox=\"0 0 24 24\"\n",
              "     width=\"24px\">\n",
              "    <g>\n",
              "        <path d=\"M19 3H5c-1.1 0-2 .9-2 2v14c0 1.1.9 2 2 2h14c1.1 0 2-.9 2-2V5c0-1.1-.9-2-2-2zM9 17H7v-7h2v7zm4 0h-2V7h2v10zm4 0h-2v-4h2v4z\"/>\n",
              "    </g>\n",
              "</svg>\n",
              "  </button>\n",
              "\n",
              "<style>\n",
              "  .colab-df-quickchart {\n",
              "      --bg-color: #E8F0FE;\n",
              "      --fill-color: #1967D2;\n",
              "      --hover-bg-color: #E2EBFA;\n",
              "      --hover-fill-color: #174EA6;\n",
              "      --disabled-fill-color: #AAA;\n",
              "      --disabled-bg-color: #DDD;\n",
              "  }\n",
              "\n",
              "  [theme=dark] .colab-df-quickchart {\n",
              "      --bg-color: #3B4455;\n",
              "      --fill-color: #D2E3FC;\n",
              "      --hover-bg-color: #434B5C;\n",
              "      --hover-fill-color: #FFFFFF;\n",
              "      --disabled-bg-color: #3B4455;\n",
              "      --disabled-fill-color: #666;\n",
              "  }\n",
              "\n",
              "  .colab-df-quickchart {\n",
              "    background-color: var(--bg-color);\n",
              "    border: none;\n",
              "    border-radius: 50%;\n",
              "    cursor: pointer;\n",
              "    display: none;\n",
              "    fill: var(--fill-color);\n",
              "    height: 32px;\n",
              "    padding: 0;\n",
              "    width: 32px;\n",
              "  }\n",
              "\n",
              "  .colab-df-quickchart:hover {\n",
              "    background-color: var(--hover-bg-color);\n",
              "    box-shadow: 0 1px 2px rgba(60, 64, 67, 0.3), 0 1px 3px 1px rgba(60, 64, 67, 0.15);\n",
              "    fill: var(--button-hover-fill-color);\n",
              "  }\n",
              "\n",
              "  .colab-df-quickchart-complete:disabled,\n",
              "  .colab-df-quickchart-complete:disabled:hover {\n",
              "    background-color: var(--disabled-bg-color);\n",
              "    fill: var(--disabled-fill-color);\n",
              "    box-shadow: none;\n",
              "  }\n",
              "\n",
              "  .colab-df-spinner {\n",
              "    border: 2px solid var(--fill-color);\n",
              "    border-color: transparent;\n",
              "    border-bottom-color: var(--fill-color);\n",
              "    animation:\n",
              "      spin 1s steps(1) infinite;\n",
              "  }\n",
              "\n",
              "  @keyframes spin {\n",
              "    0% {\n",
              "      border-color: transparent;\n",
              "      border-bottom-color: var(--fill-color);\n",
              "      border-left-color: var(--fill-color);\n",
              "    }\n",
              "    20% {\n",
              "      border-color: transparent;\n",
              "      border-left-color: var(--fill-color);\n",
              "      border-top-color: var(--fill-color);\n",
              "    }\n",
              "    30% {\n",
              "      border-color: transparent;\n",
              "      border-left-color: var(--fill-color);\n",
              "      border-top-color: var(--fill-color);\n",
              "      border-right-color: var(--fill-color);\n",
              "    }\n",
              "    40% {\n",
              "      border-color: transparent;\n",
              "      border-right-color: var(--fill-color);\n",
              "      border-top-color: var(--fill-color);\n",
              "    }\n",
              "    60% {\n",
              "      border-color: transparent;\n",
              "      border-right-color: var(--fill-color);\n",
              "    }\n",
              "    80% {\n",
              "      border-color: transparent;\n",
              "      border-right-color: var(--fill-color);\n",
              "      border-bottom-color: var(--fill-color);\n",
              "    }\n",
              "    90% {\n",
              "      border-color: transparent;\n",
              "      border-bottom-color: var(--fill-color);\n",
              "    }\n",
              "  }\n",
              "</style>\n",
              "\n",
              "  <script>\n",
              "    async function quickchart(key) {\n",
              "      const quickchartButtonEl =\n",
              "        document.querySelector('#' + key + ' button');\n",
              "      quickchartButtonEl.disabled = true;  // To prevent multiple clicks.\n",
              "      quickchartButtonEl.classList.add('colab-df-spinner');\n",
              "      try {\n",
              "        const charts = await google.colab.kernel.invokeFunction(\n",
              "            'suggestCharts', [key], {});\n",
              "      } catch (error) {\n",
              "        console.error('Error during call to suggestCharts:', error);\n",
              "      }\n",
              "      quickchartButtonEl.classList.remove('colab-df-spinner');\n",
              "      quickchartButtonEl.classList.add('colab-df-quickchart-complete');\n",
              "    }\n",
              "    (() => {\n",
              "      let quickchartButtonEl =\n",
              "        document.querySelector('#df-2ab11962-b15d-4b06-bee7-f4c237241891 button');\n",
              "      quickchartButtonEl.style.display =\n",
              "        google.colab.kernel.accessAllowed ? 'block' : 'none';\n",
              "    })();\n",
              "  </script>\n",
              "</div>\n",
              "\n",
              "    </div>\n",
              "  </div>\n"
            ],
            "application/vnd.google.colaboratory.intrinsic+json": {
              "type": "dataframe",
              "summary": "{\n  \"name\": \"X_TEST[num_col]\",\n  \"rows\": 5,\n  \"fields\": [\n    {\n      \"column\": \"  person_age\",\n      \"properties\": {\n        \"dtype\": \"number\",\n        \"std\": 1.4673380920091181,\n        \"min\": -0.8964253599825989,\n        \"max\": 2.5506682398954865,\n        \"num_unique_values\": 5,\n        \"samples\": [\n          -0.5830532145391366,\n          -0.7397392872608678,\n          0.8271214399564438\n        ],\n        \"semantic_type\": \"\",\n        \"description\": \"\"\n      }\n    },\n    {\n      \"column\": \"person_income\",\n      \"properties\": {\n        \"dtype\": \"number\",\n        \"std\": 0.5045439371838792,\n        \"min\": -0.4404818844064522,\n        \"max\": 0.7562892160393108,\n        \"num_unique_values\": 4,\n        \"samples\": [\n          -0.4404818844064522,\n          -0.09313407161216743,\n          0.22263666729172782\n        ],\n        \"semantic_type\": \"\",\n        \"description\": \"\"\n      }\n    },\n    {\n      \"column\": \"person_emp_length\",\n      \"properties\": {\n        \"dtype\": \"number\",\n        \"std\": 1.4373056405821256,\n        \"min\": -1.1633857921789192,\n        \"max\": 2.237900144774263,\n        \"num_unique_values\": 5,\n        \"samples\": [\n          -1.1633857921789192,\n          -0.9204367966822634,\n          0.7802061717943278\n        ],\n        \"semantic_type\": \"\",\n        \"description\": \"\"\n      }\n    },\n    {\n      \"column\": \"loan_amnt\",\n      \"properties\": {\n        \"dtype\": \"number\",\n        \"std\": 0.5763575443368321,\n        \"min\": -0.9641048135015344,\n        \"max\": 0.3768150032435659,\n        \"num_unique_values\": 5,\n        \"samples\": [\n          0.3768150032435659,\n          -0.6959208501525144,\n          -0.7274719046641638\n        ],\n        \"semantic_type\": \"\",\n        \"description\": \"\"\n      }\n    },\n    {\n      \"column\": \"loan_int_rate\",\n      \"properties\": {\n        \"dtype\": \"number\",\n        \"std\": 0.8283570033768167,\n        \"min\": -1.617177196720959,\n        \"max\": 0.2851942498844074,\n        \"num_unique_values\": 5,\n        \"samples\": [\n          0.2851942498844074,\n          -1.0165991803011762,\n          0.2657160439464683\n        ],\n        \"semantic_type\": \"\",\n        \"description\": \"\"\n      }\n    },\n    {\n      \"column\": \"cb_person_cred_hist_length\",\n      \"properties\": {\n        \"dtype\": \"number\",\n        \"std\": 1.3695645104923202,\n        \"min\": -0.9361439254407836,\n        \"max\": 2.2719752097693906,\n        \"num_unique_values\": 4,\n        \"samples\": [\n          -0.6893655304246163,\n          -0.9361439254407836,\n          2.2719752097693906\n        ],\n        \"semantic_type\": \"\",\n        \"description\": \"\"\n      }\n    }\n  ]\n}"
            }
          },
          "metadata": {},
          "execution_count": 24
        }
      ]
    },
    {
      "cell_type": "markdown",
      "source": [
        "NOW ENCODING CATEGORICAL DATA INTO NUMERICAL DATA"
      ],
      "metadata": {
        "id": "rgrtrbtIJzo0"
      }
    },
    {
      "cell_type": "code",
      "source": [
        "from sklearn.preprocessing import OneHotEncoder"
      ],
      "metadata": {
        "id": "50M2VxKhJ6o0"
      },
      "execution_count": null,
      "outputs": []
    },
    {
      "cell_type": "code",
      "source": [
        "for col in cat_col:\n",
        "  print(X_TRAIN[col].value_counts())\n",
        "  print()"
      ],
      "metadata": {
        "colab": {
          "base_uri": "https://localhost:8080/"
        },
        "id": "-2mGWyfOKEHk",
        "outputId": "2ec3f0b8-4e35-45e3-aeab-f104c78eb448"
      },
      "execution_count": null,
      "outputs": [
        {
          "output_type": "stream",
          "name": "stdout",
          "text": [
            "person_home_ownership\n",
            "RENT        13049\n",
            "MORTGAGE    10746\n",
            "OWN          2053\n",
            "OTHER          84\n",
            "Name: count, dtype: int64\n",
            "\n",
            "loan_intent\n",
            "EDUCATION            5137\n",
            "MEDICAL              4872\n",
            "VENTURE              4549\n",
            "PERSONAL             4377\n",
            "DEBTCONSOLIDATION    4141\n",
            "HOMEIMPROVEMENT      2856\n",
            "Name: count, dtype: int64\n",
            "\n",
            "loan_grade\n",
            "A    8540\n",
            "B    8331\n",
            "C    5161\n",
            "D    2884\n",
            "E     779\n",
            "F     190\n",
            "G      47\n",
            "Name: count, dtype: int64\n",
            "\n",
            "cb_person_default_on_file\n",
            "N    21366\n",
            "Y     4566\n",
            "Name: count, dtype: int64\n",
            "\n"
          ]
        }
      ]
    },
    {
      "cell_type": "code",
      "source": [
        "encoder=OneHotEncoder(sparse_output=False,handle_unknown='ignore')\n",
        "encoder.fit(X_TRAIN[cat_col])\n",
        "X_TRAIN_encoded_col=encoder.transform(X_TRAIN[cat_col])\n",
        "X_TEST_encoded_col=encoder.transform(X_TEST[cat_col])"
      ],
      "metadata": {
        "id": "iNeUT7x9oyHu"
      },
      "execution_count": null,
      "outputs": []
    },
    {
      "cell_type": "code",
      "source": [
        "X_TRAIN_encoded_dataset=pd.DataFrame(X_TRAIN_encoded_col,columns=encoder.get_feature_names_out(cat_col),index=X_TRAIN.index)"
      ],
      "metadata": {
        "id": "ivB6f08qqK-5"
      },
      "execution_count": null,
      "outputs": []
    },
    {
      "cell_type": "code",
      "source": [
        "X_TRAIN_encoded_dataset.shape\n"
      ],
      "metadata": {
        "colab": {
          "base_uri": "https://localhost:8080/"
        },
        "id": "a8WAIKg7rPdm",
        "outputId": "6a7ab03d-a658-4175-adfd-d6d02fbb8170"
      },
      "execution_count": null,
      "outputs": [
        {
          "output_type": "execute_result",
          "data": {
            "text/plain": [
              "(25932, 19)"
            ]
          },
          "metadata": {},
          "execution_count": 29
        }
      ]
    },
    {
      "cell_type": "code",
      "source": [
        "X_TRAIN.shape"
      ],
      "metadata": {
        "colab": {
          "base_uri": "https://localhost:8080/"
        },
        "id": "cgngR5uQrZaj",
        "outputId": "82d40680-ec6c-447d-86f5-5b8cd753af70"
      },
      "execution_count": null,
      "outputs": [
        {
          "output_type": "execute_result",
          "data": {
            "text/plain": [
              "(25932, 10)"
            ]
          },
          "metadata": {},
          "execution_count": 30
        }
      ]
    },
    {
      "cell_type": "code",
      "source": [
        "X_TEST_encoded_dataset=pd.DataFrame(X_TEST_encoded_col,columns=encoder.get_feature_names_out(cat_col),index=X_TEST.index)"
      ],
      "metadata": {
        "id": "fIftuThSrl34"
      },
      "execution_count": null,
      "outputs": []
    },
    {
      "cell_type": "markdown",
      "source": [
        "ALL SET! NOW LETS CONCATENATE"
      ],
      "metadata": {
        "id": "lvunU3DlsnJt"
      }
    },
    {
      "cell_type": "code",
      "source": [
        "X_TRAIN=pd.concat([X_TRAIN,X_TRAIN_encoded_dataset],axis=1)\n",
        "X_TEST=pd.concat([X_TEST,X_TEST_encoded_dataset],axis=1)"
      ],
      "metadata": {
        "id": "18pVf7IUsjLC"
      },
      "execution_count": null,
      "outputs": []
    },
    {
      "cell_type": "markdown",
      "source": [
        "NOW WE HAVE TO DROP CAT_COL"
      ],
      "metadata": {
        "id": "ZbRTvCM-tuvT"
      }
    },
    {
      "cell_type": "code",
      "source": [
        "X_TRAIN.drop(cat_col,axis=1,inplace=True)\n",
        "X_TEST.drop(cat_col,axis=1,inplace=True)\n"
      ],
      "metadata": {
        "id": "HXKBujhCtlfw"
      },
      "execution_count": null,
      "outputs": []
    },
    {
      "cell_type": "code",
      "source": [
        "X_TRAIN.head()"
      ],
      "metadata": {
        "colab": {
          "base_uri": "https://localhost:8080/",
          "height": 255
        },
        "id": "cCNNJ2RKt90m",
        "outputId": "a6143485-5902-4c83-92e2-ee6daa1a5fa6"
      },
      "execution_count": null,
      "outputs": [
        {
          "output_type": "execute_result",
          "data": {
            "text/plain": [
              "         person_age  person_income  person_emp_length  loan_amnt  \\\n",
              "21415      0.827121      -0.282597           1.509053   0.061304   \n",
              "12916     -0.426367       0.301579           0.051359  -0.333084   \n",
              "2938      -0.269681       0.933121           1.266104  -1.042982   \n",
              "19114      0.200377      -0.061557          -0.191590  -1.153411   \n",
              "6057      -0.583053      -0.282597          -0.191590  -0.853676   \n",
              "\n",
              "       loan_int_rate  cb_person_cred_hist_length  \\\n",
              "21415      -0.331616                    0.544526   \n",
              "12916       0.006007                   -0.689366   \n",
              "2938        0.389078                   -0.442587   \n",
              "19114       0.785135                    0.050970   \n",
              "6057        0.317658                   -0.442587   \n",
              "\n",
              "       person_home_ownership_MORTGAGE  person_home_ownership_OTHER  \\\n",
              "21415                             0.0                          0.0   \n",
              "12916                             1.0                          0.0   \n",
              "2938                              0.0                          0.0   \n",
              "19114                             0.0                          0.0   \n",
              "6057                              1.0                          0.0   \n",
              "\n",
              "       person_home_ownership_OWN  person_home_ownership_RENT  ...  \\\n",
              "21415                        1.0                         0.0  ...   \n",
              "12916                        0.0                         0.0  ...   \n",
              "2938                         0.0                         1.0  ...   \n",
              "19114                        0.0                         1.0  ...   \n",
              "6057                         0.0                         0.0  ...   \n",
              "\n",
              "       loan_intent_VENTURE  loan_grade_A  loan_grade_B  loan_grade_C  \\\n",
              "21415                  0.0           0.0           1.0           0.0   \n",
              "12916                  0.0           0.0           0.0           1.0   \n",
              "2938                   0.0           0.0           1.0           0.0   \n",
              "19114                  0.0           0.0           0.0           1.0   \n",
              "6057                   0.0           0.0           1.0           0.0   \n",
              "\n",
              "       loan_grade_D  loan_grade_E  loan_grade_F  loan_grade_G  \\\n",
              "21415           0.0           0.0           0.0           0.0   \n",
              "12916           0.0           0.0           0.0           0.0   \n",
              "2938            0.0           0.0           0.0           0.0   \n",
              "19114           0.0           0.0           0.0           0.0   \n",
              "6057            0.0           0.0           0.0           0.0   \n",
              "\n",
              "       cb_person_default_on_file_N  cb_person_default_on_file_Y  \n",
              "21415                          1.0                          0.0  \n",
              "12916                          0.0                          1.0  \n",
              "2938                           1.0                          0.0  \n",
              "19114                          0.0                          1.0  \n",
              "6057                           1.0                          0.0  \n",
              "\n",
              "[5 rows x 25 columns]"
            ],
            "text/html": [
              "\n",
              "  <div id=\"df-5a6e641d-aa9f-4d77-a3f0-2cfa8e7bd693\" class=\"colab-df-container\">\n",
              "    <div>\n",
              "<style scoped>\n",
              "    .dataframe tbody tr th:only-of-type {\n",
              "        vertical-align: middle;\n",
              "    }\n",
              "\n",
              "    .dataframe tbody tr th {\n",
              "        vertical-align: top;\n",
              "    }\n",
              "\n",
              "    .dataframe thead th {\n",
              "        text-align: right;\n",
              "    }\n",
              "</style>\n",
              "<table border=\"1\" class=\"dataframe\">\n",
              "  <thead>\n",
              "    <tr style=\"text-align: right;\">\n",
              "      <th></th>\n",
              "      <th>person_age</th>\n",
              "      <th>person_income</th>\n",
              "      <th>person_emp_length</th>\n",
              "      <th>loan_amnt</th>\n",
              "      <th>loan_int_rate</th>\n",
              "      <th>cb_person_cred_hist_length</th>\n",
              "      <th>person_home_ownership_MORTGAGE</th>\n",
              "      <th>person_home_ownership_OTHER</th>\n",
              "      <th>person_home_ownership_OWN</th>\n",
              "      <th>person_home_ownership_RENT</th>\n",
              "      <th>...</th>\n",
              "      <th>loan_intent_VENTURE</th>\n",
              "      <th>loan_grade_A</th>\n",
              "      <th>loan_grade_B</th>\n",
              "      <th>loan_grade_C</th>\n",
              "      <th>loan_grade_D</th>\n",
              "      <th>loan_grade_E</th>\n",
              "      <th>loan_grade_F</th>\n",
              "      <th>loan_grade_G</th>\n",
              "      <th>cb_person_default_on_file_N</th>\n",
              "      <th>cb_person_default_on_file_Y</th>\n",
              "    </tr>\n",
              "  </thead>\n",
              "  <tbody>\n",
              "    <tr>\n",
              "      <th>21415</th>\n",
              "      <td>0.827121</td>\n",
              "      <td>-0.282597</td>\n",
              "      <td>1.509053</td>\n",
              "      <td>0.061304</td>\n",
              "      <td>-0.331616</td>\n",
              "      <td>0.544526</td>\n",
              "      <td>0.0</td>\n",
              "      <td>0.0</td>\n",
              "      <td>1.0</td>\n",
              "      <td>0.0</td>\n",
              "      <td>...</td>\n",
              "      <td>0.0</td>\n",
              "      <td>0.0</td>\n",
              "      <td>1.0</td>\n",
              "      <td>0.0</td>\n",
              "      <td>0.0</td>\n",
              "      <td>0.0</td>\n",
              "      <td>0.0</td>\n",
              "      <td>0.0</td>\n",
              "      <td>1.0</td>\n",
              "      <td>0.0</td>\n",
              "    </tr>\n",
              "    <tr>\n",
              "      <th>12916</th>\n",
              "      <td>-0.426367</td>\n",
              "      <td>0.301579</td>\n",
              "      <td>0.051359</td>\n",
              "      <td>-0.333084</td>\n",
              "      <td>0.006007</td>\n",
              "      <td>-0.689366</td>\n",
              "      <td>1.0</td>\n",
              "      <td>0.0</td>\n",
              "      <td>0.0</td>\n",
              "      <td>0.0</td>\n",
              "      <td>...</td>\n",
              "      <td>0.0</td>\n",
              "      <td>0.0</td>\n",
              "      <td>0.0</td>\n",
              "      <td>1.0</td>\n",
              "      <td>0.0</td>\n",
              "      <td>0.0</td>\n",
              "      <td>0.0</td>\n",
              "      <td>0.0</td>\n",
              "      <td>0.0</td>\n",
              "      <td>1.0</td>\n",
              "    </tr>\n",
              "    <tr>\n",
              "      <th>2938</th>\n",
              "      <td>-0.269681</td>\n",
              "      <td>0.933121</td>\n",
              "      <td>1.266104</td>\n",
              "      <td>-1.042982</td>\n",
              "      <td>0.389078</td>\n",
              "      <td>-0.442587</td>\n",
              "      <td>0.0</td>\n",
              "      <td>0.0</td>\n",
              "      <td>0.0</td>\n",
              "      <td>1.0</td>\n",
              "      <td>...</td>\n",
              "      <td>0.0</td>\n",
              "      <td>0.0</td>\n",
              "      <td>1.0</td>\n",
              "      <td>0.0</td>\n",
              "      <td>0.0</td>\n",
              "      <td>0.0</td>\n",
              "      <td>0.0</td>\n",
              "      <td>0.0</td>\n",
              "      <td>1.0</td>\n",
              "      <td>0.0</td>\n",
              "    </tr>\n",
              "    <tr>\n",
              "      <th>19114</th>\n",
              "      <td>0.200377</td>\n",
              "      <td>-0.061557</td>\n",
              "      <td>-0.191590</td>\n",
              "      <td>-1.153411</td>\n",
              "      <td>0.785135</td>\n",
              "      <td>0.050970</td>\n",
              "      <td>0.0</td>\n",
              "      <td>0.0</td>\n",
              "      <td>0.0</td>\n",
              "      <td>1.0</td>\n",
              "      <td>...</td>\n",
              "      <td>0.0</td>\n",
              "      <td>0.0</td>\n",
              "      <td>0.0</td>\n",
              "      <td>1.0</td>\n",
              "      <td>0.0</td>\n",
              "      <td>0.0</td>\n",
              "      <td>0.0</td>\n",
              "      <td>0.0</td>\n",
              "      <td>0.0</td>\n",
              "      <td>1.0</td>\n",
              "    </tr>\n",
              "    <tr>\n",
              "      <th>6057</th>\n",
              "      <td>-0.583053</td>\n",
              "      <td>-0.282597</td>\n",
              "      <td>-0.191590</td>\n",
              "      <td>-0.853676</td>\n",
              "      <td>0.317658</td>\n",
              "      <td>-0.442587</td>\n",
              "      <td>1.0</td>\n",
              "      <td>0.0</td>\n",
              "      <td>0.0</td>\n",
              "      <td>0.0</td>\n",
              "      <td>...</td>\n",
              "      <td>0.0</td>\n",
              "      <td>0.0</td>\n",
              "      <td>1.0</td>\n",
              "      <td>0.0</td>\n",
              "      <td>0.0</td>\n",
              "      <td>0.0</td>\n",
              "      <td>0.0</td>\n",
              "      <td>0.0</td>\n",
              "      <td>1.0</td>\n",
              "      <td>0.0</td>\n",
              "    </tr>\n",
              "  </tbody>\n",
              "</table>\n",
              "<p>5 rows × 25 columns</p>\n",
              "</div>\n",
              "    <div class=\"colab-df-buttons\">\n",
              "\n",
              "  <div class=\"colab-df-container\">\n",
              "    <button class=\"colab-df-convert\" onclick=\"convertToInteractive('df-5a6e641d-aa9f-4d77-a3f0-2cfa8e7bd693')\"\n",
              "            title=\"Convert this dataframe to an interactive table.\"\n",
              "            style=\"display:none;\">\n",
              "\n",
              "  <svg xmlns=\"http://www.w3.org/2000/svg\" height=\"24px\" viewBox=\"0 -960 960 960\">\n",
              "    <path d=\"M120-120v-720h720v720H120Zm60-500h600v-160H180v160Zm220 220h160v-160H400v160Zm0 220h160v-160H400v160ZM180-400h160v-160H180v160Zm440 0h160v-160H620v160ZM180-180h160v-160H180v160Zm440 0h160v-160H620v160Z\"/>\n",
              "  </svg>\n",
              "    </button>\n",
              "\n",
              "  <style>\n",
              "    .colab-df-container {\n",
              "      display:flex;\n",
              "      gap: 12px;\n",
              "    }\n",
              "\n",
              "    .colab-df-convert {\n",
              "      background-color: #E8F0FE;\n",
              "      border: none;\n",
              "      border-radius: 50%;\n",
              "      cursor: pointer;\n",
              "      display: none;\n",
              "      fill: #1967D2;\n",
              "      height: 32px;\n",
              "      padding: 0 0 0 0;\n",
              "      width: 32px;\n",
              "    }\n",
              "\n",
              "    .colab-df-convert:hover {\n",
              "      background-color: #E2EBFA;\n",
              "      box-shadow: 0px 1px 2px rgba(60, 64, 67, 0.3), 0px 1px 3px 1px rgba(60, 64, 67, 0.15);\n",
              "      fill: #174EA6;\n",
              "    }\n",
              "\n",
              "    .colab-df-buttons div {\n",
              "      margin-bottom: 4px;\n",
              "    }\n",
              "\n",
              "    [theme=dark] .colab-df-convert {\n",
              "      background-color: #3B4455;\n",
              "      fill: #D2E3FC;\n",
              "    }\n",
              "\n",
              "    [theme=dark] .colab-df-convert:hover {\n",
              "      background-color: #434B5C;\n",
              "      box-shadow: 0px 1px 3px 1px rgba(0, 0, 0, 0.15);\n",
              "      filter: drop-shadow(0px 1px 2px rgba(0, 0, 0, 0.3));\n",
              "      fill: #FFFFFF;\n",
              "    }\n",
              "  </style>\n",
              "\n",
              "    <script>\n",
              "      const buttonEl =\n",
              "        document.querySelector('#df-5a6e641d-aa9f-4d77-a3f0-2cfa8e7bd693 button.colab-df-convert');\n",
              "      buttonEl.style.display =\n",
              "        google.colab.kernel.accessAllowed ? 'block' : 'none';\n",
              "\n",
              "      async function convertToInteractive(key) {\n",
              "        const element = document.querySelector('#df-5a6e641d-aa9f-4d77-a3f0-2cfa8e7bd693');\n",
              "        const dataTable =\n",
              "          await google.colab.kernel.invokeFunction('convertToInteractive',\n",
              "                                                    [key], {});\n",
              "        if (!dataTable) return;\n",
              "\n",
              "        const docLinkHtml = 'Like what you see? Visit the ' +\n",
              "          '<a target=\"_blank\" href=https://colab.research.google.com/notebooks/data_table.ipynb>data table notebook</a>'\n",
              "          + ' to learn more about interactive tables.';\n",
              "        element.innerHTML = '';\n",
              "        dataTable['output_type'] = 'display_data';\n",
              "        await google.colab.output.renderOutput(dataTable, element);\n",
              "        const docLink = document.createElement('div');\n",
              "        docLink.innerHTML = docLinkHtml;\n",
              "        element.appendChild(docLink);\n",
              "      }\n",
              "    </script>\n",
              "  </div>\n",
              "\n",
              "\n",
              "<div id=\"df-986908a6-28ad-4aa1-b2a1-433a14cf1404\">\n",
              "  <button class=\"colab-df-quickchart\" onclick=\"quickchart('df-986908a6-28ad-4aa1-b2a1-433a14cf1404')\"\n",
              "            title=\"Suggest charts\"\n",
              "            style=\"display:none;\">\n",
              "\n",
              "<svg xmlns=\"http://www.w3.org/2000/svg\" height=\"24px\"viewBox=\"0 0 24 24\"\n",
              "     width=\"24px\">\n",
              "    <g>\n",
              "        <path d=\"M19 3H5c-1.1 0-2 .9-2 2v14c0 1.1.9 2 2 2h14c1.1 0 2-.9 2-2V5c0-1.1-.9-2-2-2zM9 17H7v-7h2v7zm4 0h-2V7h2v10zm4 0h-2v-4h2v4z\"/>\n",
              "    </g>\n",
              "</svg>\n",
              "  </button>\n",
              "\n",
              "<style>\n",
              "  .colab-df-quickchart {\n",
              "      --bg-color: #E8F0FE;\n",
              "      --fill-color: #1967D2;\n",
              "      --hover-bg-color: #E2EBFA;\n",
              "      --hover-fill-color: #174EA6;\n",
              "      --disabled-fill-color: #AAA;\n",
              "      --disabled-bg-color: #DDD;\n",
              "  }\n",
              "\n",
              "  [theme=dark] .colab-df-quickchart {\n",
              "      --bg-color: #3B4455;\n",
              "      --fill-color: #D2E3FC;\n",
              "      --hover-bg-color: #434B5C;\n",
              "      --hover-fill-color: #FFFFFF;\n",
              "      --disabled-bg-color: #3B4455;\n",
              "      --disabled-fill-color: #666;\n",
              "  }\n",
              "\n",
              "  .colab-df-quickchart {\n",
              "    background-color: var(--bg-color);\n",
              "    border: none;\n",
              "    border-radius: 50%;\n",
              "    cursor: pointer;\n",
              "    display: none;\n",
              "    fill: var(--fill-color);\n",
              "    height: 32px;\n",
              "    padding: 0;\n",
              "    width: 32px;\n",
              "  }\n",
              "\n",
              "  .colab-df-quickchart:hover {\n",
              "    background-color: var(--hover-bg-color);\n",
              "    box-shadow: 0 1px 2px rgba(60, 64, 67, 0.3), 0 1px 3px 1px rgba(60, 64, 67, 0.15);\n",
              "    fill: var(--button-hover-fill-color);\n",
              "  }\n",
              "\n",
              "  .colab-df-quickchart-complete:disabled,\n",
              "  .colab-df-quickchart-complete:disabled:hover {\n",
              "    background-color: var(--disabled-bg-color);\n",
              "    fill: var(--disabled-fill-color);\n",
              "    box-shadow: none;\n",
              "  }\n",
              "\n",
              "  .colab-df-spinner {\n",
              "    border: 2px solid var(--fill-color);\n",
              "    border-color: transparent;\n",
              "    border-bottom-color: var(--fill-color);\n",
              "    animation:\n",
              "      spin 1s steps(1) infinite;\n",
              "  }\n",
              "\n",
              "  @keyframes spin {\n",
              "    0% {\n",
              "      border-color: transparent;\n",
              "      border-bottom-color: var(--fill-color);\n",
              "      border-left-color: var(--fill-color);\n",
              "    }\n",
              "    20% {\n",
              "      border-color: transparent;\n",
              "      border-left-color: var(--fill-color);\n",
              "      border-top-color: var(--fill-color);\n",
              "    }\n",
              "    30% {\n",
              "      border-color: transparent;\n",
              "      border-left-color: var(--fill-color);\n",
              "      border-top-color: var(--fill-color);\n",
              "      border-right-color: var(--fill-color);\n",
              "    }\n",
              "    40% {\n",
              "      border-color: transparent;\n",
              "      border-right-color: var(--fill-color);\n",
              "      border-top-color: var(--fill-color);\n",
              "    }\n",
              "    60% {\n",
              "      border-color: transparent;\n",
              "      border-right-color: var(--fill-color);\n",
              "    }\n",
              "    80% {\n",
              "      border-color: transparent;\n",
              "      border-right-color: var(--fill-color);\n",
              "      border-bottom-color: var(--fill-color);\n",
              "    }\n",
              "    90% {\n",
              "      border-color: transparent;\n",
              "      border-bottom-color: var(--fill-color);\n",
              "    }\n",
              "  }\n",
              "</style>\n",
              "\n",
              "  <script>\n",
              "    async function quickchart(key) {\n",
              "      const quickchartButtonEl =\n",
              "        document.querySelector('#' + key + ' button');\n",
              "      quickchartButtonEl.disabled = true;  // To prevent multiple clicks.\n",
              "      quickchartButtonEl.classList.add('colab-df-spinner');\n",
              "      try {\n",
              "        const charts = await google.colab.kernel.invokeFunction(\n",
              "            'suggestCharts', [key], {});\n",
              "      } catch (error) {\n",
              "        console.error('Error during call to suggestCharts:', error);\n",
              "      }\n",
              "      quickchartButtonEl.classList.remove('colab-df-spinner');\n",
              "      quickchartButtonEl.classList.add('colab-df-quickchart-complete');\n",
              "    }\n",
              "    (() => {\n",
              "      let quickchartButtonEl =\n",
              "        document.querySelector('#df-986908a6-28ad-4aa1-b2a1-433a14cf1404 button');\n",
              "      quickchartButtonEl.style.display =\n",
              "        google.colab.kernel.accessAllowed ? 'block' : 'none';\n",
              "    })();\n",
              "  </script>\n",
              "</div>\n",
              "\n",
              "    </div>\n",
              "  </div>\n"
            ],
            "application/vnd.google.colaboratory.intrinsic+json": {
              "type": "dataframe",
              "variable_name": "X_TRAIN"
            }
          },
          "metadata": {},
          "execution_count": 34
        }
      ]
    },
    {
      "cell_type": "code",
      "source": [
        "X_TEST.head()"
      ],
      "metadata": {
        "colab": {
          "base_uri": "https://localhost:8080/",
          "height": 255
        },
        "id": "Ekq_Fq2EuAmL",
        "outputId": "0291b396-b268-44c4-cf1f-99892708ce87"
      },
      "execution_count": null,
      "outputs": [
        {
          "output_type": "execute_result",
          "data": {
            "text/plain": [
              "         person_age  person_income  person_emp_length  loan_amnt  \\\n",
              "31162      2.550668       0.222637           2.237900   0.061304   \n",
              "17831     -0.583053      -0.440482          -1.163386   0.376815   \n",
              "21226      0.827121       0.756289           0.780206  -0.727472   \n",
              "8789      -0.896425      -0.093134          -0.677488  -0.964105   \n",
              "5717      -0.739739      -0.440482          -0.920437  -0.695921   \n",
              "\n",
              "       loan_int_rate  cb_person_cred_hist_length  \\\n",
              "31162      -1.617177                    2.271975   \n",
              "17831       0.285194                   -0.689366   \n",
              "21226       0.265716                    0.791305   \n",
              "8789       -0.331616                   -0.936144   \n",
              "5717       -1.016599                   -0.689366   \n",
              "\n",
              "       person_home_ownership_MORTGAGE  person_home_ownership_OTHER  \\\n",
              "31162                             1.0                          0.0   \n",
              "17831                             0.0                          0.0   \n",
              "21226                             0.0                          0.0   \n",
              "8789                              1.0                          0.0   \n",
              "5717                              0.0                          0.0   \n",
              "\n",
              "       person_home_ownership_OWN  person_home_ownership_RENT  ...  \\\n",
              "31162                        0.0                         0.0  ...   \n",
              "17831                        0.0                         1.0  ...   \n",
              "21226                        0.0                         1.0  ...   \n",
              "8789                         0.0                         0.0  ...   \n",
              "5717                         0.0                         1.0  ...   \n",
              "\n",
              "       loan_intent_VENTURE  loan_grade_A  loan_grade_B  loan_grade_C  \\\n",
              "31162                  0.0           1.0           0.0           0.0   \n",
              "17831                  0.0           0.0           1.0           0.0   \n",
              "21226                  0.0           0.0           1.0           0.0   \n",
              "8789                   0.0           0.0           1.0           0.0   \n",
              "5717                   0.0           1.0           0.0           0.0   \n",
              "\n",
              "       loan_grade_D  loan_grade_E  loan_grade_F  loan_grade_G  \\\n",
              "31162           0.0           0.0           0.0           0.0   \n",
              "17831           0.0           0.0           0.0           0.0   \n",
              "21226           0.0           0.0           0.0           0.0   \n",
              "8789            0.0           0.0           0.0           0.0   \n",
              "5717            0.0           0.0           0.0           0.0   \n",
              "\n",
              "       cb_person_default_on_file_N  cb_person_default_on_file_Y  \n",
              "31162                          1.0                          0.0  \n",
              "17831                          1.0                          0.0  \n",
              "21226                          1.0                          0.0  \n",
              "8789                           1.0                          0.0  \n",
              "5717                           1.0                          0.0  \n",
              "\n",
              "[5 rows x 25 columns]"
            ],
            "text/html": [
              "\n",
              "  <div id=\"df-d74e07e2-774c-42d9-9066-fe55a4d45eac\" class=\"colab-df-container\">\n",
              "    <div>\n",
              "<style scoped>\n",
              "    .dataframe tbody tr th:only-of-type {\n",
              "        vertical-align: middle;\n",
              "    }\n",
              "\n",
              "    .dataframe tbody tr th {\n",
              "        vertical-align: top;\n",
              "    }\n",
              "\n",
              "    .dataframe thead th {\n",
              "        text-align: right;\n",
              "    }\n",
              "</style>\n",
              "<table border=\"1\" class=\"dataframe\">\n",
              "  <thead>\n",
              "    <tr style=\"text-align: right;\">\n",
              "      <th></th>\n",
              "      <th>person_age</th>\n",
              "      <th>person_income</th>\n",
              "      <th>person_emp_length</th>\n",
              "      <th>loan_amnt</th>\n",
              "      <th>loan_int_rate</th>\n",
              "      <th>cb_person_cred_hist_length</th>\n",
              "      <th>person_home_ownership_MORTGAGE</th>\n",
              "      <th>person_home_ownership_OTHER</th>\n",
              "      <th>person_home_ownership_OWN</th>\n",
              "      <th>person_home_ownership_RENT</th>\n",
              "      <th>...</th>\n",
              "      <th>loan_intent_VENTURE</th>\n",
              "      <th>loan_grade_A</th>\n",
              "      <th>loan_grade_B</th>\n",
              "      <th>loan_grade_C</th>\n",
              "      <th>loan_grade_D</th>\n",
              "      <th>loan_grade_E</th>\n",
              "      <th>loan_grade_F</th>\n",
              "      <th>loan_grade_G</th>\n",
              "      <th>cb_person_default_on_file_N</th>\n",
              "      <th>cb_person_default_on_file_Y</th>\n",
              "    </tr>\n",
              "  </thead>\n",
              "  <tbody>\n",
              "    <tr>\n",
              "      <th>31162</th>\n",
              "      <td>2.550668</td>\n",
              "      <td>0.222637</td>\n",
              "      <td>2.237900</td>\n",
              "      <td>0.061304</td>\n",
              "      <td>-1.617177</td>\n",
              "      <td>2.271975</td>\n",
              "      <td>1.0</td>\n",
              "      <td>0.0</td>\n",
              "      <td>0.0</td>\n",
              "      <td>0.0</td>\n",
              "      <td>...</td>\n",
              "      <td>0.0</td>\n",
              "      <td>1.0</td>\n",
              "      <td>0.0</td>\n",
              "      <td>0.0</td>\n",
              "      <td>0.0</td>\n",
              "      <td>0.0</td>\n",
              "      <td>0.0</td>\n",
              "      <td>0.0</td>\n",
              "      <td>1.0</td>\n",
              "      <td>0.0</td>\n",
              "    </tr>\n",
              "    <tr>\n",
              "      <th>17831</th>\n",
              "      <td>-0.583053</td>\n",
              "      <td>-0.440482</td>\n",
              "      <td>-1.163386</td>\n",
              "      <td>0.376815</td>\n",
              "      <td>0.285194</td>\n",
              "      <td>-0.689366</td>\n",
              "      <td>0.0</td>\n",
              "      <td>0.0</td>\n",
              "      <td>0.0</td>\n",
              "      <td>1.0</td>\n",
              "      <td>...</td>\n",
              "      <td>0.0</td>\n",
              "      <td>0.0</td>\n",
              "      <td>1.0</td>\n",
              "      <td>0.0</td>\n",
              "      <td>0.0</td>\n",
              "      <td>0.0</td>\n",
              "      <td>0.0</td>\n",
              "      <td>0.0</td>\n",
              "      <td>1.0</td>\n",
              "      <td>0.0</td>\n",
              "    </tr>\n",
              "    <tr>\n",
              "      <th>21226</th>\n",
              "      <td>0.827121</td>\n",
              "      <td>0.756289</td>\n",
              "      <td>0.780206</td>\n",
              "      <td>-0.727472</td>\n",
              "      <td>0.265716</td>\n",
              "      <td>0.791305</td>\n",
              "      <td>0.0</td>\n",
              "      <td>0.0</td>\n",
              "      <td>0.0</td>\n",
              "      <td>1.0</td>\n",
              "      <td>...</td>\n",
              "      <td>0.0</td>\n",
              "      <td>0.0</td>\n",
              "      <td>1.0</td>\n",
              "      <td>0.0</td>\n",
              "      <td>0.0</td>\n",
              "      <td>0.0</td>\n",
              "      <td>0.0</td>\n",
              "      <td>0.0</td>\n",
              "      <td>1.0</td>\n",
              "      <td>0.0</td>\n",
              "    </tr>\n",
              "    <tr>\n",
              "      <th>8789</th>\n",
              "      <td>-0.896425</td>\n",
              "      <td>-0.093134</td>\n",
              "      <td>-0.677488</td>\n",
              "      <td>-0.964105</td>\n",
              "      <td>-0.331616</td>\n",
              "      <td>-0.936144</td>\n",
              "      <td>1.0</td>\n",
              "      <td>0.0</td>\n",
              "      <td>0.0</td>\n",
              "      <td>0.0</td>\n",
              "      <td>...</td>\n",
              "      <td>0.0</td>\n",
              "      <td>0.0</td>\n",
              "      <td>1.0</td>\n",
              "      <td>0.0</td>\n",
              "      <td>0.0</td>\n",
              "      <td>0.0</td>\n",
              "      <td>0.0</td>\n",
              "      <td>0.0</td>\n",
              "      <td>1.0</td>\n",
              "      <td>0.0</td>\n",
              "    </tr>\n",
              "    <tr>\n",
              "      <th>5717</th>\n",
              "      <td>-0.739739</td>\n",
              "      <td>-0.440482</td>\n",
              "      <td>-0.920437</td>\n",
              "      <td>-0.695921</td>\n",
              "      <td>-1.016599</td>\n",
              "      <td>-0.689366</td>\n",
              "      <td>0.0</td>\n",
              "      <td>0.0</td>\n",
              "      <td>0.0</td>\n",
              "      <td>1.0</td>\n",
              "      <td>...</td>\n",
              "      <td>0.0</td>\n",
              "      <td>1.0</td>\n",
              "      <td>0.0</td>\n",
              "      <td>0.0</td>\n",
              "      <td>0.0</td>\n",
              "      <td>0.0</td>\n",
              "      <td>0.0</td>\n",
              "      <td>0.0</td>\n",
              "      <td>1.0</td>\n",
              "      <td>0.0</td>\n",
              "    </tr>\n",
              "  </tbody>\n",
              "</table>\n",
              "<p>5 rows × 25 columns</p>\n",
              "</div>\n",
              "    <div class=\"colab-df-buttons\">\n",
              "\n",
              "  <div class=\"colab-df-container\">\n",
              "    <button class=\"colab-df-convert\" onclick=\"convertToInteractive('df-d74e07e2-774c-42d9-9066-fe55a4d45eac')\"\n",
              "            title=\"Convert this dataframe to an interactive table.\"\n",
              "            style=\"display:none;\">\n",
              "\n",
              "  <svg xmlns=\"http://www.w3.org/2000/svg\" height=\"24px\" viewBox=\"0 -960 960 960\">\n",
              "    <path d=\"M120-120v-720h720v720H120Zm60-500h600v-160H180v160Zm220 220h160v-160H400v160Zm0 220h160v-160H400v160ZM180-400h160v-160H180v160Zm440 0h160v-160H620v160ZM180-180h160v-160H180v160Zm440 0h160v-160H620v160Z\"/>\n",
              "  </svg>\n",
              "    </button>\n",
              "\n",
              "  <style>\n",
              "    .colab-df-container {\n",
              "      display:flex;\n",
              "      gap: 12px;\n",
              "    }\n",
              "\n",
              "    .colab-df-convert {\n",
              "      background-color: #E8F0FE;\n",
              "      border: none;\n",
              "      border-radius: 50%;\n",
              "      cursor: pointer;\n",
              "      display: none;\n",
              "      fill: #1967D2;\n",
              "      height: 32px;\n",
              "      padding: 0 0 0 0;\n",
              "      width: 32px;\n",
              "    }\n",
              "\n",
              "    .colab-df-convert:hover {\n",
              "      background-color: #E2EBFA;\n",
              "      box-shadow: 0px 1px 2px rgba(60, 64, 67, 0.3), 0px 1px 3px 1px rgba(60, 64, 67, 0.15);\n",
              "      fill: #174EA6;\n",
              "    }\n",
              "\n",
              "    .colab-df-buttons div {\n",
              "      margin-bottom: 4px;\n",
              "    }\n",
              "\n",
              "    [theme=dark] .colab-df-convert {\n",
              "      background-color: #3B4455;\n",
              "      fill: #D2E3FC;\n",
              "    }\n",
              "\n",
              "    [theme=dark] .colab-df-convert:hover {\n",
              "      background-color: #434B5C;\n",
              "      box-shadow: 0px 1px 3px 1px rgba(0, 0, 0, 0.15);\n",
              "      filter: drop-shadow(0px 1px 2px rgba(0, 0, 0, 0.3));\n",
              "      fill: #FFFFFF;\n",
              "    }\n",
              "  </style>\n",
              "\n",
              "    <script>\n",
              "      const buttonEl =\n",
              "        document.querySelector('#df-d74e07e2-774c-42d9-9066-fe55a4d45eac button.colab-df-convert');\n",
              "      buttonEl.style.display =\n",
              "        google.colab.kernel.accessAllowed ? 'block' : 'none';\n",
              "\n",
              "      async function convertToInteractive(key) {\n",
              "        const element = document.querySelector('#df-d74e07e2-774c-42d9-9066-fe55a4d45eac');\n",
              "        const dataTable =\n",
              "          await google.colab.kernel.invokeFunction('convertToInteractive',\n",
              "                                                    [key], {});\n",
              "        if (!dataTable) return;\n",
              "\n",
              "        const docLinkHtml = 'Like what you see? Visit the ' +\n",
              "          '<a target=\"_blank\" href=https://colab.research.google.com/notebooks/data_table.ipynb>data table notebook</a>'\n",
              "          + ' to learn more about interactive tables.';\n",
              "        element.innerHTML = '';\n",
              "        dataTable['output_type'] = 'display_data';\n",
              "        await google.colab.output.renderOutput(dataTable, element);\n",
              "        const docLink = document.createElement('div');\n",
              "        docLink.innerHTML = docLinkHtml;\n",
              "        element.appendChild(docLink);\n",
              "      }\n",
              "    </script>\n",
              "  </div>\n",
              "\n",
              "\n",
              "<div id=\"df-339e23e6-cb4a-46e1-815b-5a200b9c1386\">\n",
              "  <button class=\"colab-df-quickchart\" onclick=\"quickchart('df-339e23e6-cb4a-46e1-815b-5a200b9c1386')\"\n",
              "            title=\"Suggest charts\"\n",
              "            style=\"display:none;\">\n",
              "\n",
              "<svg xmlns=\"http://www.w3.org/2000/svg\" height=\"24px\"viewBox=\"0 0 24 24\"\n",
              "     width=\"24px\">\n",
              "    <g>\n",
              "        <path d=\"M19 3H5c-1.1 0-2 .9-2 2v14c0 1.1.9 2 2 2h14c1.1 0 2-.9 2-2V5c0-1.1-.9-2-2-2zM9 17H7v-7h2v7zm4 0h-2V7h2v10zm4 0h-2v-4h2v4z\"/>\n",
              "    </g>\n",
              "</svg>\n",
              "  </button>\n",
              "\n",
              "<style>\n",
              "  .colab-df-quickchart {\n",
              "      --bg-color: #E8F0FE;\n",
              "      --fill-color: #1967D2;\n",
              "      --hover-bg-color: #E2EBFA;\n",
              "      --hover-fill-color: #174EA6;\n",
              "      --disabled-fill-color: #AAA;\n",
              "      --disabled-bg-color: #DDD;\n",
              "  }\n",
              "\n",
              "  [theme=dark] .colab-df-quickchart {\n",
              "      --bg-color: #3B4455;\n",
              "      --fill-color: #D2E3FC;\n",
              "      --hover-bg-color: #434B5C;\n",
              "      --hover-fill-color: #FFFFFF;\n",
              "      --disabled-bg-color: #3B4455;\n",
              "      --disabled-fill-color: #666;\n",
              "  }\n",
              "\n",
              "  .colab-df-quickchart {\n",
              "    background-color: var(--bg-color);\n",
              "    border: none;\n",
              "    border-radius: 50%;\n",
              "    cursor: pointer;\n",
              "    display: none;\n",
              "    fill: var(--fill-color);\n",
              "    height: 32px;\n",
              "    padding: 0;\n",
              "    width: 32px;\n",
              "  }\n",
              "\n",
              "  .colab-df-quickchart:hover {\n",
              "    background-color: var(--hover-bg-color);\n",
              "    box-shadow: 0 1px 2px rgba(60, 64, 67, 0.3), 0 1px 3px 1px rgba(60, 64, 67, 0.15);\n",
              "    fill: var(--button-hover-fill-color);\n",
              "  }\n",
              "\n",
              "  .colab-df-quickchart-complete:disabled,\n",
              "  .colab-df-quickchart-complete:disabled:hover {\n",
              "    background-color: var(--disabled-bg-color);\n",
              "    fill: var(--disabled-fill-color);\n",
              "    box-shadow: none;\n",
              "  }\n",
              "\n",
              "  .colab-df-spinner {\n",
              "    border: 2px solid var(--fill-color);\n",
              "    border-color: transparent;\n",
              "    border-bottom-color: var(--fill-color);\n",
              "    animation:\n",
              "      spin 1s steps(1) infinite;\n",
              "  }\n",
              "\n",
              "  @keyframes spin {\n",
              "    0% {\n",
              "      border-color: transparent;\n",
              "      border-bottom-color: var(--fill-color);\n",
              "      border-left-color: var(--fill-color);\n",
              "    }\n",
              "    20% {\n",
              "      border-color: transparent;\n",
              "      border-left-color: var(--fill-color);\n",
              "      border-top-color: var(--fill-color);\n",
              "    }\n",
              "    30% {\n",
              "      border-color: transparent;\n",
              "      border-left-color: var(--fill-color);\n",
              "      border-top-color: var(--fill-color);\n",
              "      border-right-color: var(--fill-color);\n",
              "    }\n",
              "    40% {\n",
              "      border-color: transparent;\n",
              "      border-right-color: var(--fill-color);\n",
              "      border-top-color: var(--fill-color);\n",
              "    }\n",
              "    60% {\n",
              "      border-color: transparent;\n",
              "      border-right-color: var(--fill-color);\n",
              "    }\n",
              "    80% {\n",
              "      border-color: transparent;\n",
              "      border-right-color: var(--fill-color);\n",
              "      border-bottom-color: var(--fill-color);\n",
              "    }\n",
              "    90% {\n",
              "      border-color: transparent;\n",
              "      border-bottom-color: var(--fill-color);\n",
              "    }\n",
              "  }\n",
              "</style>\n",
              "\n",
              "  <script>\n",
              "    async function quickchart(key) {\n",
              "      const quickchartButtonEl =\n",
              "        document.querySelector('#' + key + ' button');\n",
              "      quickchartButtonEl.disabled = true;  // To prevent multiple clicks.\n",
              "      quickchartButtonEl.classList.add('colab-df-spinner');\n",
              "      try {\n",
              "        const charts = await google.colab.kernel.invokeFunction(\n",
              "            'suggestCharts', [key], {});\n",
              "      } catch (error) {\n",
              "        console.error('Error during call to suggestCharts:', error);\n",
              "      }\n",
              "      quickchartButtonEl.classList.remove('colab-df-spinner');\n",
              "      quickchartButtonEl.classList.add('colab-df-quickchart-complete');\n",
              "    }\n",
              "    (() => {\n",
              "      let quickchartButtonEl =\n",
              "        document.querySelector('#df-339e23e6-cb4a-46e1-815b-5a200b9c1386 button');\n",
              "      quickchartButtonEl.style.display =\n",
              "        google.colab.kernel.accessAllowed ? 'block' : 'none';\n",
              "    })();\n",
              "  </script>\n",
              "</div>\n",
              "\n",
              "    </div>\n",
              "  </div>\n"
            ],
            "application/vnd.google.colaboratory.intrinsic+json": {
              "type": "dataframe",
              "variable_name": "X_TEST"
            }
          },
          "metadata": {},
          "execution_count": 35
        }
      ]
    },
    {
      "cell_type": "markdown",
      "source": [
        "YEAHHHHHHHHHHH! ALL SET! NOW WE ARE GOOD TO TRAIN OUR MODEL"
      ],
      "metadata": {
        "id": "tVfQhSFIuhJW"
      }
    },
    {
      "cell_type": "markdown",
      "source": [
        "# **TRAINING THE MODEL**"
      ],
      "metadata": {
        "id": "s8NgM3CtuXjy"
      }
    },
    {
      "cell_type": "markdown",
      "source": [
        "1. LOGISTIC REGRESSION"
      ],
      "metadata": {
        "id": "bXz7gp602AlL"
      }
    },
    {
      "cell_type": "code",
      "source": [
        "from sklearn.linear_model import LogisticRegression\n",
        "from sklearn.metrics import classification_report\n",
        "lr_model=LogisticRegression()\n",
        "lr_model.fit(X_TRAIN,Y_TRAIN)"
      ],
      "metadata": {
        "colab": {
          "base_uri": "https://localhost:8080/",
          "height": 213
        },
        "id": "U9IM0QLE1cVA",
        "outputId": "c76f8ced-d3e2-4a12-d328-0c881424ba30"
      },
      "execution_count": null,
      "outputs": [
        {
          "output_type": "stream",
          "name": "stderr",
          "text": [
            "/usr/local/lib/python3.11/dist-packages/sklearn/linear_model/_logistic.py:458: ConvergenceWarning: lbfgs failed to converge (status=1):\n",
            "STOP: TOTAL NO. of ITERATIONS REACHED LIMIT.\n",
            "\n",
            "Increase the number of iterations (max_iter) or scale the data as shown in:\n",
            "    https://scikit-learn.org/stable/modules/preprocessing.html\n",
            "Please also refer to the documentation for alternative solver options:\n",
            "    https://scikit-learn.org/stable/modules/linear_model.html#logistic-regression\n",
            "  n_iter_i = _check_optimize_result(\n"
          ]
        },
        {
          "output_type": "execute_result",
          "data": {
            "text/plain": [
              "LogisticRegression()"
            ],
            "text/html": [
              "<style>#sk-container-id-2 {color: black;background-color: white;}#sk-container-id-2 pre{padding: 0;}#sk-container-id-2 div.sk-toggleable {background-color: white;}#sk-container-id-2 label.sk-toggleable__label {cursor: pointer;display: block;width: 100%;margin-bottom: 0;padding: 0.3em;box-sizing: border-box;text-align: center;}#sk-container-id-2 label.sk-toggleable__label-arrow:before {content: \"▸\";float: left;margin-right: 0.25em;color: #696969;}#sk-container-id-2 label.sk-toggleable__label-arrow:hover:before {color: black;}#sk-container-id-2 div.sk-estimator:hover label.sk-toggleable__label-arrow:before {color: black;}#sk-container-id-2 div.sk-toggleable__content {max-height: 0;max-width: 0;overflow: hidden;text-align: left;background-color: #f0f8ff;}#sk-container-id-2 div.sk-toggleable__content pre {margin: 0.2em;color: black;border-radius: 0.25em;background-color: #f0f8ff;}#sk-container-id-2 input.sk-toggleable__control:checked~div.sk-toggleable__content {max-height: 200px;max-width: 100%;overflow: auto;}#sk-container-id-2 input.sk-toggleable__control:checked~label.sk-toggleable__label-arrow:before {content: \"▾\";}#sk-container-id-2 div.sk-estimator input.sk-toggleable__control:checked~label.sk-toggleable__label {background-color: #d4ebff;}#sk-container-id-2 div.sk-label input.sk-toggleable__control:checked~label.sk-toggleable__label {background-color: #d4ebff;}#sk-container-id-2 input.sk-hidden--visually {border: 0;clip: rect(1px 1px 1px 1px);clip: rect(1px, 1px, 1px, 1px);height: 1px;margin: -1px;overflow: hidden;padding: 0;position: absolute;width: 1px;}#sk-container-id-2 div.sk-estimator {font-family: monospace;background-color: #f0f8ff;border: 1px dotted black;border-radius: 0.25em;box-sizing: border-box;margin-bottom: 0.5em;}#sk-container-id-2 div.sk-estimator:hover {background-color: #d4ebff;}#sk-container-id-2 div.sk-parallel-item::after {content: \"\";width: 100%;border-bottom: 1px solid gray;flex-grow: 1;}#sk-container-id-2 div.sk-label:hover label.sk-toggleable__label {background-color: #d4ebff;}#sk-container-id-2 div.sk-serial::before {content: \"\";position: absolute;border-left: 1px solid gray;box-sizing: border-box;top: 0;bottom: 0;left: 50%;z-index: 0;}#sk-container-id-2 div.sk-serial {display: flex;flex-direction: column;align-items: center;background-color: white;padding-right: 0.2em;padding-left: 0.2em;position: relative;}#sk-container-id-2 div.sk-item {position: relative;z-index: 1;}#sk-container-id-2 div.sk-parallel {display: flex;align-items: stretch;justify-content: center;background-color: white;position: relative;}#sk-container-id-2 div.sk-item::before, #sk-container-id-2 div.sk-parallel-item::before {content: \"\";position: absolute;border-left: 1px solid gray;box-sizing: border-box;top: 0;bottom: 0;left: 50%;z-index: -1;}#sk-container-id-2 div.sk-parallel-item {display: flex;flex-direction: column;z-index: 1;position: relative;background-color: white;}#sk-container-id-2 div.sk-parallel-item:first-child::after {align-self: flex-end;width: 50%;}#sk-container-id-2 div.sk-parallel-item:last-child::after {align-self: flex-start;width: 50%;}#sk-container-id-2 div.sk-parallel-item:only-child::after {width: 0;}#sk-container-id-2 div.sk-dashed-wrapped {border: 1px dashed gray;margin: 0 0.4em 0.5em 0.4em;box-sizing: border-box;padding-bottom: 0.4em;background-color: white;}#sk-container-id-2 div.sk-label label {font-family: monospace;font-weight: bold;display: inline-block;line-height: 1.2em;}#sk-container-id-2 div.sk-label-container {text-align: center;}#sk-container-id-2 div.sk-container {/* jupyter's `normalize.less` sets `[hidden] { display: none; }` but bootstrap.min.css set `[hidden] { display: none !important; }` so we also need the `!important` here to be able to override the default hidden behavior on the sphinx rendered scikit-learn.org. See: https://github.com/scikit-learn/scikit-learn/issues/21755 */display: inline-block !important;position: relative;}#sk-container-id-2 div.sk-text-repr-fallback {display: none;}</style><div id=\"sk-container-id-2\" class=\"sk-top-container\"><div class=\"sk-text-repr-fallback\"><pre>LogisticRegression()</pre><b>In a Jupyter environment, please rerun this cell to show the HTML representation or trust the notebook. <br />On GitHub, the HTML representation is unable to render, please try loading this page with nbviewer.org.</b></div><div class=\"sk-container\" hidden><div class=\"sk-item\"><div class=\"sk-estimator sk-toggleable\"><input class=\"sk-toggleable__control sk-hidden--visually\" id=\"sk-estimator-id-2\" type=\"checkbox\" checked><label for=\"sk-estimator-id-2\" class=\"sk-toggleable__label sk-toggleable__label-arrow\">LogisticRegression</label><div class=\"sk-toggleable__content\"><pre>LogisticRegression()</pre></div></div></div></div></div>"
            ]
          },
          "metadata": {},
          "execution_count": 36
        }
      ]
    },
    {
      "cell_type": "code",
      "source": [
        "lr_predication=lr_model.predict(X_TEST)\n",
        "report=classification_report(Y_TEST,lr_predication)\n",
        "print(report)"
      ],
      "metadata": {
        "colab": {
          "base_uri": "https://localhost:8080/"
        },
        "id": "N3xOvcX1Z1NN",
        "outputId": "eaa667ae-2896-4926-8943-2deea1ab9da9"
      },
      "execution_count": null,
      "outputs": [
        {
          "output_type": "stream",
          "name": "stdout",
          "text": [
            "              precision    recall  f1-score   support\n",
            "\n",
            "           0       0.86      0.96      0.91      5066\n",
            "           1       0.77      0.45      0.57      1418\n",
            "\n",
            "    accuracy                           0.85      6484\n",
            "   macro avg       0.82      0.71      0.74      6484\n",
            "weighted avg       0.84      0.85      0.84      6484\n",
            "\n"
          ]
        }
      ]
    },
    {
      "cell_type": "code",
      "source": [
        "lr_model.score(X_TEST,Y_TEST)"
      ],
      "metadata": {
        "colab": {
          "base_uri": "https://localhost:8080/"
        },
        "id": "mGuFGngn3o4C",
        "outputId": "c514245b-c7f9-4461-8503-2b7593b168f9"
      },
      "execution_count": null,
      "outputs": [
        {
          "output_type": "execute_result",
          "data": {
            "text/plain": [
              "0.850709438618137"
            ]
          },
          "metadata": {},
          "execution_count": 38
        }
      ]
    },
    {
      "cell_type": "markdown",
      "source": [
        "2.SUPPORT VECTOR MACHINE"
      ],
      "metadata": {
        "id": "mOZdNR3w506i"
      }
    },
    {
      "cell_type": "code",
      "source": [
        "from sklearn import svm\n",
        "svm_model=svm.SVC()\n",
        "svm_model.fit(X_TRAIN,Y_TRAIN)"
      ],
      "metadata": {
        "colab": {
          "base_uri": "https://localhost:8080/",
          "height": 74
        },
        "id": "59GP8s5c5yqJ",
        "outputId": "d8d98db4-baec-49db-bfb9-5c2763a50c45"
      },
      "execution_count": null,
      "outputs": [
        {
          "output_type": "execute_result",
          "data": {
            "text/plain": [
              "SVC()"
            ],
            "text/html": [
              "<style>#sk-container-id-3 {color: black;background-color: white;}#sk-container-id-3 pre{padding: 0;}#sk-container-id-3 div.sk-toggleable {background-color: white;}#sk-container-id-3 label.sk-toggleable__label {cursor: pointer;display: block;width: 100%;margin-bottom: 0;padding: 0.3em;box-sizing: border-box;text-align: center;}#sk-container-id-3 label.sk-toggleable__label-arrow:before {content: \"▸\";float: left;margin-right: 0.25em;color: #696969;}#sk-container-id-3 label.sk-toggleable__label-arrow:hover:before {color: black;}#sk-container-id-3 div.sk-estimator:hover label.sk-toggleable__label-arrow:before {color: black;}#sk-container-id-3 div.sk-toggleable__content {max-height: 0;max-width: 0;overflow: hidden;text-align: left;background-color: #f0f8ff;}#sk-container-id-3 div.sk-toggleable__content pre {margin: 0.2em;color: black;border-radius: 0.25em;background-color: #f0f8ff;}#sk-container-id-3 input.sk-toggleable__control:checked~div.sk-toggleable__content {max-height: 200px;max-width: 100%;overflow: auto;}#sk-container-id-3 input.sk-toggleable__control:checked~label.sk-toggleable__label-arrow:before {content: \"▾\";}#sk-container-id-3 div.sk-estimator input.sk-toggleable__control:checked~label.sk-toggleable__label {background-color: #d4ebff;}#sk-container-id-3 div.sk-label input.sk-toggleable__control:checked~label.sk-toggleable__label {background-color: #d4ebff;}#sk-container-id-3 input.sk-hidden--visually {border: 0;clip: rect(1px 1px 1px 1px);clip: rect(1px, 1px, 1px, 1px);height: 1px;margin: -1px;overflow: hidden;padding: 0;position: absolute;width: 1px;}#sk-container-id-3 div.sk-estimator {font-family: monospace;background-color: #f0f8ff;border: 1px dotted black;border-radius: 0.25em;box-sizing: border-box;margin-bottom: 0.5em;}#sk-container-id-3 div.sk-estimator:hover {background-color: #d4ebff;}#sk-container-id-3 div.sk-parallel-item::after {content: \"\";width: 100%;border-bottom: 1px solid gray;flex-grow: 1;}#sk-container-id-3 div.sk-label:hover label.sk-toggleable__label {background-color: #d4ebff;}#sk-container-id-3 div.sk-serial::before {content: \"\";position: absolute;border-left: 1px solid gray;box-sizing: border-box;top: 0;bottom: 0;left: 50%;z-index: 0;}#sk-container-id-3 div.sk-serial {display: flex;flex-direction: column;align-items: center;background-color: white;padding-right: 0.2em;padding-left: 0.2em;position: relative;}#sk-container-id-3 div.sk-item {position: relative;z-index: 1;}#sk-container-id-3 div.sk-parallel {display: flex;align-items: stretch;justify-content: center;background-color: white;position: relative;}#sk-container-id-3 div.sk-item::before, #sk-container-id-3 div.sk-parallel-item::before {content: \"\";position: absolute;border-left: 1px solid gray;box-sizing: border-box;top: 0;bottom: 0;left: 50%;z-index: -1;}#sk-container-id-3 div.sk-parallel-item {display: flex;flex-direction: column;z-index: 1;position: relative;background-color: white;}#sk-container-id-3 div.sk-parallel-item:first-child::after {align-self: flex-end;width: 50%;}#sk-container-id-3 div.sk-parallel-item:last-child::after {align-self: flex-start;width: 50%;}#sk-container-id-3 div.sk-parallel-item:only-child::after {width: 0;}#sk-container-id-3 div.sk-dashed-wrapped {border: 1px dashed gray;margin: 0 0.4em 0.5em 0.4em;box-sizing: border-box;padding-bottom: 0.4em;background-color: white;}#sk-container-id-3 div.sk-label label {font-family: monospace;font-weight: bold;display: inline-block;line-height: 1.2em;}#sk-container-id-3 div.sk-label-container {text-align: center;}#sk-container-id-3 div.sk-container {/* jupyter's `normalize.less` sets `[hidden] { display: none; }` but bootstrap.min.css set `[hidden] { display: none !important; }` so we also need the `!important` here to be able to override the default hidden behavior on the sphinx rendered scikit-learn.org. See: https://github.com/scikit-learn/scikit-learn/issues/21755 */display: inline-block !important;position: relative;}#sk-container-id-3 div.sk-text-repr-fallback {display: none;}</style><div id=\"sk-container-id-3\" class=\"sk-top-container\"><div class=\"sk-text-repr-fallback\"><pre>SVC()</pre><b>In a Jupyter environment, please rerun this cell to show the HTML representation or trust the notebook. <br />On GitHub, the HTML representation is unable to render, please try loading this page with nbviewer.org.</b></div><div class=\"sk-container\" hidden><div class=\"sk-item\"><div class=\"sk-estimator sk-toggleable\"><input class=\"sk-toggleable__control sk-hidden--visually\" id=\"sk-estimator-id-3\" type=\"checkbox\" checked><label for=\"sk-estimator-id-3\" class=\"sk-toggleable__label sk-toggleable__label-arrow\">SVC</label><div class=\"sk-toggleable__content\"><pre>SVC()</pre></div></div></div></div></div>"
            ]
          },
          "metadata": {},
          "execution_count": 39
        }
      ]
    },
    {
      "cell_type": "code",
      "source": [
        "svm_predication=svm_model.predict(X_TEST)\n",
        "report=classification_report(Y_TEST,svm_predication)\n",
        "print(report)\n"
      ],
      "metadata": {
        "colab": {
          "base_uri": "https://localhost:8080/"
        },
        "id": "R3ogVPB4aFop",
        "outputId": "302b560e-275d-4dba-d421-720a001e6f48"
      },
      "execution_count": null,
      "outputs": [
        {
          "output_type": "stream",
          "name": "stdout",
          "text": [
            "              precision    recall  f1-score   support\n",
            "\n",
            "           0       0.89      0.99      0.94      5066\n",
            "           1       0.93      0.58      0.71      1418\n",
            "\n",
            "    accuracy                           0.90      6484\n",
            "   macro avg       0.91      0.78      0.83      6484\n",
            "weighted avg       0.90      0.90      0.89      6484\n",
            "\n"
          ]
        }
      ]
    },
    {
      "cell_type": "code",
      "source": [
        "svm_model.score(X_TEST,Y_TEST)"
      ],
      "metadata": {
        "colab": {
          "base_uri": "https://localhost:8080/"
        },
        "id": "vnKFN3w46Q6j",
        "outputId": "51f23ac6-9d3b-4a15-bde0-273095c06aba"
      },
      "execution_count": null,
      "outputs": [
        {
          "output_type": "execute_result",
          "data": {
            "text/plain": [
              "0.8985194324491055"
            ]
          },
          "metadata": {},
          "execution_count": 41
        }
      ]
    },
    {
      "cell_type": "markdown",
      "source": [
        "3.RANDOM FOREST"
      ],
      "metadata": {
        "id": "951ih73_ukKj"
      }
    },
    {
      "cell_type": "code",
      "source": [
        "from sklearn.ensemble import RandomForestClassifier\n",
        "Random_model=RandomForestClassifier(random_state=0)\n",
        "Random_model.fit(X_TRAIN,Y_TRAIN)"
      ],
      "metadata": {
        "colab": {
          "base_uri": "https://localhost:8080/",
          "height": 74
        },
        "id": "oIk4dUsmvFpb",
        "outputId": "265be9e2-3852-4712-bebd-0d7b1e175685"
      },
      "execution_count": null,
      "outputs": [
        {
          "output_type": "execute_result",
          "data": {
            "text/plain": [
              "RandomForestClassifier(random_state=0)"
            ],
            "text/html": [
              "<style>#sk-container-id-4 {color: black;background-color: white;}#sk-container-id-4 pre{padding: 0;}#sk-container-id-4 div.sk-toggleable {background-color: white;}#sk-container-id-4 label.sk-toggleable__label {cursor: pointer;display: block;width: 100%;margin-bottom: 0;padding: 0.3em;box-sizing: border-box;text-align: center;}#sk-container-id-4 label.sk-toggleable__label-arrow:before {content: \"▸\";float: left;margin-right: 0.25em;color: #696969;}#sk-container-id-4 label.sk-toggleable__label-arrow:hover:before {color: black;}#sk-container-id-4 div.sk-estimator:hover label.sk-toggleable__label-arrow:before {color: black;}#sk-container-id-4 div.sk-toggleable__content {max-height: 0;max-width: 0;overflow: hidden;text-align: left;background-color: #f0f8ff;}#sk-container-id-4 div.sk-toggleable__content pre {margin: 0.2em;color: black;border-radius: 0.25em;background-color: #f0f8ff;}#sk-container-id-4 input.sk-toggleable__control:checked~div.sk-toggleable__content {max-height: 200px;max-width: 100%;overflow: auto;}#sk-container-id-4 input.sk-toggleable__control:checked~label.sk-toggleable__label-arrow:before {content: \"▾\";}#sk-container-id-4 div.sk-estimator input.sk-toggleable__control:checked~label.sk-toggleable__label {background-color: #d4ebff;}#sk-container-id-4 div.sk-label input.sk-toggleable__control:checked~label.sk-toggleable__label {background-color: #d4ebff;}#sk-container-id-4 input.sk-hidden--visually {border: 0;clip: rect(1px 1px 1px 1px);clip: rect(1px, 1px, 1px, 1px);height: 1px;margin: -1px;overflow: hidden;padding: 0;position: absolute;width: 1px;}#sk-container-id-4 div.sk-estimator {font-family: monospace;background-color: #f0f8ff;border: 1px dotted black;border-radius: 0.25em;box-sizing: border-box;margin-bottom: 0.5em;}#sk-container-id-4 div.sk-estimator:hover {background-color: #d4ebff;}#sk-container-id-4 div.sk-parallel-item::after {content: \"\";width: 100%;border-bottom: 1px solid gray;flex-grow: 1;}#sk-container-id-4 div.sk-label:hover label.sk-toggleable__label {background-color: #d4ebff;}#sk-container-id-4 div.sk-serial::before {content: \"\";position: absolute;border-left: 1px solid gray;box-sizing: border-box;top: 0;bottom: 0;left: 50%;z-index: 0;}#sk-container-id-4 div.sk-serial {display: flex;flex-direction: column;align-items: center;background-color: white;padding-right: 0.2em;padding-left: 0.2em;position: relative;}#sk-container-id-4 div.sk-item {position: relative;z-index: 1;}#sk-container-id-4 div.sk-parallel {display: flex;align-items: stretch;justify-content: center;background-color: white;position: relative;}#sk-container-id-4 div.sk-item::before, #sk-container-id-4 div.sk-parallel-item::before {content: \"\";position: absolute;border-left: 1px solid gray;box-sizing: border-box;top: 0;bottom: 0;left: 50%;z-index: -1;}#sk-container-id-4 div.sk-parallel-item {display: flex;flex-direction: column;z-index: 1;position: relative;background-color: white;}#sk-container-id-4 div.sk-parallel-item:first-child::after {align-self: flex-end;width: 50%;}#sk-container-id-4 div.sk-parallel-item:last-child::after {align-self: flex-start;width: 50%;}#sk-container-id-4 div.sk-parallel-item:only-child::after {width: 0;}#sk-container-id-4 div.sk-dashed-wrapped {border: 1px dashed gray;margin: 0 0.4em 0.5em 0.4em;box-sizing: border-box;padding-bottom: 0.4em;background-color: white;}#sk-container-id-4 div.sk-label label {font-family: monospace;font-weight: bold;display: inline-block;line-height: 1.2em;}#sk-container-id-4 div.sk-label-container {text-align: center;}#sk-container-id-4 div.sk-container {/* jupyter's `normalize.less` sets `[hidden] { display: none; }` but bootstrap.min.css set `[hidden] { display: none !important; }` so we also need the `!important` here to be able to override the default hidden behavior on the sphinx rendered scikit-learn.org. See: https://github.com/scikit-learn/scikit-learn/issues/21755 */display: inline-block !important;position: relative;}#sk-container-id-4 div.sk-text-repr-fallback {display: none;}</style><div id=\"sk-container-id-4\" class=\"sk-top-container\"><div class=\"sk-text-repr-fallback\"><pre>RandomForestClassifier(random_state=0)</pre><b>In a Jupyter environment, please rerun this cell to show the HTML representation or trust the notebook. <br />On GitHub, the HTML representation is unable to render, please try loading this page with nbviewer.org.</b></div><div class=\"sk-container\" hidden><div class=\"sk-item\"><div class=\"sk-estimator sk-toggleable\"><input class=\"sk-toggleable__control sk-hidden--visually\" id=\"sk-estimator-id-4\" type=\"checkbox\" checked><label for=\"sk-estimator-id-4\" class=\"sk-toggleable__label sk-toggleable__label-arrow\">RandomForestClassifier</label><div class=\"sk-toggleable__content\"><pre>RandomForestClassifier(random_state=0)</pre></div></div></div></div></div>"
            ]
          },
          "metadata": {},
          "execution_count": 42
        }
      ]
    },
    {
      "cell_type": "code",
      "source": [
        "rm_predication=Random_model.predict(X_TEST)\n",
        "report=classification_report(Y_TEST,rm_predication)\n",
        "print(report)\n"
      ],
      "metadata": {
        "colab": {
          "base_uri": "https://localhost:8080/"
        },
        "id": "CjgSwipTZIGF",
        "outputId": "651a17ef-ce63-4f09-ce6d-030b6b9702ad"
      },
      "execution_count": null,
      "outputs": [
        {
          "output_type": "stream",
          "name": "stdout",
          "text": [
            "              precision    recall  f1-score   support\n",
            "\n",
            "           0       0.92      0.99      0.95      5066\n",
            "           1       0.94      0.69      0.80      1418\n",
            "\n",
            "    accuracy                           0.92      6484\n",
            "   macro avg       0.93      0.84      0.88      6484\n",
            "weighted avg       0.92      0.92      0.92      6484\n",
            "\n"
          ]
        }
      ]
    },
    {
      "cell_type": "code",
      "source": [
        "Random_model.score(X_TEST,Y_TEST)\n"
      ],
      "metadata": {
        "colab": {
          "base_uri": "https://localhost:8080/"
        },
        "id": "_xHgmU5Bzp9T",
        "outputId": "18429d7e-f5a2-4a2b-87d2-bd8f91fca773"
      },
      "execution_count": null,
      "outputs": [
        {
          "output_type": "execute_result",
          "data": {
            "text/plain": [
              "0.9231955582973473"
            ]
          },
          "metadata": {},
          "execution_count": 44
        }
      ]
    },
    {
      "cell_type": "markdown",
      "source": [
        "4.GRADIENT BOOSTING"
      ],
      "metadata": {
        "id": "gHOWcrvt5StL"
      }
    },
    {
      "cell_type": "code",
      "source": [
        "from sklearn.ensemble import GradientBoostingClassifier\n",
        "gb_model=GradientBoostingClassifier()\n",
        "gb_model.fit(X_TRAIN,Y_TRAIN)\n",
        "\n"
      ],
      "metadata": {
        "colab": {
          "base_uri": "https://localhost:8080/",
          "height": 74
        },
        "id": "Ip87_Hrf4S1Z",
        "outputId": "b57d1f30-5a16-48a7-db89-a51b987714b1"
      },
      "execution_count": null,
      "outputs": [
        {
          "output_type": "execute_result",
          "data": {
            "text/plain": [
              "GradientBoostingClassifier()"
            ],
            "text/html": [
              "<style>#sk-container-id-5 {color: black;background-color: white;}#sk-container-id-5 pre{padding: 0;}#sk-container-id-5 div.sk-toggleable {background-color: white;}#sk-container-id-5 label.sk-toggleable__label {cursor: pointer;display: block;width: 100%;margin-bottom: 0;padding: 0.3em;box-sizing: border-box;text-align: center;}#sk-container-id-5 label.sk-toggleable__label-arrow:before {content: \"▸\";float: left;margin-right: 0.25em;color: #696969;}#sk-container-id-5 label.sk-toggleable__label-arrow:hover:before {color: black;}#sk-container-id-5 div.sk-estimator:hover label.sk-toggleable__label-arrow:before {color: black;}#sk-container-id-5 div.sk-toggleable__content {max-height: 0;max-width: 0;overflow: hidden;text-align: left;background-color: #f0f8ff;}#sk-container-id-5 div.sk-toggleable__content pre {margin: 0.2em;color: black;border-radius: 0.25em;background-color: #f0f8ff;}#sk-container-id-5 input.sk-toggleable__control:checked~div.sk-toggleable__content {max-height: 200px;max-width: 100%;overflow: auto;}#sk-container-id-5 input.sk-toggleable__control:checked~label.sk-toggleable__label-arrow:before {content: \"▾\";}#sk-container-id-5 div.sk-estimator input.sk-toggleable__control:checked~label.sk-toggleable__label {background-color: #d4ebff;}#sk-container-id-5 div.sk-label input.sk-toggleable__control:checked~label.sk-toggleable__label {background-color: #d4ebff;}#sk-container-id-5 input.sk-hidden--visually {border: 0;clip: rect(1px 1px 1px 1px);clip: rect(1px, 1px, 1px, 1px);height: 1px;margin: -1px;overflow: hidden;padding: 0;position: absolute;width: 1px;}#sk-container-id-5 div.sk-estimator {font-family: monospace;background-color: #f0f8ff;border: 1px dotted black;border-radius: 0.25em;box-sizing: border-box;margin-bottom: 0.5em;}#sk-container-id-5 div.sk-estimator:hover {background-color: #d4ebff;}#sk-container-id-5 div.sk-parallel-item::after {content: \"\";width: 100%;border-bottom: 1px solid gray;flex-grow: 1;}#sk-container-id-5 div.sk-label:hover label.sk-toggleable__label {background-color: #d4ebff;}#sk-container-id-5 div.sk-serial::before {content: \"\";position: absolute;border-left: 1px solid gray;box-sizing: border-box;top: 0;bottom: 0;left: 50%;z-index: 0;}#sk-container-id-5 div.sk-serial {display: flex;flex-direction: column;align-items: center;background-color: white;padding-right: 0.2em;padding-left: 0.2em;position: relative;}#sk-container-id-5 div.sk-item {position: relative;z-index: 1;}#sk-container-id-5 div.sk-parallel {display: flex;align-items: stretch;justify-content: center;background-color: white;position: relative;}#sk-container-id-5 div.sk-item::before, #sk-container-id-5 div.sk-parallel-item::before {content: \"\";position: absolute;border-left: 1px solid gray;box-sizing: border-box;top: 0;bottom: 0;left: 50%;z-index: -1;}#sk-container-id-5 div.sk-parallel-item {display: flex;flex-direction: column;z-index: 1;position: relative;background-color: white;}#sk-container-id-5 div.sk-parallel-item:first-child::after {align-self: flex-end;width: 50%;}#sk-container-id-5 div.sk-parallel-item:last-child::after {align-self: flex-start;width: 50%;}#sk-container-id-5 div.sk-parallel-item:only-child::after {width: 0;}#sk-container-id-5 div.sk-dashed-wrapped {border: 1px dashed gray;margin: 0 0.4em 0.5em 0.4em;box-sizing: border-box;padding-bottom: 0.4em;background-color: white;}#sk-container-id-5 div.sk-label label {font-family: monospace;font-weight: bold;display: inline-block;line-height: 1.2em;}#sk-container-id-5 div.sk-label-container {text-align: center;}#sk-container-id-5 div.sk-container {/* jupyter's `normalize.less` sets `[hidden] { display: none; }` but bootstrap.min.css set `[hidden] { display: none !important; }` so we also need the `!important` here to be able to override the default hidden behavior on the sphinx rendered scikit-learn.org. See: https://github.com/scikit-learn/scikit-learn/issues/21755 */display: inline-block !important;position: relative;}#sk-container-id-5 div.sk-text-repr-fallback {display: none;}</style><div id=\"sk-container-id-5\" class=\"sk-top-container\"><div class=\"sk-text-repr-fallback\"><pre>GradientBoostingClassifier()</pre><b>In a Jupyter environment, please rerun this cell to show the HTML representation or trust the notebook. <br />On GitHub, the HTML representation is unable to render, please try loading this page with nbviewer.org.</b></div><div class=\"sk-container\" hidden><div class=\"sk-item\"><div class=\"sk-estimator sk-toggleable\"><input class=\"sk-toggleable__control sk-hidden--visually\" id=\"sk-estimator-id-5\" type=\"checkbox\" checked><label for=\"sk-estimator-id-5\" class=\"sk-toggleable__label sk-toggleable__label-arrow\">GradientBoostingClassifier</label><div class=\"sk-toggleable__content\"><pre>GradientBoostingClassifier()</pre></div></div></div></div></div>"
            ]
          },
          "metadata": {},
          "execution_count": 45
        }
      ]
    },
    {
      "cell_type": "code",
      "source": [
        "gb_predication=gb_model.predict(X_TEST)\n",
        "report=classification_report(Y_TEST,gb_predication)\n",
        "print(report)"
      ],
      "metadata": {
        "colab": {
          "base_uri": "https://localhost:8080/"
        },
        "id": "hJZ9aTlMZ-Y4",
        "outputId": "29832172-1d8b-447c-d15e-10ab9783af58"
      },
      "execution_count": null,
      "outputs": [
        {
          "output_type": "stream",
          "name": "stdout",
          "text": [
            "              precision    recall  f1-score   support\n",
            "\n",
            "           0       0.91      0.98      0.95      5066\n",
            "           1       0.91      0.66      0.77      1418\n",
            "\n",
            "    accuracy                           0.91      6484\n",
            "   macro avg       0.91      0.82      0.86      6484\n",
            "weighted avg       0.91      0.91      0.91      6484\n",
            "\n"
          ]
        }
      ]
    },
    {
      "cell_type": "code",
      "source": [
        "gb_model.score(X_TEST,Y_TEST)\n"
      ],
      "metadata": {
        "colab": {
          "base_uri": "https://localhost:8080/"
        },
        "id": "8PL-C0tw5qol",
        "outputId": "fb2d92fa-c2b0-42d9-ff64-553cf3ef72d7"
      },
      "execution_count": null,
      "outputs": [
        {
          "output_type": "execute_result",
          "data": {
            "text/plain": [
              "0.9117828500925355"
            ]
          },
          "metadata": {},
          "execution_count": 47
        }
      ]
    },
    {
      "cell_type": "code",
      "source": [
        "!pip install scikit-learn==1.2.2"
      ],
      "metadata": {
        "colab": {
          "base_uri": "https://localhost:8080/"
        },
        "collapsed": true,
        "id": "PJVWOJht_Zq1",
        "outputId": "65c88324-9b91-4638-8365-ad2e503150a6"
      },
      "execution_count": null,
      "outputs": [
        {
          "output_type": "stream",
          "name": "stdout",
          "text": [
            "Requirement already satisfied: scikit-learn==1.2.2 in /usr/local/lib/python3.11/dist-packages (1.2.2)\n",
            "Requirement already satisfied: numpy>=1.17.3 in /usr/local/lib/python3.11/dist-packages (from scikit-learn==1.2.2) (1.26.4)\n",
            "Requirement already satisfied: scipy>=1.3.2 in /usr/local/lib/python3.11/dist-packages (from scikit-learn==1.2.2) (1.13.1)\n",
            "Requirement already satisfied: joblib>=1.1.1 in /usr/local/lib/python3.11/dist-packages (from scikit-learn==1.2.2) (1.4.2)\n",
            "Requirement already satisfied: threadpoolctl>=2.0.0 in /usr/local/lib/python3.11/dist-packages (from scikit-learn==1.2.2) (3.5.0)\n"
          ]
        }
      ]
    },
    {
      "cell_type": "markdown",
      "source": [
        "5. XGboost"
      ],
      "metadata": {
        "id": "cnO8LdD9Zolf"
      }
    },
    {
      "cell_type": "code",
      "source": [
        "from xgboost import XGBClassifier\n",
        "xgb_model=XGBClassifier()\n",
        "xgb_model.fit(X_TRAIN,Y_TRAIN)\n"
      ],
      "metadata": {
        "id": "ImULYwLL6beM",
        "colab": {
          "base_uri": "https://localhost:8080/",
          "height": 248
        },
        "outputId": "dd30d8c2-e694-4d27-e8e6-997cfd52db38"
      },
      "execution_count": null,
      "outputs": [
        {
          "output_type": "execute_result",
          "data": {
            "text/plain": [
              "XGBClassifier(base_score=None, booster=None, callbacks=None,\n",
              "              colsample_bylevel=None, colsample_bynode=None,\n",
              "              colsample_bytree=None, device=None, early_stopping_rounds=None,\n",
              "              enable_categorical=False, eval_metric=None, feature_types=None,\n",
              "              gamma=None, grow_policy=None, importance_type=None,\n",
              "              interaction_constraints=None, learning_rate=None, max_bin=None,\n",
              "              max_cat_threshold=None, max_cat_to_onehot=None,\n",
              "              max_delta_step=None, max_depth=None, max_leaves=None,\n",
              "              min_child_weight=None, missing=nan, monotone_constraints=None,\n",
              "              multi_strategy=None, n_estimators=None, n_jobs=None,\n",
              "              num_parallel_tree=None, random_state=None, ...)"
            ],
            "text/html": [
              "<style>#sk-container-id-6 {color: black;background-color: white;}#sk-container-id-6 pre{padding: 0;}#sk-container-id-6 div.sk-toggleable {background-color: white;}#sk-container-id-6 label.sk-toggleable__label {cursor: pointer;display: block;width: 100%;margin-bottom: 0;padding: 0.3em;box-sizing: border-box;text-align: center;}#sk-container-id-6 label.sk-toggleable__label-arrow:before {content: \"▸\";float: left;margin-right: 0.25em;color: #696969;}#sk-container-id-6 label.sk-toggleable__label-arrow:hover:before {color: black;}#sk-container-id-6 div.sk-estimator:hover label.sk-toggleable__label-arrow:before {color: black;}#sk-container-id-6 div.sk-toggleable__content {max-height: 0;max-width: 0;overflow: hidden;text-align: left;background-color: #f0f8ff;}#sk-container-id-6 div.sk-toggleable__content pre {margin: 0.2em;color: black;border-radius: 0.25em;background-color: #f0f8ff;}#sk-container-id-6 input.sk-toggleable__control:checked~div.sk-toggleable__content {max-height: 200px;max-width: 100%;overflow: auto;}#sk-container-id-6 input.sk-toggleable__control:checked~label.sk-toggleable__label-arrow:before {content: \"▾\";}#sk-container-id-6 div.sk-estimator input.sk-toggleable__control:checked~label.sk-toggleable__label {background-color: #d4ebff;}#sk-container-id-6 div.sk-label input.sk-toggleable__control:checked~label.sk-toggleable__label {background-color: #d4ebff;}#sk-container-id-6 input.sk-hidden--visually {border: 0;clip: rect(1px 1px 1px 1px);clip: rect(1px, 1px, 1px, 1px);height: 1px;margin: -1px;overflow: hidden;padding: 0;position: absolute;width: 1px;}#sk-container-id-6 div.sk-estimator {font-family: monospace;background-color: #f0f8ff;border: 1px dotted black;border-radius: 0.25em;box-sizing: border-box;margin-bottom: 0.5em;}#sk-container-id-6 div.sk-estimator:hover {background-color: #d4ebff;}#sk-container-id-6 div.sk-parallel-item::after {content: \"\";width: 100%;border-bottom: 1px solid gray;flex-grow: 1;}#sk-container-id-6 div.sk-label:hover label.sk-toggleable__label {background-color: #d4ebff;}#sk-container-id-6 div.sk-serial::before {content: \"\";position: absolute;border-left: 1px solid gray;box-sizing: border-box;top: 0;bottom: 0;left: 50%;z-index: 0;}#sk-container-id-6 div.sk-serial {display: flex;flex-direction: column;align-items: center;background-color: white;padding-right: 0.2em;padding-left: 0.2em;position: relative;}#sk-container-id-6 div.sk-item {position: relative;z-index: 1;}#sk-container-id-6 div.sk-parallel {display: flex;align-items: stretch;justify-content: center;background-color: white;position: relative;}#sk-container-id-6 div.sk-item::before, #sk-container-id-6 div.sk-parallel-item::before {content: \"\";position: absolute;border-left: 1px solid gray;box-sizing: border-box;top: 0;bottom: 0;left: 50%;z-index: -1;}#sk-container-id-6 div.sk-parallel-item {display: flex;flex-direction: column;z-index: 1;position: relative;background-color: white;}#sk-container-id-6 div.sk-parallel-item:first-child::after {align-self: flex-end;width: 50%;}#sk-container-id-6 div.sk-parallel-item:last-child::after {align-self: flex-start;width: 50%;}#sk-container-id-6 div.sk-parallel-item:only-child::after {width: 0;}#sk-container-id-6 div.sk-dashed-wrapped {border: 1px dashed gray;margin: 0 0.4em 0.5em 0.4em;box-sizing: border-box;padding-bottom: 0.4em;background-color: white;}#sk-container-id-6 div.sk-label label {font-family: monospace;font-weight: bold;display: inline-block;line-height: 1.2em;}#sk-container-id-6 div.sk-label-container {text-align: center;}#sk-container-id-6 div.sk-container {/* jupyter's `normalize.less` sets `[hidden] { display: none; }` but bootstrap.min.css set `[hidden] { display: none !important; }` so we also need the `!important` here to be able to override the default hidden behavior on the sphinx rendered scikit-learn.org. See: https://github.com/scikit-learn/scikit-learn/issues/21755 */display: inline-block !important;position: relative;}#sk-container-id-6 div.sk-text-repr-fallback {display: none;}</style><div id=\"sk-container-id-6\" class=\"sk-top-container\"><div class=\"sk-text-repr-fallback\"><pre>XGBClassifier(base_score=None, booster=None, callbacks=None,\n",
              "              colsample_bylevel=None, colsample_bynode=None,\n",
              "              colsample_bytree=None, device=None, early_stopping_rounds=None,\n",
              "              enable_categorical=False, eval_metric=None, feature_types=None,\n",
              "              gamma=None, grow_policy=None, importance_type=None,\n",
              "              interaction_constraints=None, learning_rate=None, max_bin=None,\n",
              "              max_cat_threshold=None, max_cat_to_onehot=None,\n",
              "              max_delta_step=None, max_depth=None, max_leaves=None,\n",
              "              min_child_weight=None, missing=nan, monotone_constraints=None,\n",
              "              multi_strategy=None, n_estimators=None, n_jobs=None,\n",
              "              num_parallel_tree=None, random_state=None, ...)</pre><b>In a Jupyter environment, please rerun this cell to show the HTML representation or trust the notebook. <br />On GitHub, the HTML representation is unable to render, please try loading this page with nbviewer.org.</b></div><div class=\"sk-container\" hidden><div class=\"sk-item\"><div class=\"sk-estimator sk-toggleable\"><input class=\"sk-toggleable__control sk-hidden--visually\" id=\"sk-estimator-id-6\" type=\"checkbox\" checked><label for=\"sk-estimator-id-6\" class=\"sk-toggleable__label sk-toggleable__label-arrow\">XGBClassifier</label><div class=\"sk-toggleable__content\"><pre>XGBClassifier(base_score=None, booster=None, callbacks=None,\n",
              "              colsample_bylevel=None, colsample_bynode=None,\n",
              "              colsample_bytree=None, device=None, early_stopping_rounds=None,\n",
              "              enable_categorical=False, eval_metric=None, feature_types=None,\n",
              "              gamma=None, grow_policy=None, importance_type=None,\n",
              "              interaction_constraints=None, learning_rate=None, max_bin=None,\n",
              "              max_cat_threshold=None, max_cat_to_onehot=None,\n",
              "              max_delta_step=None, max_depth=None, max_leaves=None,\n",
              "              min_child_weight=None, missing=nan, monotone_constraints=None,\n",
              "              multi_strategy=None, n_estimators=None, n_jobs=None,\n",
              "              num_parallel_tree=None, random_state=None, ...)</pre></div></div></div></div></div>"
            ]
          },
          "metadata": {},
          "execution_count": 49
        }
      ]
    },
    {
      "cell_type": "code",
      "source": [
        "xgboost_predication=xgb_model.predict(X_TEST)\n",
        "report=classification_report(Y_TEST,xgboost_predication)\n",
        "print(report)"
      ],
      "metadata": {
        "colab": {
          "base_uri": "https://localhost:8080/"
        },
        "id": "xfDRpEPpdJF9",
        "outputId": "1bfa4c42-a2bb-402e-979a-6a54c8e0f5ca"
      },
      "execution_count": null,
      "outputs": [
        {
          "output_type": "stream",
          "name": "stdout",
          "text": [
            "              precision    recall  f1-score   support\n",
            "\n",
            "           0       0.93      0.99      0.96      5066\n",
            "           1       0.94      0.73      0.82      1418\n",
            "\n",
            "    accuracy                           0.93      6484\n",
            "   macro avg       0.93      0.86      0.89      6484\n",
            "weighted avg       0.93      0.93      0.93      6484\n",
            "\n"
          ]
        }
      ]
    },
    {
      "cell_type": "code",
      "source": [
        "xgb_model.score(X_TEST,Y_TEST)"
      ],
      "metadata": {
        "colab": {
          "base_uri": "https://localhost:8080/"
        },
        "id": "pvr5jqCodgz5",
        "outputId": "af41a019-89b7-4350-d418-f01a35ea1814"
      },
      "execution_count": null,
      "outputs": [
        {
          "output_type": "execute_result",
          "data": {
            "text/plain": [
              "0.9299814929056138"
            ]
          },
          "metadata": {},
          "execution_count": 51
        }
      ]
    },
    {
      "cell_type": "code",
      "source": [
        "!pip install catboost"
      ],
      "metadata": {
        "colab": {
          "base_uri": "https://localhost:8080/"
        },
        "collapsed": true,
        "id": "UFtAS2UeetxR",
        "outputId": "4157bfe4-c79a-4853-e9dd-81163a21c874"
      },
      "execution_count": null,
      "outputs": [
        {
          "output_type": "stream",
          "name": "stdout",
          "text": [
            "Requirement already satisfied: catboost in /usr/local/lib/python3.11/dist-packages (1.2.7)\n",
            "Requirement already satisfied: graphviz in /usr/local/lib/python3.11/dist-packages (from catboost) (0.20.3)\n",
            "Requirement already satisfied: matplotlib in /usr/local/lib/python3.11/dist-packages (from catboost) (3.10.0)\n",
            "Requirement already satisfied: numpy<2.0,>=1.16.0 in /usr/local/lib/python3.11/dist-packages (from catboost) (1.26.4)\n",
            "Requirement already satisfied: pandas>=0.24 in /usr/local/lib/python3.11/dist-packages (from catboost) (2.2.2)\n",
            "Requirement already satisfied: scipy in /usr/local/lib/python3.11/dist-packages (from catboost) (1.13.1)\n",
            "Requirement already satisfied: plotly in /usr/local/lib/python3.11/dist-packages (from catboost) (5.24.1)\n",
            "Requirement already satisfied: six in /usr/local/lib/python3.11/dist-packages (from catboost) (1.17.0)\n",
            "Requirement already satisfied: python-dateutil>=2.8.2 in /usr/local/lib/python3.11/dist-packages (from pandas>=0.24->catboost) (2.8.2)\n",
            "Requirement already satisfied: pytz>=2020.1 in /usr/local/lib/python3.11/dist-packages (from pandas>=0.24->catboost) (2024.2)\n",
            "Requirement already satisfied: tzdata>=2022.7 in /usr/local/lib/python3.11/dist-packages (from pandas>=0.24->catboost) (2024.2)\n",
            "Requirement already satisfied: contourpy>=1.0.1 in /usr/local/lib/python3.11/dist-packages (from matplotlib->catboost) (1.3.1)\n",
            "Requirement already satisfied: cycler>=0.10 in /usr/local/lib/python3.11/dist-packages (from matplotlib->catboost) (0.12.1)\n",
            "Requirement already satisfied: fonttools>=4.22.0 in /usr/local/lib/python3.11/dist-packages (from matplotlib->catboost) (4.55.3)\n",
            "Requirement already satisfied: kiwisolver>=1.3.1 in /usr/local/lib/python3.11/dist-packages (from matplotlib->catboost) (1.4.8)\n",
            "Requirement already satisfied: packaging>=20.0 in /usr/local/lib/python3.11/dist-packages (from matplotlib->catboost) (24.2)\n",
            "Requirement already satisfied: pillow>=8 in /usr/local/lib/python3.11/dist-packages (from matplotlib->catboost) (11.1.0)\n",
            "Requirement already satisfied: pyparsing>=2.3.1 in /usr/local/lib/python3.11/dist-packages (from matplotlib->catboost) (3.2.1)\n",
            "Requirement already satisfied: tenacity>=6.2.0 in /usr/local/lib/python3.11/dist-packages (from plotly->catboost) (9.0.0)\n"
          ]
        }
      ]
    },
    {
      "cell_type": "markdown",
      "source": [
        "6.Catboost"
      ],
      "metadata": {
        "id": "LBlR-SW5eikc"
      }
    },
    {
      "cell_type": "code",
      "source": [
        "from catboost import CatBoostClassifier\n",
        "cat_model=CatBoostClassifier()\n",
        "cat_model.fit(X_TRAIN,Y_TRAIN)"
      ],
      "metadata": {
        "colab": {
          "base_uri": "https://localhost:8080/"
        },
        "collapsed": true,
        "id": "S44V-K0Vdpfu",
        "outputId": "27d6e0db-bb0e-49e9-c9fc-4df0393dbb9f"
      },
      "execution_count": null,
      "outputs": [
        {
          "output_type": "stream",
          "name": "stdout",
          "text": [
            "Learning rate set to 0.041366\n",
            "0:\tlearn: 0.6621704\ttotal: 73.2ms\tremaining: 1m 13s\n",
            "1:\tlearn: 0.6315147\ttotal: 144ms\tremaining: 1m 11s\n",
            "2:\tlearn: 0.6057290\ttotal: 210ms\tremaining: 1m 9s\n",
            "3:\tlearn: 0.5821358\ttotal: 261ms\tremaining: 1m 5s\n",
            "4:\tlearn: 0.5591566\ttotal: 308ms\tremaining: 1m 1s\n",
            "5:\tlearn: 0.5397414\ttotal: 338ms\tremaining: 55.9s\n",
            "6:\tlearn: 0.5214766\ttotal: 364ms\tremaining: 51.6s\n",
            "7:\tlearn: 0.5051562\ttotal: 384ms\tremaining: 47.6s\n",
            "8:\tlearn: 0.4923644\ttotal: 394ms\tremaining: 43.3s\n",
            "9:\tlearn: 0.4826454\ttotal: 415ms\tremaining: 41.1s\n",
            "10:\tlearn: 0.4699444\ttotal: 426ms\tremaining: 38.3s\n",
            "11:\tlearn: 0.4595487\ttotal: 436ms\tremaining: 35.9s\n",
            "12:\tlearn: 0.4507418\ttotal: 445ms\tremaining: 33.8s\n",
            "13:\tlearn: 0.4395920\ttotal: 456ms\tremaining: 32.1s\n",
            "14:\tlearn: 0.4291351\ttotal: 466ms\tremaining: 30.6s\n",
            "15:\tlearn: 0.4209084\ttotal: 494ms\tremaining: 30.4s\n",
            "16:\tlearn: 0.4135786\ttotal: 509ms\tremaining: 29.4s\n",
            "17:\tlearn: 0.4052891\ttotal: 519ms\tremaining: 28.3s\n",
            "18:\tlearn: 0.3993556\ttotal: 534ms\tremaining: 27.6s\n",
            "19:\tlearn: 0.3937266\ttotal: 548ms\tremaining: 26.9s\n",
            "20:\tlearn: 0.3870209\ttotal: 561ms\tremaining: 26.1s\n",
            "21:\tlearn: 0.3804612\ttotal: 569ms\tremaining: 25.3s\n",
            "22:\tlearn: 0.3751779\ttotal: 578ms\tremaining: 24.5s\n",
            "23:\tlearn: 0.3708458\ttotal: 587ms\tremaining: 23.9s\n",
            "24:\tlearn: 0.3661866\ttotal: 596ms\tremaining: 23.3s\n",
            "25:\tlearn: 0.3620279\ttotal: 609ms\tremaining: 22.8s\n",
            "26:\tlearn: 0.3578851\ttotal: 618ms\tremaining: 22.3s\n",
            "27:\tlearn: 0.3536698\ttotal: 628ms\tremaining: 21.8s\n",
            "28:\tlearn: 0.3497407\ttotal: 636ms\tremaining: 21.3s\n",
            "29:\tlearn: 0.3455114\ttotal: 646ms\tremaining: 20.9s\n",
            "30:\tlearn: 0.3421959\ttotal: 655ms\tremaining: 20.5s\n",
            "31:\tlearn: 0.3388121\ttotal: 663ms\tremaining: 20.1s\n",
            "32:\tlearn: 0.3356827\ttotal: 672ms\tremaining: 19.7s\n",
            "33:\tlearn: 0.3329544\ttotal: 681ms\tremaining: 19.3s\n",
            "34:\tlearn: 0.3312346\ttotal: 688ms\tremaining: 19s\n",
            "35:\tlearn: 0.3275895\ttotal: 697ms\tremaining: 18.7s\n",
            "36:\tlearn: 0.3251900\ttotal: 715ms\tremaining: 18.6s\n",
            "37:\tlearn: 0.3230561\ttotal: 733ms\tremaining: 18.5s\n",
            "38:\tlearn: 0.3199417\ttotal: 742ms\tremaining: 18.3s\n",
            "39:\tlearn: 0.3172690\ttotal: 750ms\tremaining: 18s\n",
            "40:\tlearn: 0.3151304\ttotal: 758ms\tremaining: 17.7s\n",
            "41:\tlearn: 0.3130447\ttotal: 767ms\tremaining: 17.5s\n",
            "42:\tlearn: 0.3103354\ttotal: 775ms\tremaining: 17.3s\n",
            "43:\tlearn: 0.3089012\ttotal: 783ms\tremaining: 17s\n",
            "44:\tlearn: 0.3079613\ttotal: 796ms\tremaining: 16.9s\n",
            "45:\tlearn: 0.3063794\ttotal: 804ms\tremaining: 16.7s\n",
            "46:\tlearn: 0.3050808\ttotal: 815ms\tremaining: 16.5s\n",
            "47:\tlearn: 0.3032570\ttotal: 824ms\tremaining: 16.3s\n",
            "48:\tlearn: 0.3018527\ttotal: 832ms\tremaining: 16.2s\n",
            "49:\tlearn: 0.3002710\ttotal: 840ms\tremaining: 16s\n",
            "50:\tlearn: 0.2984503\ttotal: 849ms\tremaining: 15.8s\n",
            "51:\tlearn: 0.2972551\ttotal: 857ms\tremaining: 15.6s\n",
            "52:\tlearn: 0.2961687\ttotal: 866ms\tremaining: 15.5s\n",
            "53:\tlearn: 0.2934208\ttotal: 874ms\tremaining: 15.3s\n",
            "54:\tlearn: 0.2923798\ttotal: 884ms\tremaining: 15.2s\n",
            "55:\tlearn: 0.2915826\ttotal: 892ms\tremaining: 15s\n",
            "56:\tlearn: 0.2907085\ttotal: 900ms\tremaining: 14.9s\n",
            "57:\tlearn: 0.2889572\ttotal: 908ms\tremaining: 14.7s\n",
            "58:\tlearn: 0.2879680\ttotal: 916ms\tremaining: 14.6s\n",
            "59:\tlearn: 0.2870529\ttotal: 927ms\tremaining: 14.5s\n",
            "60:\tlearn: 0.2859408\ttotal: 936ms\tremaining: 14.4s\n",
            "61:\tlearn: 0.2847049\ttotal: 946ms\tremaining: 14.3s\n",
            "62:\tlearn: 0.2841575\ttotal: 954ms\tremaining: 14.2s\n",
            "63:\tlearn: 0.2834209\ttotal: 962ms\tremaining: 14.1s\n",
            "64:\tlearn: 0.2823236\ttotal: 970ms\tremaining: 14s\n",
            "65:\tlearn: 0.2809519\ttotal: 979ms\tremaining: 13.8s\n",
            "66:\tlearn: 0.2800690\ttotal: 987ms\tremaining: 13.7s\n",
            "67:\tlearn: 0.2790288\ttotal: 996ms\tremaining: 13.7s\n",
            "68:\tlearn: 0.2779873\ttotal: 1s\tremaining: 13.6s\n",
            "69:\tlearn: 0.2769478\ttotal: 1.02s\tremaining: 13.5s\n",
            "70:\tlearn: 0.2757624\ttotal: 1.02s\tremaining: 13.4s\n",
            "71:\tlearn: 0.2746947\ttotal: 1.03s\tremaining: 13.3s\n",
            "72:\tlearn: 0.2740682\ttotal: 1.04s\tremaining: 13.2s\n",
            "73:\tlearn: 0.2734663\ttotal: 1.05s\tremaining: 13.1s\n",
            "74:\tlearn: 0.2726228\ttotal: 1.06s\tremaining: 13s\n",
            "75:\tlearn: 0.2721898\ttotal: 1.07s\tremaining: 13s\n",
            "76:\tlearn: 0.2713190\ttotal: 1.07s\tremaining: 12.9s\n",
            "77:\tlearn: 0.2705021\ttotal: 1.08s\tremaining: 12.8s\n",
            "78:\tlearn: 0.2696889\ttotal: 1.09s\tremaining: 12.7s\n",
            "79:\tlearn: 0.2690166\ttotal: 1.1s\tremaining: 12.7s\n",
            "80:\tlearn: 0.2686228\ttotal: 1.11s\tremaining: 12.6s\n",
            "81:\tlearn: 0.2677988\ttotal: 1.12s\tremaining: 12.5s\n",
            "82:\tlearn: 0.2672699\ttotal: 1.13s\tremaining: 12.5s\n",
            "83:\tlearn: 0.2663897\ttotal: 1.14s\tremaining: 12.4s\n",
            "84:\tlearn: 0.2656651\ttotal: 1.15s\tremaining: 12.3s\n",
            "85:\tlearn: 0.2654106\ttotal: 1.15s\tremaining: 12.3s\n",
            "86:\tlearn: 0.2649420\ttotal: 1.16s\tremaining: 12.2s\n",
            "87:\tlearn: 0.2641946\ttotal: 1.17s\tremaining: 12.1s\n",
            "88:\tlearn: 0.2636105\ttotal: 1.18s\tremaining: 12.1s\n",
            "89:\tlearn: 0.2630347\ttotal: 1.19s\tremaining: 12s\n",
            "90:\tlearn: 0.2624492\ttotal: 1.19s\tremaining: 11.9s\n",
            "91:\tlearn: 0.2620021\ttotal: 1.2s\tremaining: 11.9s\n",
            "92:\tlearn: 0.2616437\ttotal: 1.21s\tremaining: 11.8s\n",
            "93:\tlearn: 0.2611567\ttotal: 1.22s\tremaining: 11.8s\n",
            "94:\tlearn: 0.2608480\ttotal: 1.23s\tremaining: 11.7s\n",
            "95:\tlearn: 0.2603907\ttotal: 1.24s\tremaining: 11.7s\n",
            "96:\tlearn: 0.2596447\ttotal: 1.25s\tremaining: 11.6s\n",
            "97:\tlearn: 0.2590711\ttotal: 1.25s\tremaining: 11.5s\n",
            "98:\tlearn: 0.2584643\ttotal: 1.26s\tremaining: 11.5s\n",
            "99:\tlearn: 0.2580591\ttotal: 1.28s\tremaining: 11.6s\n",
            "100:\tlearn: 0.2577485\ttotal: 1.29s\tremaining: 11.5s\n",
            "101:\tlearn: 0.2575317\ttotal: 1.31s\tremaining: 11.5s\n",
            "102:\tlearn: 0.2570149\ttotal: 1.32s\tremaining: 11.5s\n",
            "103:\tlearn: 0.2562441\ttotal: 1.33s\tremaining: 11.4s\n",
            "104:\tlearn: 0.2559757\ttotal: 1.34s\tremaining: 11.4s\n",
            "105:\tlearn: 0.2556320\ttotal: 1.35s\tremaining: 11.4s\n",
            "106:\tlearn: 0.2553189\ttotal: 1.36s\tremaining: 11.4s\n",
            "107:\tlearn: 0.2550769\ttotal: 1.37s\tremaining: 11.3s\n",
            "108:\tlearn: 0.2540861\ttotal: 1.38s\tremaining: 11.3s\n",
            "109:\tlearn: 0.2533002\ttotal: 1.39s\tremaining: 11.3s\n",
            "110:\tlearn: 0.2529393\ttotal: 1.4s\tremaining: 11.2s\n",
            "111:\tlearn: 0.2526754\ttotal: 1.42s\tremaining: 11.2s\n",
            "112:\tlearn: 0.2524884\ttotal: 1.43s\tremaining: 11.2s\n",
            "113:\tlearn: 0.2521571\ttotal: 1.45s\tremaining: 11.3s\n",
            "114:\tlearn: 0.2516195\ttotal: 1.48s\tremaining: 11.4s\n",
            "115:\tlearn: 0.2514018\ttotal: 1.5s\tremaining: 11.4s\n",
            "116:\tlearn: 0.2511181\ttotal: 1.51s\tremaining: 11.4s\n",
            "117:\tlearn: 0.2507401\ttotal: 1.52s\tremaining: 11.4s\n",
            "118:\tlearn: 0.2505282\ttotal: 1.53s\tremaining: 11.4s\n",
            "119:\tlearn: 0.2504112\ttotal: 1.54s\tremaining: 11.3s\n",
            "120:\tlearn: 0.2499534\ttotal: 1.56s\tremaining: 11.3s\n",
            "121:\tlearn: 0.2495614\ttotal: 1.58s\tremaining: 11.4s\n",
            "122:\tlearn: 0.2490493\ttotal: 1.6s\tremaining: 11.4s\n",
            "123:\tlearn: 0.2487221\ttotal: 1.63s\tremaining: 11.5s\n",
            "124:\tlearn: 0.2483858\ttotal: 1.65s\tremaining: 11.6s\n",
            "125:\tlearn: 0.2480616\ttotal: 1.68s\tremaining: 11.6s\n",
            "126:\tlearn: 0.2472369\ttotal: 1.7s\tremaining: 11.7s\n",
            "127:\tlearn: 0.2471028\ttotal: 1.73s\tremaining: 11.8s\n",
            "128:\tlearn: 0.2464945\ttotal: 1.75s\tremaining: 11.8s\n",
            "129:\tlearn: 0.2460938\ttotal: 1.78s\tremaining: 11.9s\n",
            "130:\tlearn: 0.2457297\ttotal: 1.79s\tremaining: 11.9s\n",
            "131:\tlearn: 0.2453858\ttotal: 1.8s\tremaining: 11.8s\n",
            "132:\tlearn: 0.2451558\ttotal: 1.8s\tremaining: 11.8s\n",
            "133:\tlearn: 0.2450103\ttotal: 1.81s\tremaining: 11.7s\n",
            "134:\tlearn: 0.2448106\ttotal: 1.82s\tremaining: 11.7s\n",
            "135:\tlearn: 0.2444695\ttotal: 1.83s\tremaining: 11.7s\n",
            "136:\tlearn: 0.2440848\ttotal: 1.84s\tremaining: 11.6s\n",
            "137:\tlearn: 0.2438280\ttotal: 1.85s\tremaining: 11.6s\n",
            "138:\tlearn: 0.2431384\ttotal: 1.86s\tremaining: 11.5s\n",
            "139:\tlearn: 0.2429957\ttotal: 1.87s\tremaining: 11.5s\n",
            "140:\tlearn: 0.2427106\ttotal: 1.88s\tremaining: 11.4s\n",
            "141:\tlearn: 0.2425070\ttotal: 1.88s\tremaining: 11.4s\n",
            "142:\tlearn: 0.2421519\ttotal: 1.89s\tremaining: 11.3s\n",
            "143:\tlearn: 0.2418470\ttotal: 1.9s\tremaining: 11.3s\n",
            "144:\tlearn: 0.2413009\ttotal: 1.91s\tremaining: 11.3s\n",
            "145:\tlearn: 0.2411092\ttotal: 1.92s\tremaining: 11.2s\n",
            "146:\tlearn: 0.2407192\ttotal: 1.93s\tremaining: 11.2s\n",
            "147:\tlearn: 0.2402698\ttotal: 1.94s\tremaining: 11.1s\n",
            "148:\tlearn: 0.2401205\ttotal: 1.94s\tremaining: 11.1s\n",
            "149:\tlearn: 0.2398707\ttotal: 1.95s\tremaining: 11.1s\n",
            "150:\tlearn: 0.2396591\ttotal: 1.96s\tremaining: 11s\n",
            "151:\tlearn: 0.2394882\ttotal: 1.97s\tremaining: 11s\n",
            "152:\tlearn: 0.2393082\ttotal: 1.98s\tremaining: 10.9s\n",
            "153:\tlearn: 0.2392795\ttotal: 1.98s\tremaining: 10.9s\n",
            "154:\tlearn: 0.2390288\ttotal: 1.99s\tremaining: 10.8s\n",
            "155:\tlearn: 0.2388612\ttotal: 2s\tremaining: 10.8s\n",
            "156:\tlearn: 0.2385140\ttotal: 2s\tremaining: 10.8s\n",
            "157:\tlearn: 0.2381711\ttotal: 2.01s\tremaining: 10.7s\n",
            "158:\tlearn: 0.2378455\ttotal: 2.04s\tremaining: 10.8s\n",
            "159:\tlearn: 0.2376933\ttotal: 2.06s\tremaining: 10.8s\n",
            "160:\tlearn: 0.2374953\ttotal: 2.09s\tremaining: 10.9s\n",
            "161:\tlearn: 0.2370248\ttotal: 2.11s\tremaining: 10.9s\n",
            "162:\tlearn: 0.2366907\ttotal: 2.14s\tremaining: 11s\n",
            "163:\tlearn: 0.2362665\ttotal: 2.16s\tremaining: 11s\n",
            "164:\tlearn: 0.2360874\ttotal: 2.18s\tremaining: 11s\n",
            "165:\tlearn: 0.2359853\ttotal: 2.2s\tremaining: 11.1s\n",
            "166:\tlearn: 0.2357535\ttotal: 2.22s\tremaining: 11.1s\n",
            "167:\tlearn: 0.2355743\ttotal: 2.24s\tremaining: 11.1s\n",
            "168:\tlearn: 0.2354535\ttotal: 2.25s\tremaining: 11.1s\n",
            "169:\tlearn: 0.2350656\ttotal: 2.26s\tremaining: 11s\n",
            "170:\tlearn: 0.2347892\ttotal: 2.27s\tremaining: 11s\n",
            "171:\tlearn: 0.2346817\ttotal: 2.28s\tremaining: 11s\n",
            "172:\tlearn: 0.2346046\ttotal: 2.3s\tremaining: 11s\n",
            "173:\tlearn: 0.2343846\ttotal: 2.31s\tremaining: 11s\n",
            "174:\tlearn: 0.2342855\ttotal: 2.32s\tremaining: 10.9s\n",
            "175:\tlearn: 0.2340283\ttotal: 2.33s\tremaining: 10.9s\n",
            "176:\tlearn: 0.2337472\ttotal: 2.34s\tremaining: 10.9s\n",
            "177:\tlearn: 0.2335131\ttotal: 2.35s\tremaining: 10.9s\n",
            "178:\tlearn: 0.2333953\ttotal: 2.37s\tremaining: 10.9s\n",
            "179:\tlearn: 0.2331107\ttotal: 2.39s\tremaining: 10.9s\n",
            "180:\tlearn: 0.2329935\ttotal: 2.42s\tremaining: 11s\n",
            "181:\tlearn: 0.2328077\ttotal: 2.45s\tremaining: 11s\n",
            "182:\tlearn: 0.2326695\ttotal: 2.47s\tremaining: 11s\n",
            "183:\tlearn: 0.2325739\ttotal: 2.47s\tremaining: 11s\n",
            "184:\tlearn: 0.2323082\ttotal: 2.49s\tremaining: 11s\n",
            "185:\tlearn: 0.2319436\ttotal: 2.5s\tremaining: 10.9s\n",
            "186:\tlearn: 0.2318301\ttotal: 2.52s\tremaining: 11s\n",
            "187:\tlearn: 0.2316990\ttotal: 2.54s\tremaining: 11s\n",
            "188:\tlearn: 0.2314052\ttotal: 2.56s\tremaining: 11s\n",
            "189:\tlearn: 0.2312852\ttotal: 2.59s\tremaining: 11s\n",
            "190:\tlearn: 0.2309626\ttotal: 2.61s\tremaining: 11s\n",
            "191:\tlearn: 0.2308647\ttotal: 2.63s\tremaining: 11.1s\n",
            "192:\tlearn: 0.2307982\ttotal: 2.65s\tremaining: 11.1s\n",
            "193:\tlearn: 0.2306763\ttotal: 2.68s\tremaining: 11.1s\n",
            "194:\tlearn: 0.2304754\ttotal: 2.7s\tremaining: 11.2s\n",
            "195:\tlearn: 0.2303141\ttotal: 2.72s\tremaining: 11.2s\n",
            "196:\tlearn: 0.2302073\ttotal: 2.75s\tremaining: 11.2s\n",
            "197:\tlearn: 0.2301260\ttotal: 2.77s\tremaining: 11.2s\n",
            "198:\tlearn: 0.2300007\ttotal: 2.8s\tremaining: 11.3s\n",
            "199:\tlearn: 0.2298734\ttotal: 2.84s\tremaining: 11.4s\n",
            "200:\tlearn: 0.2296295\ttotal: 2.88s\tremaining: 11.5s\n",
            "201:\tlearn: 0.2294188\ttotal: 2.94s\tremaining: 11.6s\n",
            "202:\tlearn: 0.2293059\ttotal: 2.98s\tremaining: 11.7s\n",
            "203:\tlearn: 0.2290947\ttotal: 3.03s\tremaining: 11.8s\n",
            "204:\tlearn: 0.2289268\ttotal: 3.09s\tremaining: 12s\n",
            "205:\tlearn: 0.2283027\ttotal: 3.12s\tremaining: 12s\n",
            "206:\tlearn: 0.2281976\ttotal: 3.15s\tremaining: 12.1s\n",
            "207:\tlearn: 0.2280570\ttotal: 3.19s\tremaining: 12.1s\n",
            "208:\tlearn: 0.2278706\ttotal: 3.23s\tremaining: 12.2s\n",
            "209:\tlearn: 0.2274174\ttotal: 3.28s\tremaining: 12.3s\n",
            "210:\tlearn: 0.2271549\ttotal: 3.31s\tremaining: 12.4s\n",
            "211:\tlearn: 0.2268230\ttotal: 3.34s\tremaining: 12.4s\n",
            "212:\tlearn: 0.2266853\ttotal: 3.36s\tremaining: 12.4s\n",
            "213:\tlearn: 0.2264272\ttotal: 3.37s\tremaining: 12.4s\n",
            "214:\tlearn: 0.2262803\ttotal: 3.38s\tremaining: 12.3s\n",
            "215:\tlearn: 0.2261422\ttotal: 3.4s\tremaining: 12.3s\n",
            "216:\tlearn: 0.2260561\ttotal: 3.42s\tremaining: 12.3s\n",
            "217:\tlearn: 0.2258228\ttotal: 3.44s\tremaining: 12.3s\n",
            "218:\tlearn: 0.2256978\ttotal: 3.47s\tremaining: 12.4s\n",
            "219:\tlearn: 0.2255082\ttotal: 3.48s\tremaining: 12.4s\n",
            "220:\tlearn: 0.2252930\ttotal: 3.49s\tremaining: 12.3s\n",
            "221:\tlearn: 0.2251250\ttotal: 3.53s\tremaining: 12.4s\n",
            "222:\tlearn: 0.2249236\ttotal: 3.54s\tremaining: 12.3s\n",
            "223:\tlearn: 0.2247709\ttotal: 3.55s\tremaining: 12.3s\n",
            "224:\tlearn: 0.2246299\ttotal: 3.56s\tremaining: 12.3s\n",
            "225:\tlearn: 0.2241706\ttotal: 3.57s\tremaining: 12.2s\n",
            "226:\tlearn: 0.2239772\ttotal: 3.58s\tremaining: 12.2s\n",
            "227:\tlearn: 0.2238224\ttotal: 3.59s\tremaining: 12.2s\n",
            "228:\tlearn: 0.2235610\ttotal: 3.61s\tremaining: 12.2s\n",
            "229:\tlearn: 0.2232730\ttotal: 3.62s\tremaining: 12.1s\n",
            "230:\tlearn: 0.2231040\ttotal: 3.63s\tremaining: 12.1s\n",
            "231:\tlearn: 0.2230374\ttotal: 3.64s\tremaining: 12.1s\n",
            "232:\tlearn: 0.2229244\ttotal: 3.65s\tremaining: 12s\n",
            "233:\tlearn: 0.2227520\ttotal: 3.66s\tremaining: 12s\n",
            "234:\tlearn: 0.2225554\ttotal: 3.69s\tremaining: 12s\n",
            "235:\tlearn: 0.2223951\ttotal: 3.73s\tremaining: 12.1s\n",
            "236:\tlearn: 0.2223166\ttotal: 3.77s\tremaining: 12.1s\n",
            "237:\tlearn: 0.2222059\ttotal: 3.83s\tremaining: 12.2s\n",
            "238:\tlearn: 0.2218152\ttotal: 3.85s\tremaining: 12.2s\n",
            "239:\tlearn: 0.2217205\ttotal: 3.86s\tremaining: 12.2s\n",
            "240:\tlearn: 0.2215486\ttotal: 3.87s\tremaining: 12.2s\n",
            "241:\tlearn: 0.2214599\ttotal: 3.88s\tremaining: 12.1s\n",
            "242:\tlearn: 0.2213535\ttotal: 3.89s\tremaining: 12.1s\n",
            "243:\tlearn: 0.2211750\ttotal: 3.91s\tremaining: 12.1s\n",
            "244:\tlearn: 0.2211232\ttotal: 3.93s\tremaining: 12.1s\n",
            "245:\tlearn: 0.2209675\ttotal: 3.95s\tremaining: 12.1s\n",
            "246:\tlearn: 0.2208444\ttotal: 3.97s\tremaining: 12.1s\n",
            "247:\tlearn: 0.2207270\ttotal: 4s\tremaining: 12.1s\n",
            "248:\tlearn: 0.2205938\ttotal: 4.02s\tremaining: 12.1s\n",
            "249:\tlearn: 0.2204325\ttotal: 4.03s\tremaining: 12.1s\n",
            "250:\tlearn: 0.2202757\ttotal: 4.04s\tremaining: 12.1s\n",
            "251:\tlearn: 0.2200736\ttotal: 4.05s\tremaining: 12s\n",
            "252:\tlearn: 0.2199120\ttotal: 4.06s\tremaining: 12s\n",
            "253:\tlearn: 0.2197663\ttotal: 4.08s\tremaining: 12s\n",
            "254:\tlearn: 0.2195567\ttotal: 4.09s\tremaining: 11.9s\n",
            "255:\tlearn: 0.2194551\ttotal: 4.1s\tremaining: 11.9s\n",
            "256:\tlearn: 0.2192473\ttotal: 4.12s\tremaining: 11.9s\n",
            "257:\tlearn: 0.2191646\ttotal: 4.14s\tremaining: 11.9s\n",
            "258:\tlearn: 0.2189768\ttotal: 4.16s\tremaining: 11.9s\n",
            "259:\tlearn: 0.2186406\ttotal: 4.17s\tremaining: 11.9s\n",
            "260:\tlearn: 0.2184528\ttotal: 4.18s\tremaining: 11.8s\n",
            "261:\tlearn: 0.2183976\ttotal: 4.19s\tremaining: 11.8s\n",
            "262:\tlearn: 0.2182469\ttotal: 4.24s\tremaining: 11.9s\n",
            "263:\tlearn: 0.2181352\ttotal: 4.3s\tremaining: 12s\n",
            "264:\tlearn: 0.2180162\ttotal: 4.33s\tremaining: 12s\n",
            "265:\tlearn: 0.2179742\ttotal: 4.35s\tremaining: 12s\n",
            "266:\tlearn: 0.2177975\ttotal: 4.42s\tremaining: 12.1s\n",
            "267:\tlearn: 0.2176106\ttotal: 4.44s\tremaining: 12.1s\n",
            "268:\tlearn: 0.2175455\ttotal: 4.49s\tremaining: 12.2s\n",
            "269:\tlearn: 0.2173308\ttotal: 4.53s\tremaining: 12.3s\n",
            "270:\tlearn: 0.2172720\ttotal: 4.56s\tremaining: 12.3s\n",
            "271:\tlearn: 0.2171864\ttotal: 4.58s\tremaining: 12.3s\n",
            "272:\tlearn: 0.2168871\ttotal: 4.6s\tremaining: 12.3s\n",
            "273:\tlearn: 0.2168047\ttotal: 4.63s\tremaining: 12.3s\n",
            "274:\tlearn: 0.2166761\ttotal: 4.67s\tremaining: 12.3s\n",
            "275:\tlearn: 0.2163260\ttotal: 4.69s\tremaining: 12.3s\n",
            "276:\tlearn: 0.2162187\ttotal: 4.71s\tremaining: 12.3s\n",
            "277:\tlearn: 0.2161325\ttotal: 4.74s\tremaining: 12.3s\n",
            "278:\tlearn: 0.2159248\ttotal: 4.77s\tremaining: 12.3s\n",
            "279:\tlearn: 0.2156749\ttotal: 4.82s\tremaining: 12.4s\n",
            "280:\tlearn: 0.2155350\ttotal: 4.85s\tremaining: 12.4s\n",
            "281:\tlearn: 0.2153440\ttotal: 4.88s\tremaining: 12.4s\n",
            "282:\tlearn: 0.2152793\ttotal: 4.9s\tremaining: 12.4s\n",
            "283:\tlearn: 0.2151006\ttotal: 4.92s\tremaining: 12.4s\n",
            "284:\tlearn: 0.2149259\ttotal: 4.95s\tremaining: 12.4s\n",
            "285:\tlearn: 0.2148307\ttotal: 4.96s\tremaining: 12.4s\n",
            "286:\tlearn: 0.2146812\ttotal: 4.97s\tremaining: 12.3s\n",
            "287:\tlearn: 0.2142825\ttotal: 4.98s\tremaining: 12.3s\n",
            "288:\tlearn: 0.2141343\ttotal: 5.01s\tremaining: 12.3s\n",
            "289:\tlearn: 0.2139656\ttotal: 5.03s\tremaining: 12.3s\n",
            "290:\tlearn: 0.2137796\ttotal: 5.06s\tremaining: 12.3s\n",
            "291:\tlearn: 0.2137020\ttotal: 5.1s\tremaining: 12.4s\n",
            "292:\tlearn: 0.2132904\ttotal: 5.13s\tremaining: 12.4s\n",
            "293:\tlearn: 0.2130158\ttotal: 5.15s\tremaining: 12.4s\n",
            "294:\tlearn: 0.2125993\ttotal: 5.17s\tremaining: 12.4s\n",
            "295:\tlearn: 0.2123221\ttotal: 5.2s\tremaining: 12.4s\n",
            "296:\tlearn: 0.2122173\ttotal: 5.22s\tremaining: 12.4s\n",
            "297:\tlearn: 0.2120634\ttotal: 5.24s\tremaining: 12.3s\n",
            "298:\tlearn: 0.2118362\ttotal: 5.27s\tremaining: 12.4s\n",
            "299:\tlearn: 0.2116383\ttotal: 5.3s\tremaining: 12.4s\n",
            "300:\tlearn: 0.2115216\ttotal: 5.33s\tremaining: 12.4s\n",
            "301:\tlearn: 0.2114449\ttotal: 5.38s\tremaining: 12.4s\n",
            "302:\tlearn: 0.2113080\ttotal: 5.4s\tremaining: 12.4s\n",
            "303:\tlearn: 0.2111995\ttotal: 5.42s\tremaining: 12.4s\n",
            "304:\tlearn: 0.2111330\ttotal: 5.44s\tremaining: 12.4s\n",
            "305:\tlearn: 0.2110448\ttotal: 5.47s\tremaining: 12.4s\n",
            "306:\tlearn: 0.2109471\ttotal: 5.49s\tremaining: 12.4s\n",
            "307:\tlearn: 0.2108796\ttotal: 5.52s\tremaining: 12.4s\n",
            "308:\tlearn: 0.2104819\ttotal: 5.55s\tremaining: 12.4s\n",
            "309:\tlearn: 0.2103756\ttotal: 5.57s\tremaining: 12.4s\n",
            "310:\tlearn: 0.2102043\ttotal: 5.59s\tremaining: 12.4s\n",
            "311:\tlearn: 0.2099938\ttotal: 5.62s\tremaining: 12.4s\n",
            "312:\tlearn: 0.2098317\ttotal: 5.64s\tremaining: 12.4s\n",
            "313:\tlearn: 0.2097609\ttotal: 5.67s\tremaining: 12.4s\n",
            "314:\tlearn: 0.2096442\ttotal: 5.69s\tremaining: 12.4s\n",
            "315:\tlearn: 0.2095162\ttotal: 5.71s\tremaining: 12.4s\n",
            "316:\tlearn: 0.2094353\ttotal: 5.73s\tremaining: 12.4s\n",
            "317:\tlearn: 0.2093208\ttotal: 5.75s\tremaining: 12.3s\n",
            "318:\tlearn: 0.2091452\ttotal: 5.78s\tremaining: 12.3s\n",
            "319:\tlearn: 0.2090551\ttotal: 5.81s\tremaining: 12.3s\n",
            "320:\tlearn: 0.2088122\ttotal: 5.85s\tremaining: 12.4s\n",
            "321:\tlearn: 0.2087409\ttotal: 5.88s\tremaining: 12.4s\n",
            "322:\tlearn: 0.2086771\ttotal: 5.9s\tremaining: 12.4s\n",
            "323:\tlearn: 0.2084879\ttotal: 5.92s\tremaining: 12.4s\n",
            "324:\tlearn: 0.2083414\ttotal: 5.94s\tremaining: 12.3s\n",
            "325:\tlearn: 0.2081860\ttotal: 5.97s\tremaining: 12.4s\n",
            "326:\tlearn: 0.2080738\ttotal: 6s\tremaining: 12.3s\n",
            "327:\tlearn: 0.2078901\ttotal: 6.02s\tremaining: 12.3s\n",
            "328:\tlearn: 0.2077520\ttotal: 6.04s\tremaining: 12.3s\n",
            "329:\tlearn: 0.2076622\ttotal: 6.07s\tremaining: 12.3s\n",
            "330:\tlearn: 0.2075666\ttotal: 6.09s\tremaining: 12.3s\n",
            "331:\tlearn: 0.2074917\ttotal: 6.12s\tremaining: 12.3s\n",
            "332:\tlearn: 0.2073824\ttotal: 6.13s\tremaining: 12.3s\n",
            "333:\tlearn: 0.2072579\ttotal: 6.16s\tremaining: 12.3s\n",
            "334:\tlearn: 0.2071487\ttotal: 6.18s\tremaining: 12.3s\n",
            "335:\tlearn: 0.2070803\ttotal: 6.2s\tremaining: 12.3s\n",
            "336:\tlearn: 0.2069627\ttotal: 6.24s\tremaining: 12.3s\n",
            "337:\tlearn: 0.2068890\ttotal: 6.26s\tremaining: 12.3s\n",
            "338:\tlearn: 0.2068488\ttotal: 6.29s\tremaining: 12.3s\n",
            "339:\tlearn: 0.2067805\ttotal: 6.31s\tremaining: 12.2s\n",
            "340:\tlearn: 0.2066584\ttotal: 6.33s\tremaining: 12.2s\n",
            "341:\tlearn: 0.2065698\ttotal: 6.35s\tremaining: 12.2s\n",
            "342:\tlearn: 0.2064742\ttotal: 6.38s\tremaining: 12.2s\n",
            "343:\tlearn: 0.2062142\ttotal: 6.4s\tremaining: 12.2s\n",
            "344:\tlearn: 0.2061704\ttotal: 6.42s\tremaining: 12.2s\n",
            "345:\tlearn: 0.2060472\ttotal: 6.45s\tremaining: 12.2s\n",
            "346:\tlearn: 0.2059013\ttotal: 6.46s\tremaining: 12.2s\n",
            "347:\tlearn: 0.2055853\ttotal: 6.47s\tremaining: 12.1s\n",
            "348:\tlearn: 0.2055236\ttotal: 6.48s\tremaining: 12.1s\n",
            "349:\tlearn: 0.2053680\ttotal: 6.49s\tremaining: 12.1s\n",
            "350:\tlearn: 0.2051685\ttotal: 6.5s\tremaining: 12s\n",
            "351:\tlearn: 0.2051133\ttotal: 6.51s\tremaining: 12s\n",
            "352:\tlearn: 0.2050704\ttotal: 6.52s\tremaining: 12s\n",
            "353:\tlearn: 0.2050017\ttotal: 6.53s\tremaining: 11.9s\n",
            "354:\tlearn: 0.2048191\ttotal: 6.54s\tremaining: 11.9s\n",
            "355:\tlearn: 0.2046702\ttotal: 6.56s\tremaining: 11.9s\n",
            "356:\tlearn: 0.2045657\ttotal: 6.57s\tremaining: 11.8s\n",
            "357:\tlearn: 0.2044593\ttotal: 6.58s\tremaining: 11.8s\n",
            "358:\tlearn: 0.2043765\ttotal: 6.59s\tremaining: 11.8s\n",
            "359:\tlearn: 0.2042701\ttotal: 6.61s\tremaining: 11.8s\n",
            "360:\tlearn: 0.2041261\ttotal: 6.63s\tremaining: 11.7s\n",
            "361:\tlearn: 0.2039608\ttotal: 6.65s\tremaining: 11.7s\n",
            "362:\tlearn: 0.2038467\ttotal: 6.66s\tremaining: 11.7s\n",
            "363:\tlearn: 0.2037824\ttotal: 6.68s\tremaining: 11.7s\n",
            "364:\tlearn: 0.2036172\ttotal: 6.7s\tremaining: 11.7s\n",
            "365:\tlearn: 0.2035168\ttotal: 6.71s\tremaining: 11.6s\n",
            "366:\tlearn: 0.2034381\ttotal: 6.73s\tremaining: 11.6s\n",
            "367:\tlearn: 0.2033584\ttotal: 6.74s\tremaining: 11.6s\n",
            "368:\tlearn: 0.2033002\ttotal: 6.75s\tremaining: 11.5s\n",
            "369:\tlearn: 0.2031227\ttotal: 6.79s\tremaining: 11.6s\n",
            "370:\tlearn: 0.2029589\ttotal: 6.83s\tremaining: 11.6s\n",
            "371:\tlearn: 0.2028899\ttotal: 6.86s\tremaining: 11.6s\n",
            "372:\tlearn: 0.2027881\ttotal: 6.88s\tremaining: 11.6s\n",
            "373:\tlearn: 0.2026979\ttotal: 6.9s\tremaining: 11.5s\n",
            "374:\tlearn: 0.2026108\ttotal: 6.91s\tremaining: 11.5s\n",
            "375:\tlearn: 0.2025220\ttotal: 6.93s\tremaining: 11.5s\n",
            "376:\tlearn: 0.2024658\ttotal: 6.94s\tremaining: 11.5s\n",
            "377:\tlearn: 0.2024305\ttotal: 6.95s\tremaining: 11.4s\n",
            "378:\tlearn: 0.2022866\ttotal: 6.96s\tremaining: 11.4s\n",
            "379:\tlearn: 0.2021292\ttotal: 6.97s\tremaining: 11.4s\n",
            "380:\tlearn: 0.2020582\ttotal: 7s\tremaining: 11.4s\n",
            "381:\tlearn: 0.2019909\ttotal: 7.02s\tremaining: 11.4s\n",
            "382:\tlearn: 0.2018405\ttotal: 7.04s\tremaining: 11.3s\n",
            "383:\tlearn: 0.2017620\ttotal: 7.07s\tremaining: 11.3s\n",
            "384:\tlearn: 0.2015948\ttotal: 7.09s\tremaining: 11.3s\n",
            "385:\tlearn: 0.2015416\ttotal: 7.11s\tremaining: 11.3s\n",
            "386:\tlearn: 0.2012720\ttotal: 7.14s\tremaining: 11.3s\n",
            "387:\tlearn: 0.2011312\ttotal: 7.16s\tremaining: 11.3s\n",
            "388:\tlearn: 0.2010631\ttotal: 7.18s\tremaining: 11.3s\n",
            "389:\tlearn: 0.2009189\ttotal: 7.21s\tremaining: 11.3s\n",
            "390:\tlearn: 0.2007435\ttotal: 7.23s\tremaining: 11.3s\n",
            "391:\tlearn: 0.2006913\ttotal: 7.25s\tremaining: 11.2s\n",
            "392:\tlearn: 0.2005726\ttotal: 7.26s\tremaining: 11.2s\n",
            "393:\tlearn: 0.2004843\ttotal: 7.28s\tremaining: 11.2s\n",
            "394:\tlearn: 0.2004409\ttotal: 7.29s\tremaining: 11.2s\n",
            "395:\tlearn: 0.2000592\ttotal: 7.3s\tremaining: 11.1s\n",
            "396:\tlearn: 0.1999370\ttotal: 7.31s\tremaining: 11.1s\n",
            "397:\tlearn: 0.1998655\ttotal: 7.32s\tremaining: 11.1s\n",
            "398:\tlearn: 0.1998045\ttotal: 7.33s\tremaining: 11s\n",
            "399:\tlearn: 0.1997504\ttotal: 7.34s\tremaining: 11s\n",
            "400:\tlearn: 0.1996733\ttotal: 7.35s\tremaining: 11s\n",
            "401:\tlearn: 0.1995999\ttotal: 7.36s\tremaining: 10.9s\n",
            "402:\tlearn: 0.1994750\ttotal: 7.37s\tremaining: 10.9s\n",
            "403:\tlearn: 0.1993290\ttotal: 7.38s\tremaining: 10.9s\n",
            "404:\tlearn: 0.1992489\ttotal: 7.39s\tremaining: 10.9s\n",
            "405:\tlearn: 0.1992173\ttotal: 7.4s\tremaining: 10.8s\n",
            "406:\tlearn: 0.1990695\ttotal: 7.41s\tremaining: 10.8s\n",
            "407:\tlearn: 0.1990287\ttotal: 7.42s\tremaining: 10.8s\n",
            "408:\tlearn: 0.1988881\ttotal: 7.44s\tremaining: 10.7s\n",
            "409:\tlearn: 0.1987844\ttotal: 7.46s\tremaining: 10.7s\n",
            "410:\tlearn: 0.1987348\ttotal: 7.5s\tremaining: 10.7s\n",
            "411:\tlearn: 0.1986721\ttotal: 7.55s\tremaining: 10.8s\n",
            "412:\tlearn: 0.1985239\ttotal: 7.57s\tremaining: 10.8s\n",
            "413:\tlearn: 0.1984765\ttotal: 7.61s\tremaining: 10.8s\n",
            "414:\tlearn: 0.1983145\ttotal: 7.63s\tremaining: 10.7s\n",
            "415:\tlearn: 0.1982187\ttotal: 7.64s\tremaining: 10.7s\n",
            "416:\tlearn: 0.1981782\ttotal: 7.67s\tremaining: 10.7s\n",
            "417:\tlearn: 0.1980538\ttotal: 7.69s\tremaining: 10.7s\n",
            "418:\tlearn: 0.1980256\ttotal: 7.7s\tremaining: 10.7s\n",
            "419:\tlearn: 0.1979197\ttotal: 7.72s\tremaining: 10.7s\n",
            "420:\tlearn: 0.1977991\ttotal: 7.75s\tremaining: 10.7s\n",
            "421:\tlearn: 0.1976949\ttotal: 7.79s\tremaining: 10.7s\n",
            "422:\tlearn: 0.1976311\ttotal: 7.83s\tremaining: 10.7s\n",
            "423:\tlearn: 0.1975136\ttotal: 7.91s\tremaining: 10.7s\n",
            "424:\tlearn: 0.1974428\ttotal: 7.94s\tremaining: 10.7s\n",
            "425:\tlearn: 0.1973918\ttotal: 7.96s\tremaining: 10.7s\n",
            "426:\tlearn: 0.1973334\ttotal: 8s\tremaining: 10.7s\n",
            "427:\tlearn: 0.1972540\ttotal: 8.03s\tremaining: 10.7s\n",
            "428:\tlearn: 0.1971077\ttotal: 8.05s\tremaining: 10.7s\n",
            "429:\tlearn: 0.1969642\ttotal: 8.07s\tremaining: 10.7s\n",
            "430:\tlearn: 0.1968490\ttotal: 8.1s\tremaining: 10.7s\n",
            "431:\tlearn: 0.1967138\ttotal: 8.13s\tremaining: 10.7s\n",
            "432:\tlearn: 0.1966410\ttotal: 8.15s\tremaining: 10.7s\n",
            "433:\tlearn: 0.1965453\ttotal: 8.19s\tremaining: 10.7s\n",
            "434:\tlearn: 0.1964144\ttotal: 8.22s\tremaining: 10.7s\n",
            "435:\tlearn: 0.1963521\ttotal: 8.25s\tremaining: 10.7s\n",
            "436:\tlearn: 0.1963033\ttotal: 8.27s\tremaining: 10.7s\n",
            "437:\tlearn: 0.1962290\ttotal: 8.3s\tremaining: 10.6s\n",
            "438:\tlearn: 0.1961220\ttotal: 8.32s\tremaining: 10.6s\n",
            "439:\tlearn: 0.1960662\ttotal: 8.34s\tremaining: 10.6s\n",
            "440:\tlearn: 0.1960088\ttotal: 8.37s\tremaining: 10.6s\n",
            "441:\tlearn: 0.1958982\ttotal: 8.4s\tremaining: 10.6s\n",
            "442:\tlearn: 0.1957587\ttotal: 8.42s\tremaining: 10.6s\n",
            "443:\tlearn: 0.1956365\ttotal: 8.46s\tremaining: 10.6s\n",
            "444:\tlearn: 0.1955402\ttotal: 8.52s\tremaining: 10.6s\n",
            "445:\tlearn: 0.1954675\ttotal: 8.56s\tremaining: 10.6s\n",
            "446:\tlearn: 0.1953509\ttotal: 8.61s\tremaining: 10.7s\n",
            "447:\tlearn: 0.1951206\ttotal: 8.65s\tremaining: 10.7s\n",
            "448:\tlearn: 0.1950031\ttotal: 8.68s\tremaining: 10.6s\n",
            "449:\tlearn: 0.1947279\ttotal: 8.7s\tremaining: 10.6s\n",
            "450:\tlearn: 0.1946613\ttotal: 8.76s\tremaining: 10.7s\n",
            "451:\tlearn: 0.1945418\ttotal: 8.81s\tremaining: 10.7s\n",
            "452:\tlearn: 0.1944669\ttotal: 8.88s\tremaining: 10.7s\n",
            "453:\tlearn: 0.1943889\ttotal: 8.95s\tremaining: 10.8s\n",
            "454:\tlearn: 0.1942724\ttotal: 9s\tremaining: 10.8s\n",
            "455:\tlearn: 0.1942121\ttotal: 9.03s\tremaining: 10.8s\n",
            "456:\tlearn: 0.1941744\ttotal: 9.07s\tremaining: 10.8s\n",
            "457:\tlearn: 0.1940993\ttotal: 9.13s\tremaining: 10.8s\n",
            "458:\tlearn: 0.1940371\ttotal: 9.16s\tremaining: 10.8s\n",
            "459:\tlearn: 0.1939713\ttotal: 9.2s\tremaining: 10.8s\n",
            "460:\tlearn: 0.1939259\ttotal: 9.24s\tremaining: 10.8s\n",
            "461:\tlearn: 0.1938008\ttotal: 9.28s\tremaining: 10.8s\n",
            "462:\tlearn: 0.1937207\ttotal: 9.31s\tremaining: 10.8s\n",
            "463:\tlearn: 0.1936395\ttotal: 9.35s\tremaining: 10.8s\n",
            "464:\tlearn: 0.1935746\ttotal: 9.38s\tremaining: 10.8s\n",
            "465:\tlearn: 0.1935031\ttotal: 9.45s\tremaining: 10.8s\n",
            "466:\tlearn: 0.1933500\ttotal: 9.53s\tremaining: 10.9s\n",
            "467:\tlearn: 0.1930826\ttotal: 9.59s\tremaining: 10.9s\n",
            "468:\tlearn: 0.1929934\ttotal: 9.66s\tremaining: 10.9s\n",
            "469:\tlearn: 0.1928764\ttotal: 9.71s\tremaining: 11s\n",
            "470:\tlearn: 0.1927300\ttotal: 9.76s\tremaining: 11s\n",
            "471:\tlearn: 0.1926667\ttotal: 9.78s\tremaining: 10.9s\n",
            "472:\tlearn: 0.1925818\ttotal: 9.82s\tremaining: 10.9s\n",
            "473:\tlearn: 0.1925218\ttotal: 9.85s\tremaining: 10.9s\n",
            "474:\tlearn: 0.1924002\ttotal: 9.89s\tremaining: 10.9s\n",
            "475:\tlearn: 0.1923369\ttotal: 9.93s\tremaining: 10.9s\n",
            "476:\tlearn: 0.1921846\ttotal: 9.96s\tremaining: 10.9s\n",
            "477:\tlearn: 0.1919923\ttotal: 10s\tremaining: 10.9s\n",
            "478:\tlearn: 0.1919749\ttotal: 10s\tremaining: 10.9s\n",
            "479:\tlearn: 0.1918838\ttotal: 10.1s\tremaining: 10.9s\n",
            "480:\tlearn: 0.1917803\ttotal: 10.1s\tremaining: 10.9s\n",
            "481:\tlearn: 0.1917151\ttotal: 10.1s\tremaining: 10.9s\n",
            "482:\tlearn: 0.1916368\ttotal: 10.2s\tremaining: 10.9s\n",
            "483:\tlearn: 0.1914096\ttotal: 10.2s\tremaining: 10.9s\n",
            "484:\tlearn: 0.1913687\ttotal: 10.2s\tremaining: 10.9s\n",
            "485:\tlearn: 0.1913120\ttotal: 10.3s\tremaining: 10.9s\n",
            "486:\tlearn: 0.1911929\ttotal: 10.3s\tremaining: 10.9s\n",
            "487:\tlearn: 0.1910798\ttotal: 10.4s\tremaining: 10.9s\n",
            "488:\tlearn: 0.1909984\ttotal: 10.4s\tremaining: 10.9s\n",
            "489:\tlearn: 0.1908913\ttotal: 10.4s\tremaining: 10.9s\n",
            "490:\tlearn: 0.1908402\ttotal: 10.5s\tremaining: 10.9s\n",
            "491:\tlearn: 0.1907707\ttotal: 10.5s\tremaining: 10.9s\n",
            "492:\tlearn: 0.1907176\ttotal: 10.6s\tremaining: 10.9s\n",
            "493:\tlearn: 0.1906060\ttotal: 10.6s\tremaining: 10.9s\n",
            "494:\tlearn: 0.1905527\ttotal: 10.7s\tremaining: 10.9s\n",
            "495:\tlearn: 0.1904970\ttotal: 10.7s\tremaining: 10.9s\n",
            "496:\tlearn: 0.1903105\ttotal: 10.8s\tremaining: 10.9s\n",
            "497:\tlearn: 0.1902571\ttotal: 10.8s\tremaining: 10.9s\n",
            "498:\tlearn: 0.1901535\ttotal: 10.9s\tremaining: 10.9s\n",
            "499:\tlearn: 0.1900493\ttotal: 10.9s\tremaining: 10.9s\n",
            "500:\tlearn: 0.1899901\ttotal: 11s\tremaining: 10.9s\n",
            "501:\tlearn: 0.1899367\ttotal: 11s\tremaining: 10.9s\n",
            "502:\tlearn: 0.1898755\ttotal: 11.1s\tremaining: 10.9s\n",
            "503:\tlearn: 0.1898213\ttotal: 11.1s\tremaining: 10.9s\n",
            "504:\tlearn: 0.1897568\ttotal: 11.1s\tremaining: 10.9s\n",
            "505:\tlearn: 0.1896900\ttotal: 11.2s\tremaining: 10.9s\n",
            "506:\tlearn: 0.1895767\ttotal: 11.2s\tremaining: 10.9s\n",
            "507:\tlearn: 0.1895009\ttotal: 11.2s\tremaining: 10.9s\n",
            "508:\tlearn: 0.1894537\ttotal: 11.3s\tremaining: 10.9s\n",
            "509:\tlearn: 0.1893480\ttotal: 11.3s\tremaining: 10.8s\n",
            "510:\tlearn: 0.1892865\ttotal: 11.3s\tremaining: 10.8s\n",
            "511:\tlearn: 0.1891896\ttotal: 11.4s\tremaining: 10.8s\n",
            "512:\tlearn: 0.1889738\ttotal: 11.4s\tremaining: 10.8s\n",
            "513:\tlearn: 0.1888700\ttotal: 11.5s\tremaining: 10.8s\n",
            "514:\tlearn: 0.1887846\ttotal: 11.5s\tremaining: 10.8s\n",
            "515:\tlearn: 0.1886856\ttotal: 11.5s\tremaining: 10.8s\n",
            "516:\tlearn: 0.1886582\ttotal: 11.6s\tremaining: 10.8s\n",
            "517:\tlearn: 0.1885258\ttotal: 11.6s\tremaining: 10.8s\n",
            "518:\tlearn: 0.1884321\ttotal: 11.6s\tremaining: 10.8s\n",
            "519:\tlearn: 0.1883332\ttotal: 11.7s\tremaining: 10.8s\n",
            "520:\tlearn: 0.1882782\ttotal: 11.7s\tremaining: 10.8s\n",
            "521:\tlearn: 0.1882088\ttotal: 11.8s\tremaining: 10.8s\n",
            "522:\tlearn: 0.1881272\ttotal: 11.8s\tremaining: 10.8s\n",
            "523:\tlearn: 0.1880610\ttotal: 11.8s\tremaining: 10.7s\n",
            "524:\tlearn: 0.1879885\ttotal: 11.9s\tremaining: 10.7s\n",
            "525:\tlearn: 0.1879075\ttotal: 11.9s\tremaining: 10.7s\n",
            "526:\tlearn: 0.1877944\ttotal: 11.9s\tremaining: 10.7s\n",
            "527:\tlearn: 0.1877243\ttotal: 11.9s\tremaining: 10.7s\n",
            "528:\tlearn: 0.1876368\ttotal: 12s\tremaining: 10.7s\n",
            "529:\tlearn: 0.1875735\ttotal: 12s\tremaining: 10.6s\n",
            "530:\tlearn: 0.1875419\ttotal: 12s\tremaining: 10.6s\n",
            "531:\tlearn: 0.1875039\ttotal: 12.1s\tremaining: 10.6s\n",
            "532:\tlearn: 0.1874238\ttotal: 12.1s\tremaining: 10.6s\n",
            "533:\tlearn: 0.1873496\ttotal: 12.1s\tremaining: 10.6s\n",
            "534:\tlearn: 0.1872804\ttotal: 12.1s\tremaining: 10.5s\n",
            "535:\tlearn: 0.1872335\ttotal: 12.1s\tremaining: 10.5s\n",
            "536:\tlearn: 0.1871657\ttotal: 12.1s\tremaining: 10.5s\n",
            "537:\tlearn: 0.1871049\ttotal: 12.2s\tremaining: 10.5s\n",
            "538:\tlearn: 0.1870377\ttotal: 12.2s\tremaining: 10.5s\n",
            "539:\tlearn: 0.1868989\ttotal: 12.3s\tremaining: 10.5s\n",
            "540:\tlearn: 0.1868474\ttotal: 12.3s\tremaining: 10.5s\n",
            "541:\tlearn: 0.1867943\ttotal: 12.4s\tremaining: 10.5s\n",
            "542:\tlearn: 0.1866764\ttotal: 12.5s\tremaining: 10.5s\n",
            "543:\tlearn: 0.1865967\ttotal: 12.6s\tremaining: 10.5s\n",
            "544:\tlearn: 0.1865380\ttotal: 12.6s\tremaining: 10.5s\n",
            "545:\tlearn: 0.1864517\ttotal: 12.7s\tremaining: 10.5s\n",
            "546:\tlearn: 0.1863510\ttotal: 12.7s\tremaining: 10.5s\n",
            "547:\tlearn: 0.1863176\ttotal: 12.8s\tremaining: 10.5s\n",
            "548:\tlearn: 0.1861887\ttotal: 12.8s\tremaining: 10.5s\n",
            "549:\tlearn: 0.1860666\ttotal: 12.9s\tremaining: 10.5s\n",
            "550:\tlearn: 0.1860212\ttotal: 12.9s\tremaining: 10.5s\n",
            "551:\tlearn: 0.1859401\ttotal: 13s\tremaining: 10.5s\n",
            "552:\tlearn: 0.1858728\ttotal: 13s\tremaining: 10.5s\n",
            "553:\tlearn: 0.1857958\ttotal: 13s\tremaining: 10.5s\n",
            "554:\tlearn: 0.1855874\ttotal: 13.1s\tremaining: 10.5s\n",
            "555:\tlearn: 0.1854870\ttotal: 13.1s\tremaining: 10.5s\n",
            "556:\tlearn: 0.1854532\ttotal: 13.1s\tremaining: 10.4s\n",
            "557:\tlearn: 0.1853947\ttotal: 13.1s\tremaining: 10.4s\n",
            "558:\tlearn: 0.1853073\ttotal: 13.2s\tremaining: 10.4s\n",
            "559:\tlearn: 0.1852637\ttotal: 13.2s\tremaining: 10.4s\n",
            "560:\tlearn: 0.1851973\ttotal: 13.3s\tremaining: 10.4s\n",
            "561:\tlearn: 0.1851131\ttotal: 13.3s\tremaining: 10.4s\n",
            "562:\tlearn: 0.1850275\ttotal: 13.4s\tremaining: 10.4s\n",
            "563:\tlearn: 0.1849064\ttotal: 13.4s\tremaining: 10.4s\n",
            "564:\tlearn: 0.1848414\ttotal: 13.5s\tremaining: 10.4s\n",
            "565:\tlearn: 0.1846541\ttotal: 13.5s\tremaining: 10.4s\n",
            "566:\tlearn: 0.1845641\ttotal: 13.6s\tremaining: 10.4s\n",
            "567:\tlearn: 0.1843545\ttotal: 13.6s\tremaining: 10.4s\n",
            "568:\tlearn: 0.1843250\ttotal: 13.7s\tremaining: 10.4s\n",
            "569:\tlearn: 0.1842008\ttotal: 13.7s\tremaining: 10.4s\n",
            "570:\tlearn: 0.1841139\ttotal: 13.8s\tremaining: 10.4s\n",
            "571:\tlearn: 0.1840330\ttotal: 13.8s\tremaining: 10.4s\n",
            "572:\tlearn: 0.1839271\ttotal: 13.9s\tremaining: 10.3s\n",
            "573:\tlearn: 0.1838346\ttotal: 13.9s\tremaining: 10.3s\n",
            "574:\tlearn: 0.1837777\ttotal: 13.9s\tremaining: 10.3s\n",
            "575:\tlearn: 0.1836937\ttotal: 13.9s\tremaining: 10.3s\n",
            "576:\tlearn: 0.1836469\ttotal: 14s\tremaining: 10.2s\n",
            "577:\tlearn: 0.1836244\ttotal: 14s\tremaining: 10.2s\n",
            "578:\tlearn: 0.1835068\ttotal: 14s\tremaining: 10.2s\n",
            "579:\tlearn: 0.1834482\ttotal: 14.1s\tremaining: 10.2s\n",
            "580:\tlearn: 0.1833760\ttotal: 14.1s\tremaining: 10.2s\n",
            "581:\tlearn: 0.1832934\ttotal: 14.1s\tremaining: 10.1s\n",
            "582:\tlearn: 0.1832449\ttotal: 14.1s\tremaining: 10.1s\n",
            "583:\tlearn: 0.1831878\ttotal: 14.2s\tremaining: 10.1s\n",
            "584:\tlearn: 0.1831319\ttotal: 14.2s\tremaining: 10.1s\n",
            "585:\tlearn: 0.1830780\ttotal: 14.2s\tremaining: 10s\n",
            "586:\tlearn: 0.1829844\ttotal: 14.2s\tremaining: 10s\n",
            "587:\tlearn: 0.1829551\ttotal: 14.2s\tremaining: 9.98s\n",
            "588:\tlearn: 0.1828987\ttotal: 14.3s\tremaining: 9.95s\n",
            "589:\tlearn: 0.1828272\ttotal: 14.3s\tremaining: 9.92s\n",
            "590:\tlearn: 0.1827737\ttotal: 14.3s\tremaining: 9.88s\n",
            "591:\tlearn: 0.1827073\ttotal: 14.3s\tremaining: 9.85s\n",
            "592:\tlearn: 0.1825903\ttotal: 14.3s\tremaining: 9.82s\n",
            "593:\tlearn: 0.1825399\ttotal: 14.3s\tremaining: 9.79s\n",
            "594:\tlearn: 0.1824866\ttotal: 14.3s\tremaining: 9.76s\n",
            "595:\tlearn: 0.1824573\ttotal: 14.3s\tremaining: 9.72s\n",
            "596:\tlearn: 0.1823929\ttotal: 14.4s\tremaining: 9.69s\n",
            "597:\tlearn: 0.1823493\ttotal: 14.4s\tremaining: 9.66s\n",
            "598:\tlearn: 0.1822501\ttotal: 14.4s\tremaining: 9.62s\n",
            "599:\tlearn: 0.1821862\ttotal: 14.4s\tremaining: 9.59s\n",
            "600:\tlearn: 0.1821390\ttotal: 14.4s\tremaining: 9.56s\n",
            "601:\tlearn: 0.1820553\ttotal: 14.4s\tremaining: 9.53s\n",
            "602:\tlearn: 0.1819534\ttotal: 14.4s\tremaining: 9.49s\n",
            "603:\tlearn: 0.1818070\ttotal: 14.4s\tremaining: 9.46s\n",
            "604:\tlearn: 0.1817546\ttotal: 14.4s\tremaining: 9.43s\n",
            "605:\tlearn: 0.1816604\ttotal: 14.5s\tremaining: 9.4s\n",
            "606:\tlearn: 0.1815612\ttotal: 14.5s\tremaining: 9.37s\n",
            "607:\tlearn: 0.1814595\ttotal: 14.5s\tremaining: 9.34s\n",
            "608:\tlearn: 0.1814077\ttotal: 14.5s\tremaining: 9.3s\n",
            "609:\tlearn: 0.1813245\ttotal: 14.5s\tremaining: 9.27s\n",
            "610:\tlearn: 0.1812301\ttotal: 14.5s\tremaining: 9.24s\n",
            "611:\tlearn: 0.1811888\ttotal: 14.5s\tremaining: 9.2s\n",
            "612:\tlearn: 0.1811510\ttotal: 14.5s\tremaining: 9.17s\n",
            "613:\tlearn: 0.1811155\ttotal: 14.5s\tremaining: 9.14s\n",
            "614:\tlearn: 0.1810580\ttotal: 14.5s\tremaining: 9.11s\n",
            "615:\tlearn: 0.1810190\ttotal: 14.6s\tremaining: 9.07s\n",
            "616:\tlearn: 0.1809540\ttotal: 14.6s\tremaining: 9.04s\n",
            "617:\tlearn: 0.1809068\ttotal: 14.6s\tremaining: 9.01s\n",
            "618:\tlearn: 0.1808180\ttotal: 14.6s\tremaining: 8.98s\n",
            "619:\tlearn: 0.1806682\ttotal: 14.6s\tremaining: 8.95s\n",
            "620:\tlearn: 0.1805799\ttotal: 14.6s\tremaining: 8.92s\n",
            "621:\tlearn: 0.1805183\ttotal: 14.6s\tremaining: 8.89s\n",
            "622:\tlearn: 0.1804682\ttotal: 14.6s\tremaining: 8.86s\n",
            "623:\tlearn: 0.1804176\ttotal: 14.7s\tremaining: 8.83s\n",
            "624:\tlearn: 0.1803527\ttotal: 14.7s\tremaining: 8.8s\n",
            "625:\tlearn: 0.1803218\ttotal: 14.7s\tremaining: 8.77s\n",
            "626:\tlearn: 0.1802627\ttotal: 14.7s\tremaining: 8.74s\n",
            "627:\tlearn: 0.1802125\ttotal: 14.7s\tremaining: 8.72s\n",
            "628:\tlearn: 0.1801532\ttotal: 14.7s\tremaining: 8.69s\n",
            "629:\tlearn: 0.1800932\ttotal: 14.7s\tremaining: 8.66s\n",
            "630:\tlearn: 0.1800259\ttotal: 14.8s\tremaining: 8.63s\n",
            "631:\tlearn: 0.1798388\ttotal: 14.8s\tremaining: 8.6s\n",
            "632:\tlearn: 0.1797795\ttotal: 14.8s\tremaining: 8.57s\n",
            "633:\tlearn: 0.1797092\ttotal: 14.8s\tremaining: 8.54s\n",
            "634:\tlearn: 0.1796467\ttotal: 14.8s\tremaining: 8.51s\n",
            "635:\tlearn: 0.1795591\ttotal: 14.8s\tremaining: 8.49s\n",
            "636:\tlearn: 0.1794995\ttotal: 14.8s\tremaining: 8.46s\n",
            "637:\tlearn: 0.1794491\ttotal: 14.9s\tremaining: 8.44s\n",
            "638:\tlearn: 0.1793862\ttotal: 14.9s\tremaining: 8.41s\n",
            "639:\tlearn: 0.1793540\ttotal: 14.9s\tremaining: 8.38s\n",
            "640:\tlearn: 0.1792980\ttotal: 14.9s\tremaining: 8.35s\n",
            "641:\tlearn: 0.1792339\ttotal: 14.9s\tremaining: 8.32s\n",
            "642:\tlearn: 0.1791783\ttotal: 14.9s\tremaining: 8.29s\n",
            "643:\tlearn: 0.1791306\ttotal: 14.9s\tremaining: 8.25s\n",
            "644:\tlearn: 0.1790692\ttotal: 14.9s\tremaining: 8.23s\n",
            "645:\tlearn: 0.1789967\ttotal: 15s\tremaining: 8.23s\n",
            "646:\tlearn: 0.1789281\ttotal: 15s\tremaining: 8.21s\n",
            "647:\tlearn: 0.1788887\ttotal: 15.1s\tremaining: 8.19s\n",
            "648:\tlearn: 0.1788335\ttotal: 15.1s\tremaining: 8.16s\n",
            "649:\tlearn: 0.1787686\ttotal: 15.1s\tremaining: 8.14s\n",
            "650:\tlearn: 0.1787026\ttotal: 15.1s\tremaining: 8.11s\n",
            "651:\tlearn: 0.1786448\ttotal: 15.2s\tremaining: 8.09s\n",
            "652:\tlearn: 0.1785635\ttotal: 15.2s\tremaining: 8.07s\n",
            "653:\tlearn: 0.1785176\ttotal: 15.2s\tremaining: 8.05s\n",
            "654:\tlearn: 0.1784625\ttotal: 15.2s\tremaining: 8.02s\n",
            "655:\tlearn: 0.1783836\ttotal: 15.3s\tremaining: 8s\n",
            "656:\tlearn: 0.1783471\ttotal: 15.3s\tremaining: 7.99s\n",
            "657:\tlearn: 0.1783051\ttotal: 15.3s\tremaining: 7.96s\n",
            "658:\tlearn: 0.1782476\ttotal: 15.3s\tremaining: 7.93s\n",
            "659:\tlearn: 0.1781914\ttotal: 15.3s\tremaining: 7.9s\n",
            "660:\tlearn: 0.1781419\ttotal: 15.3s\tremaining: 7.87s\n",
            "661:\tlearn: 0.1780776\ttotal: 15.4s\tremaining: 7.84s\n",
            "662:\tlearn: 0.1779864\ttotal: 15.4s\tremaining: 7.81s\n",
            "663:\tlearn: 0.1779514\ttotal: 15.4s\tremaining: 7.78s\n",
            "664:\tlearn: 0.1778707\ttotal: 15.4s\tremaining: 7.75s\n",
            "665:\tlearn: 0.1778279\ttotal: 15.4s\tremaining: 7.72s\n",
            "666:\tlearn: 0.1777580\ttotal: 15.4s\tremaining: 7.69s\n",
            "667:\tlearn: 0.1777146\ttotal: 15.4s\tremaining: 7.66s\n",
            "668:\tlearn: 0.1776535\ttotal: 15.4s\tremaining: 7.63s\n",
            "669:\tlearn: 0.1775487\ttotal: 15.4s\tremaining: 7.6s\n",
            "670:\tlearn: 0.1775016\ttotal: 15.4s\tremaining: 7.57s\n",
            "671:\tlearn: 0.1774585\ttotal: 15.5s\tremaining: 7.54s\n",
            "672:\tlearn: 0.1774073\ttotal: 15.5s\tremaining: 7.51s\n",
            "673:\tlearn: 0.1773873\ttotal: 15.5s\tremaining: 7.49s\n",
            "674:\tlearn: 0.1773114\ttotal: 15.5s\tremaining: 7.46s\n",
            "675:\tlearn: 0.1772708\ttotal: 15.5s\tremaining: 7.43s\n",
            "676:\tlearn: 0.1771860\ttotal: 15.5s\tremaining: 7.4s\n",
            "677:\tlearn: 0.1771461\ttotal: 15.5s\tremaining: 7.38s\n",
            "678:\tlearn: 0.1770787\ttotal: 15.5s\tremaining: 7.35s\n",
            "679:\tlearn: 0.1770071\ttotal: 15.6s\tremaining: 7.32s\n",
            "680:\tlearn: 0.1769278\ttotal: 15.6s\tremaining: 7.29s\n",
            "681:\tlearn: 0.1768556\ttotal: 15.6s\tremaining: 7.26s\n",
            "682:\tlearn: 0.1768099\ttotal: 15.6s\tremaining: 7.23s\n",
            "683:\tlearn: 0.1767477\ttotal: 15.6s\tremaining: 7.21s\n",
            "684:\tlearn: 0.1766521\ttotal: 15.6s\tremaining: 7.18s\n",
            "685:\tlearn: 0.1765925\ttotal: 15.6s\tremaining: 7.16s\n",
            "686:\tlearn: 0.1765202\ttotal: 15.7s\tremaining: 7.15s\n",
            "687:\tlearn: 0.1764722\ttotal: 15.7s\tremaining: 7.13s\n",
            "688:\tlearn: 0.1763867\ttotal: 15.7s\tremaining: 7.11s\n",
            "689:\tlearn: 0.1763438\ttotal: 15.8s\tremaining: 7.09s\n",
            "690:\tlearn: 0.1762802\ttotal: 15.8s\tremaining: 7.07s\n",
            "691:\tlearn: 0.1762539\ttotal: 15.8s\tremaining: 7.04s\n",
            "692:\tlearn: 0.1761885\ttotal: 15.8s\tremaining: 7.02s\n",
            "693:\tlearn: 0.1761258\ttotal: 15.9s\tremaining: 6.99s\n",
            "694:\tlearn: 0.1760425\ttotal: 15.9s\tremaining: 6.96s\n",
            "695:\tlearn: 0.1760228\ttotal: 15.9s\tremaining: 6.94s\n",
            "696:\tlearn: 0.1759995\ttotal: 15.9s\tremaining: 6.91s\n",
            "697:\tlearn: 0.1759052\ttotal: 15.9s\tremaining: 6.88s\n",
            "698:\tlearn: 0.1758698\ttotal: 15.9s\tremaining: 6.86s\n",
            "699:\tlearn: 0.1758160\ttotal: 16s\tremaining: 6.84s\n",
            "700:\tlearn: 0.1757514\ttotal: 16s\tremaining: 6.82s\n",
            "701:\tlearn: 0.1757305\ttotal: 16s\tremaining: 6.81s\n",
            "702:\tlearn: 0.1756856\ttotal: 16.1s\tremaining: 6.79s\n",
            "703:\tlearn: 0.1756321\ttotal: 16.1s\tremaining: 6.77s\n",
            "704:\tlearn: 0.1755635\ttotal: 16.1s\tremaining: 6.74s\n",
            "705:\tlearn: 0.1755251\ttotal: 16.1s\tremaining: 6.71s\n",
            "706:\tlearn: 0.1754720\ttotal: 16.1s\tremaining: 6.69s\n",
            "707:\tlearn: 0.1753983\ttotal: 16.1s\tremaining: 6.66s\n",
            "708:\tlearn: 0.1753607\ttotal: 16.2s\tremaining: 6.63s\n",
            "709:\tlearn: 0.1753198\ttotal: 16.2s\tremaining: 6.6s\n",
            "710:\tlearn: 0.1752983\ttotal: 16.2s\tremaining: 6.58s\n",
            "711:\tlearn: 0.1752407\ttotal: 16.2s\tremaining: 6.55s\n",
            "712:\tlearn: 0.1751987\ttotal: 16.2s\tremaining: 6.52s\n",
            "713:\tlearn: 0.1751344\ttotal: 16.2s\tremaining: 6.49s\n",
            "714:\tlearn: 0.1750745\ttotal: 16.2s\tremaining: 6.47s\n",
            "715:\tlearn: 0.1750077\ttotal: 16.2s\tremaining: 6.44s\n",
            "716:\tlearn: 0.1749538\ttotal: 16.2s\tremaining: 6.41s\n",
            "717:\tlearn: 0.1749137\ttotal: 16.3s\tremaining: 6.38s\n",
            "718:\tlearn: 0.1748484\ttotal: 16.3s\tremaining: 6.36s\n",
            "719:\tlearn: 0.1747861\ttotal: 16.3s\tremaining: 6.33s\n",
            "720:\tlearn: 0.1747368\ttotal: 16.3s\tremaining: 6.31s\n",
            "721:\tlearn: 0.1746512\ttotal: 16.3s\tremaining: 6.28s\n",
            "722:\tlearn: 0.1746030\ttotal: 16.3s\tremaining: 6.25s\n",
            "723:\tlearn: 0.1745548\ttotal: 16.3s\tremaining: 6.22s\n",
            "724:\tlearn: 0.1745064\ttotal: 16.3s\tremaining: 6.2s\n",
            "725:\tlearn: 0.1744545\ttotal: 16.4s\tremaining: 6.17s\n",
            "726:\tlearn: 0.1743845\ttotal: 16.4s\tremaining: 6.14s\n",
            "727:\tlearn: 0.1743544\ttotal: 16.4s\tremaining: 6.12s\n",
            "728:\tlearn: 0.1742644\ttotal: 16.4s\tremaining: 6.11s\n",
            "729:\tlearn: 0.1741696\ttotal: 16.4s\tremaining: 6.08s\n",
            "730:\tlearn: 0.1741050\ttotal: 16.5s\tremaining: 6.06s\n",
            "731:\tlearn: 0.1740553\ttotal: 16.5s\tremaining: 6.03s\n",
            "732:\tlearn: 0.1739796\ttotal: 16.5s\tremaining: 6s\n",
            "733:\tlearn: 0.1739316\ttotal: 16.5s\tremaining: 5.98s\n",
            "734:\tlearn: 0.1739099\ttotal: 16.5s\tremaining: 5.95s\n",
            "735:\tlearn: 0.1738634\ttotal: 16.5s\tremaining: 5.93s\n",
            "736:\tlearn: 0.1738176\ttotal: 16.6s\tremaining: 5.91s\n",
            "737:\tlearn: 0.1737576\ttotal: 16.6s\tremaining: 5.89s\n",
            "738:\tlearn: 0.1737290\ttotal: 16.6s\tremaining: 5.86s\n",
            "739:\tlearn: 0.1736855\ttotal: 16.6s\tremaining: 5.84s\n",
            "740:\tlearn: 0.1736435\ttotal: 16.6s\tremaining: 5.81s\n",
            "741:\tlearn: 0.1735915\ttotal: 16.6s\tremaining: 5.79s\n",
            "742:\tlearn: 0.1735226\ttotal: 16.7s\tremaining: 5.76s\n",
            "743:\tlearn: 0.1734596\ttotal: 16.7s\tremaining: 5.74s\n",
            "744:\tlearn: 0.1734010\ttotal: 16.7s\tremaining: 5.71s\n",
            "745:\tlearn: 0.1733229\ttotal: 16.7s\tremaining: 5.68s\n",
            "746:\tlearn: 0.1732610\ttotal: 16.7s\tremaining: 5.66s\n",
            "747:\tlearn: 0.1731904\ttotal: 16.8s\tremaining: 5.65s\n",
            "748:\tlearn: 0.1731354\ttotal: 16.8s\tremaining: 5.62s\n",
            "749:\tlearn: 0.1730937\ttotal: 16.8s\tremaining: 5.6s\n",
            "750:\tlearn: 0.1730572\ttotal: 16.9s\tremaining: 5.59s\n",
            "751:\tlearn: 0.1730029\ttotal: 16.9s\tremaining: 5.58s\n",
            "752:\tlearn: 0.1728266\ttotal: 17s\tremaining: 5.57s\n",
            "753:\tlearn: 0.1727737\ttotal: 17s\tremaining: 5.55s\n",
            "754:\tlearn: 0.1727281\ttotal: 17.1s\tremaining: 5.54s\n",
            "755:\tlearn: 0.1726645\ttotal: 17.1s\tremaining: 5.52s\n",
            "756:\tlearn: 0.1726205\ttotal: 17.1s\tremaining: 5.5s\n",
            "757:\tlearn: 0.1725735\ttotal: 17.2s\tremaining: 5.48s\n",
            "758:\tlearn: 0.1725200\ttotal: 17.2s\tremaining: 5.47s\n",
            "759:\tlearn: 0.1724856\ttotal: 17.3s\tremaining: 5.45s\n",
            "760:\tlearn: 0.1724098\ttotal: 17.3s\tremaining: 5.43s\n",
            "761:\tlearn: 0.1723065\ttotal: 17.3s\tremaining: 5.41s\n",
            "762:\tlearn: 0.1722687\ttotal: 17.3s\tremaining: 5.38s\n",
            "763:\tlearn: 0.1722137\ttotal: 17.4s\tremaining: 5.36s\n",
            "764:\tlearn: 0.1721430\ttotal: 17.4s\tremaining: 5.35s\n",
            "765:\tlearn: 0.1720684\ttotal: 17.4s\tremaining: 5.33s\n",
            "766:\tlearn: 0.1720322\ttotal: 17.5s\tremaining: 5.31s\n",
            "767:\tlearn: 0.1719778\ttotal: 17.5s\tremaining: 5.29s\n",
            "768:\tlearn: 0.1719166\ttotal: 17.5s\tremaining: 5.27s\n",
            "769:\tlearn: 0.1718851\ttotal: 17.6s\tremaining: 5.25s\n",
            "770:\tlearn: 0.1717911\ttotal: 17.6s\tremaining: 5.23s\n",
            "771:\tlearn: 0.1717381\ttotal: 17.7s\tremaining: 5.22s\n",
            "772:\tlearn: 0.1716985\ttotal: 17.7s\tremaining: 5.2s\n",
            "773:\tlearn: 0.1716612\ttotal: 17.7s\tremaining: 5.18s\n",
            "774:\tlearn: 0.1716389\ttotal: 17.8s\tremaining: 5.16s\n",
            "775:\tlearn: 0.1715984\ttotal: 17.8s\tremaining: 5.14s\n",
            "776:\tlearn: 0.1715579\ttotal: 17.9s\tremaining: 5.12s\n",
            "777:\tlearn: 0.1715143\ttotal: 17.9s\tremaining: 5.1s\n",
            "778:\tlearn: 0.1714747\ttotal: 17.9s\tremaining: 5.08s\n",
            "779:\tlearn: 0.1714330\ttotal: 17.9s\tremaining: 5.06s\n",
            "780:\tlearn: 0.1713975\ttotal: 18s\tremaining: 5.05s\n",
            "781:\tlearn: 0.1713643\ttotal: 18.1s\tremaining: 5.04s\n",
            "782:\tlearn: 0.1713188\ttotal: 18.1s\tremaining: 5.02s\n",
            "783:\tlearn: 0.1712763\ttotal: 18.1s\tremaining: 5s\n",
            "784:\tlearn: 0.1712363\ttotal: 18.2s\tremaining: 4.98s\n",
            "785:\tlearn: 0.1711716\ttotal: 18.2s\tremaining: 4.96s\n",
            "786:\tlearn: 0.1710851\ttotal: 18.3s\tremaining: 4.94s\n",
            "787:\tlearn: 0.1710364\ttotal: 18.3s\tremaining: 4.93s\n",
            "788:\tlearn: 0.1709862\ttotal: 18.4s\tremaining: 4.92s\n",
            "789:\tlearn: 0.1709347\ttotal: 18.5s\tremaining: 4.91s\n",
            "790:\tlearn: 0.1709066\ttotal: 18.5s\tremaining: 4.89s\n",
            "791:\tlearn: 0.1708680\ttotal: 18.5s\tremaining: 4.87s\n",
            "792:\tlearn: 0.1708235\ttotal: 18.6s\tremaining: 4.85s\n",
            "793:\tlearn: 0.1707569\ttotal: 18.6s\tremaining: 4.83s\n",
            "794:\tlearn: 0.1707030\ttotal: 18.6s\tremaining: 4.81s\n",
            "795:\tlearn: 0.1706191\ttotal: 18.7s\tremaining: 4.78s\n",
            "796:\tlearn: 0.1705628\ttotal: 18.7s\tremaining: 4.75s\n",
            "797:\tlearn: 0.1705076\ttotal: 18.7s\tremaining: 4.73s\n",
            "798:\tlearn: 0.1704703\ttotal: 18.7s\tremaining: 4.71s\n",
            "799:\tlearn: 0.1704167\ttotal: 18.7s\tremaining: 4.68s\n",
            "800:\tlearn: 0.1703539\ttotal: 18.8s\tremaining: 4.66s\n",
            "801:\tlearn: 0.1702876\ttotal: 18.8s\tremaining: 4.64s\n",
            "802:\tlearn: 0.1702239\ttotal: 18.8s\tremaining: 4.62s\n",
            "803:\tlearn: 0.1701555\ttotal: 18.9s\tremaining: 4.6s\n",
            "804:\tlearn: 0.1701068\ttotal: 18.9s\tremaining: 4.58s\n",
            "805:\tlearn: 0.1700545\ttotal: 18.9s\tremaining: 4.56s\n",
            "806:\tlearn: 0.1699981\ttotal: 19s\tremaining: 4.53s\n",
            "807:\tlearn: 0.1699641\ttotal: 19s\tremaining: 4.51s\n",
            "808:\tlearn: 0.1699073\ttotal: 19s\tremaining: 4.49s\n",
            "809:\tlearn: 0.1698645\ttotal: 19.1s\tremaining: 4.47s\n",
            "810:\tlearn: 0.1698143\ttotal: 19.1s\tremaining: 4.45s\n",
            "811:\tlearn: 0.1697686\ttotal: 19.1s\tremaining: 4.42s\n",
            "812:\tlearn: 0.1696665\ttotal: 19.1s\tremaining: 4.4s\n",
            "813:\tlearn: 0.1695997\ttotal: 19.2s\tremaining: 4.38s\n",
            "814:\tlearn: 0.1695520\ttotal: 19.2s\tremaining: 4.36s\n",
            "815:\tlearn: 0.1694815\ttotal: 19.2s\tremaining: 4.34s\n",
            "816:\tlearn: 0.1694304\ttotal: 19.3s\tremaining: 4.32s\n",
            "817:\tlearn: 0.1693633\ttotal: 19.3s\tremaining: 4.3s\n",
            "818:\tlearn: 0.1693148\ttotal: 19.4s\tremaining: 4.28s\n",
            "819:\tlearn: 0.1692241\ttotal: 19.4s\tremaining: 4.26s\n",
            "820:\tlearn: 0.1691332\ttotal: 19.4s\tremaining: 4.24s\n",
            "821:\tlearn: 0.1690842\ttotal: 19.5s\tremaining: 4.22s\n",
            "822:\tlearn: 0.1690372\ttotal: 19.5s\tremaining: 4.2s\n",
            "823:\tlearn: 0.1689962\ttotal: 19.6s\tremaining: 4.18s\n",
            "824:\tlearn: 0.1689460\ttotal: 19.6s\tremaining: 4.16s\n",
            "825:\tlearn: 0.1689096\ttotal: 19.7s\tremaining: 4.14s\n",
            "826:\tlearn: 0.1688552\ttotal: 19.7s\tremaining: 4.12s\n",
            "827:\tlearn: 0.1688102\ttotal: 19.7s\tremaining: 4.1s\n",
            "828:\tlearn: 0.1687682\ttotal: 19.8s\tremaining: 4.08s\n",
            "829:\tlearn: 0.1687265\ttotal: 19.8s\tremaining: 4.06s\n",
            "830:\tlearn: 0.1686431\ttotal: 19.9s\tremaining: 4.04s\n",
            "831:\tlearn: 0.1685447\ttotal: 19.9s\tremaining: 4.02s\n",
            "832:\tlearn: 0.1684940\ttotal: 19.9s\tremaining: 4s\n",
            "833:\tlearn: 0.1684449\ttotal: 20s\tremaining: 3.97s\n",
            "834:\tlearn: 0.1684034\ttotal: 20s\tremaining: 3.95s\n",
            "835:\tlearn: 0.1683427\ttotal: 20s\tremaining: 3.92s\n",
            "836:\tlearn: 0.1683013\ttotal: 20s\tremaining: 3.9s\n",
            "837:\tlearn: 0.1681915\ttotal: 20.1s\tremaining: 3.88s\n",
            "838:\tlearn: 0.1681268\ttotal: 20.1s\tremaining: 3.86s\n",
            "839:\tlearn: 0.1680845\ttotal: 20.2s\tremaining: 3.84s\n",
            "840:\tlearn: 0.1680299\ttotal: 20.2s\tremaining: 3.82s\n",
            "841:\tlearn: 0.1679860\ttotal: 20.2s\tremaining: 3.8s\n",
            "842:\tlearn: 0.1679745\ttotal: 20.3s\tremaining: 3.77s\n",
            "843:\tlearn: 0.1678834\ttotal: 20.3s\tremaining: 3.75s\n",
            "844:\tlearn: 0.1678419\ttotal: 20.3s\tremaining: 3.72s\n",
            "845:\tlearn: 0.1677945\ttotal: 20.3s\tremaining: 3.7s\n",
            "846:\tlearn: 0.1677429\ttotal: 20.3s\tremaining: 3.67s\n",
            "847:\tlearn: 0.1676876\ttotal: 20.3s\tremaining: 3.65s\n",
            "848:\tlearn: 0.1676328\ttotal: 20.4s\tremaining: 3.62s\n",
            "849:\tlearn: 0.1675867\ttotal: 20.4s\tremaining: 3.6s\n",
            "850:\tlearn: 0.1675493\ttotal: 20.4s\tremaining: 3.58s\n",
            "851:\tlearn: 0.1675077\ttotal: 20.5s\tremaining: 3.56s\n",
            "852:\tlearn: 0.1674530\ttotal: 20.5s\tremaining: 3.53s\n",
            "853:\tlearn: 0.1673376\ttotal: 20.5s\tremaining: 3.51s\n",
            "854:\tlearn: 0.1672902\ttotal: 20.6s\tremaining: 3.49s\n",
            "855:\tlearn: 0.1672279\ttotal: 20.6s\tremaining: 3.47s\n",
            "856:\tlearn: 0.1671942\ttotal: 20.7s\tremaining: 3.46s\n",
            "857:\tlearn: 0.1671346\ttotal: 20.7s\tremaining: 3.43s\n",
            "858:\tlearn: 0.1670782\ttotal: 20.8s\tremaining: 3.42s\n",
            "859:\tlearn: 0.1669962\ttotal: 20.9s\tremaining: 3.4s\n",
            "860:\tlearn: 0.1669364\ttotal: 20.9s\tremaining: 3.38s\n",
            "861:\tlearn: 0.1668924\ttotal: 21s\tremaining: 3.36s\n",
            "862:\tlearn: 0.1668298\ttotal: 21s\tremaining: 3.33s\n",
            "863:\tlearn: 0.1668015\ttotal: 21s\tremaining: 3.31s\n",
            "864:\tlearn: 0.1666908\ttotal: 21.1s\tremaining: 3.29s\n",
            "865:\tlearn: 0.1666420\ttotal: 21.1s\tremaining: 3.27s\n",
            "866:\tlearn: 0.1665628\ttotal: 21.1s\tremaining: 3.24s\n",
            "867:\tlearn: 0.1664991\ttotal: 21.2s\tremaining: 3.22s\n",
            "868:\tlearn: 0.1664468\ttotal: 21.2s\tremaining: 3.2s\n",
            "869:\tlearn: 0.1663736\ttotal: 21.2s\tremaining: 3.17s\n",
            "870:\tlearn: 0.1663386\ttotal: 21.3s\tremaining: 3.15s\n",
            "871:\tlearn: 0.1663090\ttotal: 21.3s\tremaining: 3.13s\n",
            "872:\tlearn: 0.1662668\ttotal: 21.3s\tremaining: 3.1s\n",
            "873:\tlearn: 0.1661192\ttotal: 21.3s\tremaining: 3.08s\n",
            "874:\tlearn: 0.1660712\ttotal: 21.4s\tremaining: 3.05s\n",
            "875:\tlearn: 0.1660108\ttotal: 21.4s\tremaining: 3.03s\n",
            "876:\tlearn: 0.1659582\ttotal: 21.5s\tremaining: 3.01s\n",
            "877:\tlearn: 0.1659089\ttotal: 21.5s\tremaining: 2.99s\n",
            "878:\tlearn: 0.1658751\ttotal: 21.6s\tremaining: 2.97s\n",
            "879:\tlearn: 0.1658423\ttotal: 21.7s\tremaining: 2.95s\n",
            "880:\tlearn: 0.1657975\ttotal: 21.7s\tremaining: 2.93s\n",
            "881:\tlearn: 0.1657578\ttotal: 21.8s\tremaining: 2.91s\n",
            "882:\tlearn: 0.1657336\ttotal: 21.8s\tremaining: 2.88s\n",
            "883:\tlearn: 0.1656894\ttotal: 21.8s\tremaining: 2.86s\n",
            "884:\tlearn: 0.1656509\ttotal: 21.9s\tremaining: 2.84s\n",
            "885:\tlearn: 0.1656104\ttotal: 21.9s\tremaining: 2.82s\n",
            "886:\tlearn: 0.1655803\ttotal: 21.9s\tremaining: 2.79s\n",
            "887:\tlearn: 0.1655355\ttotal: 21.9s\tremaining: 2.77s\n",
            "888:\tlearn: 0.1654932\ttotal: 21.9s\tremaining: 2.74s\n",
            "889:\tlearn: 0.1654245\ttotal: 22s\tremaining: 2.71s\n",
            "890:\tlearn: 0.1653240\ttotal: 22s\tremaining: 2.69s\n",
            "891:\tlearn: 0.1652523\ttotal: 22s\tremaining: 2.66s\n",
            "892:\tlearn: 0.1651950\ttotal: 22s\tremaining: 2.64s\n",
            "893:\tlearn: 0.1651281\ttotal: 22s\tremaining: 2.61s\n",
            "894:\tlearn: 0.1650456\ttotal: 22.1s\tremaining: 2.59s\n",
            "895:\tlearn: 0.1649504\ttotal: 22.1s\tremaining: 2.56s\n",
            "896:\tlearn: 0.1648916\ttotal: 22.1s\tremaining: 2.54s\n",
            "897:\tlearn: 0.1648571\ttotal: 22.2s\tremaining: 2.52s\n",
            "898:\tlearn: 0.1648020\ttotal: 22.2s\tremaining: 2.49s\n",
            "899:\tlearn: 0.1647524\ttotal: 22.2s\tremaining: 2.46s\n",
            "900:\tlearn: 0.1646512\ttotal: 22.2s\tremaining: 2.44s\n",
            "901:\tlearn: 0.1646072\ttotal: 22.2s\tremaining: 2.42s\n",
            "902:\tlearn: 0.1645690\ttotal: 22.2s\tremaining: 2.39s\n",
            "903:\tlearn: 0.1644894\ttotal: 22.3s\tremaining: 2.36s\n",
            "904:\tlearn: 0.1644631\ttotal: 22.3s\tremaining: 2.34s\n",
            "905:\tlearn: 0.1644217\ttotal: 22.3s\tremaining: 2.32s\n",
            "906:\tlearn: 0.1643666\ttotal: 22.4s\tremaining: 2.29s\n",
            "907:\tlearn: 0.1643184\ttotal: 22.4s\tremaining: 2.27s\n",
            "908:\tlearn: 0.1643018\ttotal: 22.4s\tremaining: 2.24s\n",
            "909:\tlearn: 0.1642631\ttotal: 22.4s\tremaining: 2.22s\n",
            "910:\tlearn: 0.1642184\ttotal: 22.5s\tremaining: 2.19s\n",
            "911:\tlearn: 0.1641586\ttotal: 22.5s\tremaining: 2.17s\n",
            "912:\tlearn: 0.1641056\ttotal: 22.5s\tremaining: 2.15s\n",
            "913:\tlearn: 0.1640481\ttotal: 22.6s\tremaining: 2.12s\n",
            "914:\tlearn: 0.1640068\ttotal: 22.6s\tremaining: 2.1s\n",
            "915:\tlearn: 0.1639621\ttotal: 22.6s\tremaining: 2.07s\n",
            "916:\tlearn: 0.1639299\ttotal: 22.6s\tremaining: 2.05s\n",
            "917:\tlearn: 0.1638606\ttotal: 22.7s\tremaining: 2.02s\n",
            "918:\tlearn: 0.1638254\ttotal: 22.7s\tremaining: 2s\n",
            "919:\tlearn: 0.1636773\ttotal: 22.7s\tremaining: 1.98s\n",
            "920:\tlearn: 0.1636436\ttotal: 22.8s\tremaining: 1.95s\n",
            "921:\tlearn: 0.1635716\ttotal: 22.8s\tremaining: 1.93s\n",
            "922:\tlearn: 0.1635445\ttotal: 22.9s\tremaining: 1.91s\n",
            "923:\tlearn: 0.1635055\ttotal: 22.9s\tremaining: 1.88s\n",
            "924:\tlearn: 0.1634650\ttotal: 22.9s\tremaining: 1.86s\n",
            "925:\tlearn: 0.1634201\ttotal: 23s\tremaining: 1.84s\n",
            "926:\tlearn: 0.1633851\ttotal: 23s\tremaining: 1.81s\n",
            "927:\tlearn: 0.1633108\ttotal: 23s\tremaining: 1.79s\n",
            "928:\tlearn: 0.1632972\ttotal: 23.1s\tremaining: 1.76s\n",
            "929:\tlearn: 0.1632539\ttotal: 23.1s\tremaining: 1.74s\n",
            "930:\tlearn: 0.1631954\ttotal: 23.1s\tremaining: 1.71s\n",
            "931:\tlearn: 0.1631497\ttotal: 23.2s\tremaining: 1.69s\n",
            "932:\tlearn: 0.1631130\ttotal: 23.2s\tremaining: 1.67s\n",
            "933:\tlearn: 0.1630535\ttotal: 23.3s\tremaining: 1.64s\n",
            "934:\tlearn: 0.1630301\ttotal: 23.3s\tremaining: 1.62s\n",
            "935:\tlearn: 0.1629974\ttotal: 23.4s\tremaining: 1.6s\n",
            "936:\tlearn: 0.1629486\ttotal: 23.4s\tremaining: 1.57s\n",
            "937:\tlearn: 0.1628816\ttotal: 23.4s\tremaining: 1.55s\n",
            "938:\tlearn: 0.1628369\ttotal: 23.5s\tremaining: 1.52s\n",
            "939:\tlearn: 0.1627736\ttotal: 23.5s\tremaining: 1.5s\n",
            "940:\tlearn: 0.1627364\ttotal: 23.5s\tremaining: 1.47s\n",
            "941:\tlearn: 0.1626950\ttotal: 23.5s\tremaining: 1.45s\n",
            "942:\tlearn: 0.1626544\ttotal: 23.6s\tremaining: 1.42s\n",
            "943:\tlearn: 0.1626011\ttotal: 23.6s\tremaining: 1.4s\n",
            "944:\tlearn: 0.1625611\ttotal: 23.6s\tremaining: 1.38s\n",
            "945:\tlearn: 0.1624990\ttotal: 23.7s\tremaining: 1.35s\n",
            "946:\tlearn: 0.1624539\ttotal: 23.7s\tremaining: 1.32s\n",
            "947:\tlearn: 0.1623923\ttotal: 23.7s\tremaining: 1.3s\n",
            "948:\tlearn: 0.1623552\ttotal: 23.8s\tremaining: 1.28s\n",
            "949:\tlearn: 0.1622949\ttotal: 23.8s\tremaining: 1.25s\n",
            "950:\tlearn: 0.1622467\ttotal: 23.9s\tremaining: 1.23s\n",
            "951:\tlearn: 0.1622345\ttotal: 24s\tremaining: 1.21s\n",
            "952:\tlearn: 0.1621781\ttotal: 24s\tremaining: 1.18s\n",
            "953:\tlearn: 0.1621046\ttotal: 24.1s\tremaining: 1.16s\n",
            "954:\tlearn: 0.1620300\ttotal: 24.1s\tremaining: 1.14s\n",
            "955:\tlearn: 0.1619386\ttotal: 24.2s\tremaining: 1.11s\n",
            "956:\tlearn: 0.1618900\ttotal: 24.2s\tremaining: 1.09s\n",
            "957:\tlearn: 0.1618368\ttotal: 24.3s\tremaining: 1.06s\n",
            "958:\tlearn: 0.1618019\ttotal: 24.4s\tremaining: 1.04s\n",
            "959:\tlearn: 0.1617643\ttotal: 24.5s\tremaining: 1.02s\n",
            "960:\tlearn: 0.1617417\ttotal: 24.5s\tremaining: 995ms\n",
            "961:\tlearn: 0.1616659\ttotal: 24.6s\tremaining: 971ms\n",
            "962:\tlearn: 0.1616260\ttotal: 24.7s\tremaining: 947ms\n",
            "963:\tlearn: 0.1615648\ttotal: 24.7s\tremaining: 922ms\n",
            "964:\tlearn: 0.1615297\ttotal: 24.8s\tremaining: 899ms\n",
            "965:\tlearn: 0.1614715\ttotal: 24.8s\tremaining: 874ms\n",
            "966:\tlearn: 0.1614108\ttotal: 24.9s\tremaining: 851ms\n",
            "967:\tlearn: 0.1613622\ttotal: 25s\tremaining: 827ms\n",
            "968:\tlearn: 0.1613240\ttotal: 25.1s\tremaining: 802ms\n",
            "969:\tlearn: 0.1612875\ttotal: 25.1s\tremaining: 776ms\n",
            "970:\tlearn: 0.1612437\ttotal: 25.2s\tremaining: 751ms\n",
            "971:\tlearn: 0.1612038\ttotal: 25.2s\tremaining: 726ms\n",
            "972:\tlearn: 0.1611514\ttotal: 25.3s\tremaining: 702ms\n",
            "973:\tlearn: 0.1611279\ttotal: 25.3s\tremaining: 676ms\n",
            "974:\tlearn: 0.1611036\ttotal: 25.4s\tremaining: 650ms\n",
            "975:\tlearn: 0.1610378\ttotal: 25.4s\tremaining: 624ms\n",
            "976:\tlearn: 0.1609757\ttotal: 25.4s\tremaining: 599ms\n",
            "977:\tlearn: 0.1609302\ttotal: 25.5s\tremaining: 573ms\n",
            "978:\tlearn: 0.1608830\ttotal: 25.5s\tremaining: 547ms\n",
            "979:\tlearn: 0.1608465\ttotal: 25.5s\tremaining: 521ms\n",
            "980:\tlearn: 0.1607919\ttotal: 25.6s\tremaining: 496ms\n",
            "981:\tlearn: 0.1607302\ttotal: 25.6s\tremaining: 470ms\n",
            "982:\tlearn: 0.1606601\ttotal: 25.7s\tremaining: 444ms\n",
            "983:\tlearn: 0.1605956\ttotal: 25.7s\tremaining: 418ms\n",
            "984:\tlearn: 0.1605253\ttotal: 25.7s\tremaining: 392ms\n",
            "985:\tlearn: 0.1604611\ttotal: 25.8s\tremaining: 366ms\n",
            "986:\tlearn: 0.1604329\ttotal: 25.8s\tremaining: 340ms\n",
            "987:\tlearn: 0.1603664\ttotal: 25.9s\tremaining: 314ms\n",
            "988:\tlearn: 0.1603304\ttotal: 25.9s\tremaining: 288ms\n",
            "989:\tlearn: 0.1602878\ttotal: 26s\tremaining: 263ms\n",
            "990:\tlearn: 0.1602507\ttotal: 26.1s\tremaining: 237ms\n",
            "991:\tlearn: 0.1602149\ttotal: 26.2s\tremaining: 211ms\n",
            "992:\tlearn: 0.1601786\ttotal: 26.2s\tremaining: 185ms\n",
            "993:\tlearn: 0.1601133\ttotal: 26.3s\tremaining: 159ms\n",
            "994:\tlearn: 0.1600845\ttotal: 26.3s\tremaining: 132ms\n",
            "995:\tlearn: 0.1600346\ttotal: 26.4s\tremaining: 106ms\n",
            "996:\tlearn: 0.1600102\ttotal: 26.4s\tremaining: 79.6ms\n",
            "997:\tlearn: 0.1599943\ttotal: 26.5s\tremaining: 53.1ms\n",
            "998:\tlearn: 0.1599310\ttotal: 26.6s\tremaining: 26.6ms\n",
            "999:\tlearn: 0.1598795\ttotal: 26.6s\tremaining: 0us\n"
          ]
        },
        {
          "output_type": "execute_result",
          "data": {
            "text/plain": [
              "<catboost.core.CatBoostClassifier at 0x7f52a7933e10>"
            ]
          },
          "metadata": {},
          "execution_count": 53
        }
      ]
    },
    {
      "cell_type": "code",
      "source": [
        "cat_predication=cat_model.predict(X_TEST)\n",
        "report=classification_report(Y_TEST,cat_predication)\n",
        "print(report)"
      ],
      "metadata": {
        "colab": {
          "base_uri": "https://localhost:8080/"
        },
        "id": "2T4I-qmBeqfE",
        "outputId": "447802c8-44ba-4348-9ee9-37b99b66b1d2"
      },
      "execution_count": null,
      "outputs": [
        {
          "output_type": "stream",
          "name": "stdout",
          "text": [
            "              precision    recall  f1-score   support\n",
            "\n",
            "           0       0.93      0.99      0.96      5066\n",
            "           1       0.95      0.72      0.82      1418\n",
            "\n",
            "    accuracy                           0.93      6484\n",
            "   macro avg       0.94      0.85      0.89      6484\n",
            "weighted avg       0.93      0.93      0.93      6484\n",
            "\n"
          ]
        }
      ]
    },
    {
      "cell_type": "code",
      "source": [
        "cat_model.score(X_TEST,Y_TEST)"
      ],
      "metadata": {
        "colab": {
          "base_uri": "https://localhost:8080/"
        },
        "id": "TcegRWXIfHQh",
        "outputId": "543ccfd6-26f9-4b01-811c-4d5b2320b150"
      },
      "execution_count": null,
      "outputs": [
        {
          "output_type": "execute_result",
          "data": {
            "text/plain": [
              "0.9307526218383714"
            ]
          },
          "metadata": {},
          "execution_count": 55
        }
      ]
    },
    {
      "cell_type": "markdown",
      "source": [
        "7.LightGBM"
      ],
      "metadata": {
        "id": "a2FNiboffxUr"
      }
    },
    {
      "cell_type": "code",
      "source": [
        "pip install dask"
      ],
      "metadata": {
        "colab": {
          "base_uri": "https://localhost:8080/"
        },
        "id": "NFviMLtggGFK",
        "outputId": "2ad29a0b-f890-49e2-ec16-f6f2a07cece3",
        "collapsed": true
      },
      "execution_count": null,
      "outputs": [
        {
          "output_type": "stream",
          "name": "stdout",
          "text": [
            "Requirement already satisfied: dask in /usr/local/lib/python3.11/dist-packages (2024.10.0)\n",
            "Requirement already satisfied: click>=8.1 in /usr/local/lib/python3.11/dist-packages (from dask) (8.1.8)\n",
            "Requirement already satisfied: cloudpickle>=3.0.0 in /usr/local/lib/python3.11/dist-packages (from dask) (3.1.0)\n",
            "Requirement already satisfied: fsspec>=2021.09.0 in /usr/local/lib/python3.11/dist-packages (from dask) (2024.10.0)\n",
            "Requirement already satisfied: packaging>=20.0 in /usr/local/lib/python3.11/dist-packages (from dask) (24.2)\n",
            "Requirement already satisfied: partd>=1.4.0 in /usr/local/lib/python3.11/dist-packages (from dask) (1.4.2)\n",
            "Requirement already satisfied: pyyaml>=5.3.1 in /usr/local/lib/python3.11/dist-packages (from dask) (6.0.2)\n",
            "Requirement already satisfied: toolz>=0.10.0 in /usr/local/lib/python3.11/dist-packages (from dask) (0.12.1)\n",
            "Requirement already satisfied: importlib-metadata>=4.13.0 in /usr/local/lib/python3.11/dist-packages (from dask) (8.5.0)\n",
            "Requirement already satisfied: zipp>=3.20 in /usr/local/lib/python3.11/dist-packages (from importlib-metadata>=4.13.0->dask) (3.21.0)\n",
            "Requirement already satisfied: locket in /usr/local/lib/python3.11/dist-packages (from partd>=1.4.0->dask) (1.0.0)\n"
          ]
        }
      ]
    },
    {
      "cell_type": "code",
      "source": [
        "from lightgbm import LGBMClassifier\n",
        "lgbm_model=LGBMClassifier()\n",
        "lgbm_model.fit(X_TRAIN,Y_TRAIN)\n"
      ],
      "metadata": {
        "colab": {
          "base_uri": "https://localhost:8080/",
          "height": 352
        },
        "collapsed": true,
        "id": "NyFYpcaxf5r7",
        "outputId": "010ffe42-4eb9-4985-eb86-d3c571b63576"
      },
      "execution_count": null,
      "outputs": [
        {
          "output_type": "stream",
          "name": "stderr",
          "text": [
            "/usr/local/lib/python3.11/dist-packages/dask/dataframe/__init__.py:42: FutureWarning: \n",
            "Dask dataframe query planning is disabled because dask-expr is not installed.\n",
            "\n",
            "You can install it with `pip install dask[dataframe]` or `conda install dask`.\n",
            "This will raise in a future version.\n",
            "\n",
            "  warnings.warn(msg, FutureWarning)\n"
          ]
        },
        {
          "output_type": "stream",
          "name": "stdout",
          "text": [
            "[LightGBM] [Warning] Found whitespace in feature_names, replace with underlines\n",
            "[LightGBM] [Info] Number of positive: 5671, number of negative: 20261\n",
            "[LightGBM] [Info] Auto-choosing row-wise multi-threading, the overhead of testing was 0.001814 seconds.\n",
            "You can set `force_row_wise=true` to remove the overhead.\n",
            "And if memory is not enough, you can set `force_col_wise=true`.\n",
            "[LightGBM] [Info] Total Bins 901\n",
            "[LightGBM] [Info] Number of data points in the train set: 25932, number of used features: 25\n",
            "[LightGBM] [Info] [binary:BoostFromScore]: pavg=0.218687 -> initscore=-1.273332\n",
            "[LightGBM] [Info] Start training from score -1.273332\n"
          ]
        },
        {
          "output_type": "execute_result",
          "data": {
            "text/plain": [
              "LGBMClassifier()"
            ],
            "text/html": [
              "<style>#sk-container-id-7 {color: black;background-color: white;}#sk-container-id-7 pre{padding: 0;}#sk-container-id-7 div.sk-toggleable {background-color: white;}#sk-container-id-7 label.sk-toggleable__label {cursor: pointer;display: block;width: 100%;margin-bottom: 0;padding: 0.3em;box-sizing: border-box;text-align: center;}#sk-container-id-7 label.sk-toggleable__label-arrow:before {content: \"▸\";float: left;margin-right: 0.25em;color: #696969;}#sk-container-id-7 label.sk-toggleable__label-arrow:hover:before {color: black;}#sk-container-id-7 div.sk-estimator:hover label.sk-toggleable__label-arrow:before {color: black;}#sk-container-id-7 div.sk-toggleable__content {max-height: 0;max-width: 0;overflow: hidden;text-align: left;background-color: #f0f8ff;}#sk-container-id-7 div.sk-toggleable__content pre {margin: 0.2em;color: black;border-radius: 0.25em;background-color: #f0f8ff;}#sk-container-id-7 input.sk-toggleable__control:checked~div.sk-toggleable__content {max-height: 200px;max-width: 100%;overflow: auto;}#sk-container-id-7 input.sk-toggleable__control:checked~label.sk-toggleable__label-arrow:before {content: \"▾\";}#sk-container-id-7 div.sk-estimator input.sk-toggleable__control:checked~label.sk-toggleable__label {background-color: #d4ebff;}#sk-container-id-7 div.sk-label input.sk-toggleable__control:checked~label.sk-toggleable__label {background-color: #d4ebff;}#sk-container-id-7 input.sk-hidden--visually {border: 0;clip: rect(1px 1px 1px 1px);clip: rect(1px, 1px, 1px, 1px);height: 1px;margin: -1px;overflow: hidden;padding: 0;position: absolute;width: 1px;}#sk-container-id-7 div.sk-estimator {font-family: monospace;background-color: #f0f8ff;border: 1px dotted black;border-radius: 0.25em;box-sizing: border-box;margin-bottom: 0.5em;}#sk-container-id-7 div.sk-estimator:hover {background-color: #d4ebff;}#sk-container-id-7 div.sk-parallel-item::after {content: \"\";width: 100%;border-bottom: 1px solid gray;flex-grow: 1;}#sk-container-id-7 div.sk-label:hover label.sk-toggleable__label {background-color: #d4ebff;}#sk-container-id-7 div.sk-serial::before {content: \"\";position: absolute;border-left: 1px solid gray;box-sizing: border-box;top: 0;bottom: 0;left: 50%;z-index: 0;}#sk-container-id-7 div.sk-serial {display: flex;flex-direction: column;align-items: center;background-color: white;padding-right: 0.2em;padding-left: 0.2em;position: relative;}#sk-container-id-7 div.sk-item {position: relative;z-index: 1;}#sk-container-id-7 div.sk-parallel {display: flex;align-items: stretch;justify-content: center;background-color: white;position: relative;}#sk-container-id-7 div.sk-item::before, #sk-container-id-7 div.sk-parallel-item::before {content: \"\";position: absolute;border-left: 1px solid gray;box-sizing: border-box;top: 0;bottom: 0;left: 50%;z-index: -1;}#sk-container-id-7 div.sk-parallel-item {display: flex;flex-direction: column;z-index: 1;position: relative;background-color: white;}#sk-container-id-7 div.sk-parallel-item:first-child::after {align-self: flex-end;width: 50%;}#sk-container-id-7 div.sk-parallel-item:last-child::after {align-self: flex-start;width: 50%;}#sk-container-id-7 div.sk-parallel-item:only-child::after {width: 0;}#sk-container-id-7 div.sk-dashed-wrapped {border: 1px dashed gray;margin: 0 0.4em 0.5em 0.4em;box-sizing: border-box;padding-bottom: 0.4em;background-color: white;}#sk-container-id-7 div.sk-label label {font-family: monospace;font-weight: bold;display: inline-block;line-height: 1.2em;}#sk-container-id-7 div.sk-label-container {text-align: center;}#sk-container-id-7 div.sk-container {/* jupyter's `normalize.less` sets `[hidden] { display: none; }` but bootstrap.min.css set `[hidden] { display: none !important; }` so we also need the `!important` here to be able to override the default hidden behavior on the sphinx rendered scikit-learn.org. See: https://github.com/scikit-learn/scikit-learn/issues/21755 */display: inline-block !important;position: relative;}#sk-container-id-7 div.sk-text-repr-fallback {display: none;}</style><div id=\"sk-container-id-7\" class=\"sk-top-container\"><div class=\"sk-text-repr-fallback\"><pre>LGBMClassifier()</pre><b>In a Jupyter environment, please rerun this cell to show the HTML representation or trust the notebook. <br />On GitHub, the HTML representation is unable to render, please try loading this page with nbviewer.org.</b></div><div class=\"sk-container\" hidden><div class=\"sk-item\"><div class=\"sk-estimator sk-toggleable\"><input class=\"sk-toggleable__control sk-hidden--visually\" id=\"sk-estimator-id-7\" type=\"checkbox\" checked><label for=\"sk-estimator-id-7\" class=\"sk-toggleable__label sk-toggleable__label-arrow\">LGBMClassifier</label><div class=\"sk-toggleable__content\"><pre>LGBMClassifier()</pre></div></div></div></div></div>"
            ]
          },
          "metadata": {},
          "execution_count": 57
        }
      ]
    },
    {
      "cell_type": "code",
      "source": [
        "lgbm_predication=lgbm_model.predict(X_TEST)\n",
        "report=classification_report(Y_TEST,lgbm_predication)\n",
        "print(report)"
      ],
      "metadata": {
        "colab": {
          "base_uri": "https://localhost:8080/"
        },
        "id": "dD3BNQixf-7c",
        "outputId": "599f6b26-5392-4ef7-c54e-ac9f760af411"
      },
      "execution_count": null,
      "outputs": [
        {
          "output_type": "stream",
          "name": "stdout",
          "text": [
            "              precision    recall  f1-score   support\n",
            "\n",
            "           0       0.92      0.99      0.96      5066\n",
            "           1       0.96      0.71      0.82      1418\n",
            "\n",
            "    accuracy                           0.93      6484\n",
            "   macro avg       0.94      0.85      0.89      6484\n",
            "weighted avg       0.93      0.93      0.93      6484\n",
            "\n"
          ]
        }
      ]
    },
    {
      "cell_type": "code",
      "source": [
        "lgbm_model.score(X_TEST,Y_TEST)"
      ],
      "metadata": {
        "colab": {
          "base_uri": "https://localhost:8080/"
        },
        "id": "OMktewN8gm-O",
        "outputId": "6f22ac11-e6e9-437f-bca1-ffcb95d123b7"
      },
      "execution_count": null,
      "outputs": [
        {
          "output_type": "execute_result",
          "data": {
            "text/plain": [
              "0.9305983960518198"
            ]
          },
          "metadata": {},
          "execution_count": 59
        }
      ]
    },
    {
      "cell_type": "markdown",
      "source": [
        "## **PIPELINING**"
      ],
      "metadata": {
        "id": "4WdQ0v3nLpIT"
      }
    },
    {
      "cell_type": "code",
      "source": [
        "from sklearn.compose import ColumnTransformer\n",
        "from sklearn.pipeline import Pipeline\n",
        "from sklearn.experimental import enable_iterative_imputer\n",
        "from sklearn.impute import IterativeImputer"
      ],
      "metadata": {
        "id": "7AQz-ZxGMu5D"
      },
      "execution_count": null,
      "outputs": []
    },
    {
      "cell_type": "code",
      "source": [
        "num_pipe=Pipeline([\n",
        "    ('imputer',IterativeImputer()),\n",
        "    ('scaler',StandardScaler())\n",
        "])"
      ],
      "metadata": {
        "id": "5tNdmiiXNL_Z"
      },
      "execution_count": null,
      "outputs": []
    },
    {
      "cell_type": "code",
      "source": [
        "cat_pipe=Pipeline([\n",
        "    ('encoder',OneHotEncoder(sparse_output=False,handle_unknown='ignore'))\n",
        "])"
      ],
      "metadata": {
        "id": "Als1HIOJNaUG"
      },
      "execution_count": null,
      "outputs": []
    },
    {
      "cell_type": "code",
      "source": [
        "preprocessor=ColumnTransformer([\n",
        "    ('num',num_pipe,num_col),\n",
        "    ('cat',cat_pipe,cat_col)\n",
        "])"
      ],
      "metadata": {
        "id": "2o_GEGKiNi9Z"
      },
      "execution_count": null,
      "outputs": []
    },
    {
      "cell_type": "code",
      "source": [
        "pipeline_model=Pipeline([\n",
        "    ('preprocessor',preprocessor)\n",
        "])"
      ],
      "metadata": {
        "id": "lh8VKO1ZOH5Y"
      },
      "execution_count": null,
      "outputs": []
    },
    {
      "cell_type": "code",
      "source": [
        "pipeline_model\n",
        "\n"
      ],
      "metadata": {
        "colab": {
          "base_uri": "https://localhost:8080/",
          "height": 191
        },
        "id": "j7GprnlZOicS",
        "outputId": "960ed973-f6be-4185-ed28-9c395f45a2c3"
      },
      "execution_count": null,
      "outputs": [
        {
          "output_type": "execute_result",
          "data": {
            "text/plain": [
              "Pipeline(steps=[('preprocessor',\n",
              "                 ColumnTransformer(transformers=[('num',\n",
              "                                                  Pipeline(steps=[('imputer',\n",
              "                                                                   IterativeImputer()),\n",
              "                                                                  ('scaler',\n",
              "                                                                   StandardScaler())]),\n",
              "                                                  ['  person_age',\n",
              "                                                   'person_income',\n",
              "                                                   'person_emp_length',\n",
              "                                                   'loan_amnt', 'loan_int_rate',\n",
              "                                                   'cb_person_cred_hist_length']),\n",
              "                                                 ('cat',\n",
              "                                                  Pipeline(steps=[('encoder',\n",
              "                                                                   OneHotEncoder(handle_unknown='ignore',\n",
              "                                                                                 sparse_output=False))]),\n",
              "                                                  ['person_home_ownership',\n",
              "                                                   'loan_intent', 'loan_grade',\n",
              "                                                   'cb_person_default_on_file'])]))])"
            ],
            "text/html": [
              "<style>#sk-container-id-8 {color: black;background-color: white;}#sk-container-id-8 pre{padding: 0;}#sk-container-id-8 div.sk-toggleable {background-color: white;}#sk-container-id-8 label.sk-toggleable__label {cursor: pointer;display: block;width: 100%;margin-bottom: 0;padding: 0.3em;box-sizing: border-box;text-align: center;}#sk-container-id-8 label.sk-toggleable__label-arrow:before {content: \"▸\";float: left;margin-right: 0.25em;color: #696969;}#sk-container-id-8 label.sk-toggleable__label-arrow:hover:before {color: black;}#sk-container-id-8 div.sk-estimator:hover label.sk-toggleable__label-arrow:before {color: black;}#sk-container-id-8 div.sk-toggleable__content {max-height: 0;max-width: 0;overflow: hidden;text-align: left;background-color: #f0f8ff;}#sk-container-id-8 div.sk-toggleable__content pre {margin: 0.2em;color: black;border-radius: 0.25em;background-color: #f0f8ff;}#sk-container-id-8 input.sk-toggleable__control:checked~div.sk-toggleable__content {max-height: 200px;max-width: 100%;overflow: auto;}#sk-container-id-8 input.sk-toggleable__control:checked~label.sk-toggleable__label-arrow:before {content: \"▾\";}#sk-container-id-8 div.sk-estimator input.sk-toggleable__control:checked~label.sk-toggleable__label {background-color: #d4ebff;}#sk-container-id-8 div.sk-label input.sk-toggleable__control:checked~label.sk-toggleable__label {background-color: #d4ebff;}#sk-container-id-8 input.sk-hidden--visually {border: 0;clip: rect(1px 1px 1px 1px);clip: rect(1px, 1px, 1px, 1px);height: 1px;margin: -1px;overflow: hidden;padding: 0;position: absolute;width: 1px;}#sk-container-id-8 div.sk-estimator {font-family: monospace;background-color: #f0f8ff;border: 1px dotted black;border-radius: 0.25em;box-sizing: border-box;margin-bottom: 0.5em;}#sk-container-id-8 div.sk-estimator:hover {background-color: #d4ebff;}#sk-container-id-8 div.sk-parallel-item::after {content: \"\";width: 100%;border-bottom: 1px solid gray;flex-grow: 1;}#sk-container-id-8 div.sk-label:hover label.sk-toggleable__label {background-color: #d4ebff;}#sk-container-id-8 div.sk-serial::before {content: \"\";position: absolute;border-left: 1px solid gray;box-sizing: border-box;top: 0;bottom: 0;left: 50%;z-index: 0;}#sk-container-id-8 div.sk-serial {display: flex;flex-direction: column;align-items: center;background-color: white;padding-right: 0.2em;padding-left: 0.2em;position: relative;}#sk-container-id-8 div.sk-item {position: relative;z-index: 1;}#sk-container-id-8 div.sk-parallel {display: flex;align-items: stretch;justify-content: center;background-color: white;position: relative;}#sk-container-id-8 div.sk-item::before, #sk-container-id-8 div.sk-parallel-item::before {content: \"\";position: absolute;border-left: 1px solid gray;box-sizing: border-box;top: 0;bottom: 0;left: 50%;z-index: -1;}#sk-container-id-8 div.sk-parallel-item {display: flex;flex-direction: column;z-index: 1;position: relative;background-color: white;}#sk-container-id-8 div.sk-parallel-item:first-child::after {align-self: flex-end;width: 50%;}#sk-container-id-8 div.sk-parallel-item:last-child::after {align-self: flex-start;width: 50%;}#sk-container-id-8 div.sk-parallel-item:only-child::after {width: 0;}#sk-container-id-8 div.sk-dashed-wrapped {border: 1px dashed gray;margin: 0 0.4em 0.5em 0.4em;box-sizing: border-box;padding-bottom: 0.4em;background-color: white;}#sk-container-id-8 div.sk-label label {font-family: monospace;font-weight: bold;display: inline-block;line-height: 1.2em;}#sk-container-id-8 div.sk-label-container {text-align: center;}#sk-container-id-8 div.sk-container {/* jupyter's `normalize.less` sets `[hidden] { display: none; }` but bootstrap.min.css set `[hidden] { display: none !important; }` so we also need the `!important` here to be able to override the default hidden behavior on the sphinx rendered scikit-learn.org. See: https://github.com/scikit-learn/scikit-learn/issues/21755 */display: inline-block !important;position: relative;}#sk-container-id-8 div.sk-text-repr-fallback {display: none;}</style><div id=\"sk-container-id-8\" class=\"sk-top-container\"><div class=\"sk-text-repr-fallback\"><pre>Pipeline(steps=[(&#x27;preprocessor&#x27;,\n",
              "                 ColumnTransformer(transformers=[(&#x27;num&#x27;,\n",
              "                                                  Pipeline(steps=[(&#x27;imputer&#x27;,\n",
              "                                                                   IterativeImputer()),\n",
              "                                                                  (&#x27;scaler&#x27;,\n",
              "                                                                   StandardScaler())]),\n",
              "                                                  [&#x27;  person_age&#x27;,\n",
              "                                                   &#x27;person_income&#x27;,\n",
              "                                                   &#x27;person_emp_length&#x27;,\n",
              "                                                   &#x27;loan_amnt&#x27;, &#x27;loan_int_rate&#x27;,\n",
              "                                                   &#x27;cb_person_cred_hist_length&#x27;]),\n",
              "                                                 (&#x27;cat&#x27;,\n",
              "                                                  Pipeline(steps=[(&#x27;encoder&#x27;,\n",
              "                                                                   OneHotEncoder(handle_unknown=&#x27;ignore&#x27;,\n",
              "                                                                                 sparse_output=False))]),\n",
              "                                                  [&#x27;person_home_ownership&#x27;,\n",
              "                                                   &#x27;loan_intent&#x27;, &#x27;loan_grade&#x27;,\n",
              "                                                   &#x27;cb_person_default_on_file&#x27;])]))])</pre><b>In a Jupyter environment, please rerun this cell to show the HTML representation or trust the notebook. <br />On GitHub, the HTML representation is unable to render, please try loading this page with nbviewer.org.</b></div><div class=\"sk-container\" hidden><div class=\"sk-item sk-dashed-wrapped\"><div class=\"sk-label-container\"><div class=\"sk-label sk-toggleable\"><input class=\"sk-toggleable__control sk-hidden--visually\" id=\"sk-estimator-id-8\" type=\"checkbox\" ><label for=\"sk-estimator-id-8\" class=\"sk-toggleable__label sk-toggleable__label-arrow\">Pipeline</label><div class=\"sk-toggleable__content\"><pre>Pipeline(steps=[(&#x27;preprocessor&#x27;,\n",
              "                 ColumnTransformer(transformers=[(&#x27;num&#x27;,\n",
              "                                                  Pipeline(steps=[(&#x27;imputer&#x27;,\n",
              "                                                                   IterativeImputer()),\n",
              "                                                                  (&#x27;scaler&#x27;,\n",
              "                                                                   StandardScaler())]),\n",
              "                                                  [&#x27;  person_age&#x27;,\n",
              "                                                   &#x27;person_income&#x27;,\n",
              "                                                   &#x27;person_emp_length&#x27;,\n",
              "                                                   &#x27;loan_amnt&#x27;, &#x27;loan_int_rate&#x27;,\n",
              "                                                   &#x27;cb_person_cred_hist_length&#x27;]),\n",
              "                                                 (&#x27;cat&#x27;,\n",
              "                                                  Pipeline(steps=[(&#x27;encoder&#x27;,\n",
              "                                                                   OneHotEncoder(handle_unknown=&#x27;ignore&#x27;,\n",
              "                                                                                 sparse_output=False))]),\n",
              "                                                  [&#x27;person_home_ownership&#x27;,\n",
              "                                                   &#x27;loan_intent&#x27;, &#x27;loan_grade&#x27;,\n",
              "                                                   &#x27;cb_person_default_on_file&#x27;])]))])</pre></div></div></div><div class=\"sk-serial\"><div class=\"sk-item sk-dashed-wrapped\"><div class=\"sk-label-container\"><div class=\"sk-label sk-toggleable\"><input class=\"sk-toggleable__control sk-hidden--visually\" id=\"sk-estimator-id-9\" type=\"checkbox\" ><label for=\"sk-estimator-id-9\" class=\"sk-toggleable__label sk-toggleable__label-arrow\">preprocessor: ColumnTransformer</label><div class=\"sk-toggleable__content\"><pre>ColumnTransformer(transformers=[(&#x27;num&#x27;,\n",
              "                                 Pipeline(steps=[(&#x27;imputer&#x27;,\n",
              "                                                  IterativeImputer()),\n",
              "                                                 (&#x27;scaler&#x27;, StandardScaler())]),\n",
              "                                 [&#x27;  person_age&#x27;, &#x27;person_income&#x27;,\n",
              "                                  &#x27;person_emp_length&#x27;, &#x27;loan_amnt&#x27;,\n",
              "                                  &#x27;loan_int_rate&#x27;,\n",
              "                                  &#x27;cb_person_cred_hist_length&#x27;]),\n",
              "                                (&#x27;cat&#x27;,\n",
              "                                 Pipeline(steps=[(&#x27;encoder&#x27;,\n",
              "                                                  OneHotEncoder(handle_unknown=&#x27;ignore&#x27;,\n",
              "                                                                sparse_output=False))]),\n",
              "                                 [&#x27;person_home_ownership&#x27;, &#x27;loan_intent&#x27;,\n",
              "                                  &#x27;loan_grade&#x27;, &#x27;cb_person_default_on_file&#x27;])])</pre></div></div></div><div class=\"sk-parallel\"><div class=\"sk-parallel-item\"><div class=\"sk-item\"><div class=\"sk-label-container\"><div class=\"sk-label sk-toggleable\"><input class=\"sk-toggleable__control sk-hidden--visually\" id=\"sk-estimator-id-10\" type=\"checkbox\" ><label for=\"sk-estimator-id-10\" class=\"sk-toggleable__label sk-toggleable__label-arrow\">num</label><div class=\"sk-toggleable__content\"><pre>[&#x27;  person_age&#x27;, &#x27;person_income&#x27;, &#x27;person_emp_length&#x27;, &#x27;loan_amnt&#x27;, &#x27;loan_int_rate&#x27;, &#x27;cb_person_cred_hist_length&#x27;]</pre></div></div></div><div class=\"sk-serial\"><div class=\"sk-item\"><div class=\"sk-serial\"><div class=\"sk-item\"><div class=\"sk-estimator sk-toggleable\"><input class=\"sk-toggleable__control sk-hidden--visually\" id=\"sk-estimator-id-11\" type=\"checkbox\" ><label for=\"sk-estimator-id-11\" class=\"sk-toggleable__label sk-toggleable__label-arrow\">IterativeImputer</label><div class=\"sk-toggleable__content\"><pre>IterativeImputer()</pre></div></div></div><div class=\"sk-item\"><div class=\"sk-estimator sk-toggleable\"><input class=\"sk-toggleable__control sk-hidden--visually\" id=\"sk-estimator-id-12\" type=\"checkbox\" ><label for=\"sk-estimator-id-12\" class=\"sk-toggleable__label sk-toggleable__label-arrow\">StandardScaler</label><div class=\"sk-toggleable__content\"><pre>StandardScaler()</pre></div></div></div></div></div></div></div></div><div class=\"sk-parallel-item\"><div class=\"sk-item\"><div class=\"sk-label-container\"><div class=\"sk-label sk-toggleable\"><input class=\"sk-toggleable__control sk-hidden--visually\" id=\"sk-estimator-id-13\" type=\"checkbox\" ><label for=\"sk-estimator-id-13\" class=\"sk-toggleable__label sk-toggleable__label-arrow\">cat</label><div class=\"sk-toggleable__content\"><pre>[&#x27;person_home_ownership&#x27;, &#x27;loan_intent&#x27;, &#x27;loan_grade&#x27;, &#x27;cb_person_default_on_file&#x27;]</pre></div></div></div><div class=\"sk-serial\"><div class=\"sk-item\"><div class=\"sk-serial\"><div class=\"sk-item\"><div class=\"sk-estimator sk-toggleable\"><input class=\"sk-toggleable__control sk-hidden--visually\" id=\"sk-estimator-id-14\" type=\"checkbox\" ><label for=\"sk-estimator-id-14\" class=\"sk-toggleable__label sk-toggleable__label-arrow\">OneHotEncoder</label><div class=\"sk-toggleable__content\"><pre>OneHotEncoder(handle_unknown=&#x27;ignore&#x27;, sparse_output=False)</pre></div></div></div></div></div></div></div></div></div></div></div></div></div></div>"
            ]
          },
          "metadata": {},
          "execution_count": 65
        }
      ]
    },
    {
      "cell_type": "code",
      "source": [
        "from sklearn.svm import SVC\n",
        "from sklearn.model_selection import cross_val_score"
      ],
      "metadata": {
        "id": "CjuyjITFQMf1"
      },
      "execution_count": null,
      "outputs": []
    },
    {
      "cell_type": "code",
      "source": [
        "models={\n",
        "    \"Logistic Regression\":LogisticRegression(random_state=42),\n",
        "    \"SVC\" :SVC(random_state=42),\n",
        "    \"Random Forest\":RandomForestClassifier(random_state=42),\n",
        "    \"Gradient Boosting\":GradientBoostingClassifier(random_state=42),\n",
        "    \"XGBoost\":XGBClassifier(random_state=42),\n",
        "    \"LightGBM\":LGBMClassifier(random_state=42),\n",
        "    \"CatBoost\":CatBoostClassifier(silent=True,random_state=42)\n",
        "}\n"
      ],
      "metadata": {
        "id": "yLOFWMF2P5U-"
      },
      "execution_count": null,
      "outputs": []
    },
    {
      "cell_type": "code",
      "source": [
        "for name , model in models.items():\n",
        "  pipeline=Pipeline([\n",
        "      ('preprocessor',preprocessor),\n",
        "      ('model',model)\n",
        "  ])\n",
        "\n",
        "  cv_scores= cross_val_score(pipeline ,X_TRAIN_PIPE,Y_TRAIN_PIPE,cv=5 , scoring =\"f1\",n_jobs=-1)\n",
        "  print(f\"{name} : {cv_scores.mean()}\")\n"
      ],
      "metadata": {
        "colab": {
          "base_uri": "https://localhost:8080/"
        },
        "id": "FSMKPGnaQ9MK",
        "outputId": "23e9f4cc-c005-4825-f8c4-9891abb9a9e0"
      },
      "execution_count": null,
      "outputs": [
        {
          "output_type": "stream",
          "name": "stdout",
          "text": [
            "Logistic Regression : 0.5684605598324732\n",
            "SVC : 0.7042116444133397\n",
            "Random Forest : 0.7993556212485318\n",
            "Gradient Boosting : 0.774063204515095\n",
            "XGBoost : 0.8227907505451733\n",
            "LightGBM : 0.8196812365291525\n"
          ]
        }
      ]
    },
    {
      "cell_type": "markdown",
      "source": [
        "# **HYPERPARAMETER TUNING**"
      ],
      "metadata": {
        "id": "wcGC_raBjJFB"
      }
    },
    {
      "cell_type": "code",
      "source": [
        "from sklearn.model_selection import RandomizedSearchCV\n",
        "from sklearn.linear_model import LinearRegression\n",
        "from sklearn.neighbors import KNeighborsRegressor\n",
        "from sklearn.ensemble import RandomForestRegressor"
      ],
      "metadata": {
        "id": "PAnGkNekO4Gc"
      },
      "execution_count": null,
      "outputs": []
    },
    {
      "cell_type": "code",
      "source": [
        "\n",
        "models_grid = {\n",
        "    'LGBM': {\n",
        "        'model': LGBMClassifier(class_weight='balanced', random_state=0, n_jobs=-1),\n",
        "        'params': {\n",
        "            'preprocessor__num__imputation__estimator': [LinearRegression(), KNeighborsRegressor()],\n",
        "            'model__n_estimators': [300, 500],\n",
        "            'model__learning_rate': [0.01, 0.05],\n",
        "            'model__boosting_type': ['gbdt', 'dart'],\n",
        "            'model__num_leaves': [31, 50],\n",
        "            'model__max_depth': [7, 10],\n",
        "        }\n",
        "    },\n",
        "    'CatBoost': {\n",
        "        'model': CatBoostClassifier(silent=True, random_state=0),\n",
        "        'params': {\n",
        "            'preprocessor__num__imputation__estimator': [LinearRegression(), KNeighborsRegressor()],\n",
        "            'model__iterations': [200, 300],\n",
        "            'model__learning_rate': [0.05, 0.1],\n",
        "            'model__depth': [6, 8],\n",
        "            'model__l2_leaf_reg': [1, 3],\n",
        "            'model__boosting_type': ['Ordered'],\n",
        "        }\n",
        "    }\n",
        "}"
      ],
      "metadata": {
        "id": "aK6vqbh9O8h-"
      },
      "execution_count": null,
      "outputs": []
    },
    {
      "cell_type": "code",
      "source": [
        "scores=[]\n",
        "for name, model_info in models_grid.items():\n",
        "    pipeline = Pipeline([\n",
        "      ('preprocessor', preprocessor),\n",
        "      ('model', model_info['model'])\n",
        "  ])\n",
        "    rsc =  RandomizedSearchCV(estimator=pipeline , param_distributions=model_info['params'], scoring=\"f1\" , n_jobs=-1 , verbose=3 , n_iter= 5 , random_state=0)\n",
        "\n",
        "    rsc.fit(X_TRAIN_PIPE,Y_TRAIN_PIPE)\n",
        "    scores.append({\n",
        "        'model':name,\n",
        "        'best_score':rsc.best_score_,\n",
        "        'best_params':rsc.best_params_\n",
        "    })\n"
      ],
      "metadata": {
        "id": "PBcFoYN_PC6f"
      },
      "execution_count": null,
      "outputs": []
    }
  ]
}